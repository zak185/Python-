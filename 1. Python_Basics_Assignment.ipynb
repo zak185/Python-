{
 "cells": [
  {
   "cell_type": "markdown",
   "metadata": {
    "id": "gFHZ_tbsVDkJ"
   },
   "source": [
    "#  Basics Questions(Theory Question)"
   ]
  },
  {
   "cell_type": "code",
   "execution_count": null,
   "metadata": {
    "id": "fDUGY7GLBb9j"
   },
   "outputs": [],
   "source": [
    "# Q1-> What is Python, and why is it popular?\n",
    "\n",
    "'''\n",
    "Python is a high-level, interpreted programming language known for its simplicity, readability,\n",
    "and versatility.Created by Guido van Rossum and first released in 1991.\n",
    "\n",
    "here are some reasons why Python is popular:\n",
    "  1. Ease to learn and use\n",
    "  2. versatility\n",
    "  3. Extensive Libraries and Frameworks\n",
    "  4. Cross-platform compatibility and many more.\n",
    "'''"
   ]
  },
  {
   "cell_type": "code",
   "execution_count": null,
   "metadata": {
    "id": "gxs2jZ8DfRUJ"
   },
   "outputs": [],
   "source": [
    "# Q2 => What is an interpreter in Python?\n",
    "'''\n",
    "An interpreter in python is a program that executes python code. Unlike compiled\n",
    "languages,where the code is transformed into machine language before execution,\n",
    "Python code is executed line by line by the interpreter.This allows for more immediate\n",
    "feedback during development,making it easier to test and debug code.\n",
    "'''"
   ]
  },
  {
   "cell_type": "code",
   "execution_count": null,
   "metadata": {
    "id": "fYjVPb4ShZfE"
   },
   "outputs": [],
   "source": [
    "# Q3. =>  What are pre-defined keywords in Python?\n",
    "'''\n",
    "In Python, predefined keywords, also known as reserved keywords, are words that have\n",
    "special meaning and are reseved by the language for specific function or operations.\n",
    "\n",
    "  - False,  await, else, import, pass ,None, break, except, in,\n",
    "    True,   class, finally, is, return,  and, continue, for, lambda,\n",
    "    try, if , elif , or , and many more."
   ]
  },
  {
   "cell_type": "code",
   "execution_count": null,
   "metadata": {
    "id": "IPve-eUdjX0y"
   },
   "outputs": [],
   "source": [
    "# Q4. =>Can keywords be used as variable names?\n",
    "'''\n",
    "No, keywords in python cannot be used as variable names. Keywords are reserved words that have\n",
    "special meaning and function in the python language. Using a keyword as a variable name would\n",
    "cause a syntax error because the interpreter would not be able to distinguish between the keyword's\n",
    "predefined function and the intended use as a variable.\n",
    "'''\n",
    "\n",
    "if = 10 # This is invalid and this will cause a syntax error.\n",
    "my_variable =7 #This is valid variable."
   ]
  },
  {
   "cell_type": "code",
   "execution_count": null,
   "metadata": {
    "id": "9EeLt14kNXgS"
   },
   "outputs": [],
   "source": [
    "# Q5. => What is mutability in Python?\n",
    "'''\n",
    "In python, Mutability refers to whether or not an object's state can be changed after it is\n",
    "created. Objects that can be changed after they are created are called mutable, while objects\n",
    "that cannot be changed are called immutable.\n",
    "  Lists: You can add, remove, or modify elements in a list.\n",
    "  Dictionaries: You can add,removed, or modify key-value pairs.\n",
    "'''\n",
    "\n",
    "my_list = [1,2,45]\n",
    "my_list.append(4)\n",
    "my_list[2] =0"
   ]
  },
  {
   "cell_type": "code",
   "execution_count": null,
   "metadata": {
    "id": "VDlHBgT_P0p9"
   },
   "outputs": [],
   "source": [
    "# Q6. =>  Why are lists mutable, but tuples are immutable?\n",
    "'''\n",
    "Lists: Mutable- List are designed to be dynamic and flexible, allowing for elements to be \\\n",
    "        added, removed, or changed.This makes them very useful for situations where the data needs to\n",
    "        be modified frequently.\n",
    "      Use Case- List are ideal for maintaining collections of items that may need to be updated,\n",
    "       such as a to-do list, a list of user inputs, or any data that requires frequent changes.\n",
    "Tuples: Immutable- Tuples are designed to be immutable, meaning their elements cannot be changed once\n",
    "          they are create. This immutability ensures that the data ramains constant and cannot be altered\n",
    "          accidentally, which can be beneficial for certain applications.\n",
    "        Use Case- Tuples are ideal for representing fixed collections of items, such as coordintes(X,Y)\n",
    "         RGB color values, or any group of values that should not change throughout the program.\n",
    "\n",
    "Design Philosophy: The design of Python emphasizes readability and simplicity.\n",
    "    The distinction between mutable and immutable types helps in creating clear and\n",
    "    predictable code. Mutable types like lists are flexible and easy to work with when\n",
    "    modifications are needed, whereas immutable types like tuples provide safety and integrity\n",
    "    for data that should remain constant.\n",
    "\n",
    "Performance Considerations: Immutable objects can be optimized in ways mutable objects cannot.\n",
    "    For example, the immutability of tuples allows for certain performance improvements,\n",
    "    such as caching and faster access time.\n",
    "'''"
   ]
  },
  {
   "cell_type": "code",
   "execution_count": null,
   "metadata": {
    "id": "CsNaz_hnUxlW"
   },
   "outputs": [],
   "source": [
    "# Q7. =>  What is the difference between “==” and “is” operators in Python\n",
    "'''\n",
    "In python, the == and is operator are used for comparison, but they serve different purposes:\n",
    " 1) '==' Operator:- This operator checks for value equality. It compares the values\n",
    "        of two objects to see if they are equal.\n",
    " 2) 'is' Operator:- This operator checks for identity equality. It compares the memory\n",
    "        addresses of two objects to see if they are same object.\n",
    "'''\n",
    "\n",
    "a = [1,2,4]\n",
    "b = [1,2,4]\n",
    "print(a == b) # True\n",
    "print(a is b) # False"
   ]
  },
  {
   "cell_type": "code",
   "execution_count": null,
   "metadata": {
    "id": "CTiYGUofgRFd"
   },
   "outputs": [],
   "source": [
    "# Q8. => What are logical operators in Python?\n",
    "'''\n",
    "Locial operators in python are used to combine conditional statements. They are\n",
    "essential in makeing decisons and controlling the flow of your programs. Here are the logical\n",
    "operators.\n",
    "          1)and: This operator returns 'True' if both statement are true.\n",
    "          2)or: This operator return 'True' if at leats one of the statements is true.\n",
    "          3)not: This operator return 'True' if the statement is false(it inverts the result).\n",
    "'''\n",
    "x = 5\n",
    "print(x > 3 and x < 10 ) #Output: True  (and)\n",
    "print(x > 3 or x < 10) #Output: True  (or)\n",
    "print(not x > 3) #Output: False (not)"
   ]
  },
  {
   "cell_type": "code",
   "execution_count": null,
   "metadata": {
    "id": "__vzeQCRjXxy"
   },
   "outputs": [],
   "source": [
    "# Q9. =>  What is type casting in Python?\n",
    "'''\n",
    "Type cating in python, also known as type conversion, is the process of converting a\n",
    "variable from one data type to another. This is useful when you need to perform\n",
    "operations that require variables to be of the same data type.\n",
    "\n",
    "1) Implicit type casting: This is performed automaticlly by python when it encounters a\n",
    "    situation where it needs to covert one data type to another.\n",
    "\n",
    "2) Explicit type casting: This is preformed manually by the programmer using bulit in funcuons\n",
    "    like int(), float(), str(), etc.\n",
    "'''\n",
    "\n",
    "x = '10' # string\n",
    "y = 2.5 # float  (implicit)\n",
    "z = int(x) #convert 'x' to interger (Explicit)\n",
    "w = float(x) # convert 'x' to float\n",
    "print(y+w) # output: 12.5"
   ]
  },
  {
   "cell_type": "code",
   "execution_count": null,
   "metadata": {
    "id": "ZloQGvNznGoM"
   },
   "outputs": [],
   "source": [
    "# Q10. => What is the difference between implicit and explicit type casting?\n",
    "'''\n",
    "1) Automatic vs Manual: Impliciat type cating is performed automatically by python,\n",
    "whereas explicit type casting is performed manually by the programmer.\n",
    "\n",
    "2) Control: Expliciat Type casting gives more control to the progrmmer over how and when the\n",
    "conversion occurs.\n",
    "\n",
    "3) Safety: Impliciat type casting is generally safe and prevents data loss, while explicit\n",
    "type casting requries careful handling to avoid errors or data loss.\n",
    "'''"
   ]
  },
  {
   "cell_type": "code",
   "execution_count": null,
   "metadata": {
    "id": "GXtBYLj3pMmv"
   },
   "outputs": [],
   "source": [
    "# Q11. => What is the purpose of conditional statements in Python?\n",
    "'''\n",
    "Conditional statements in python are essential for controlling the flow of your program.\n",
    "They allow your code to make decisions and execute specific actions based on certain\n",
    "conditions.Here are the primary purposes and uses of conditional statements:\n",
    "1) Decision Making : Conditional statement let your program decide what action to\n",
    "      take based on whether a condition is true or false.\n",
    "2) Control Flow: They control the flow of the program by branching into different\n",
    "      paths depending on the conditions.\n",
    "3) Loop Control: Conditional statements are also used within loops to control iteration\n",
    "      and exit conditions.\n",
    "4) Error Handling: They can be used to handle errors and exceptions gracefully\n",
    "      by checking for specific condition and taking appropriate actions.\n",
    "'''"
   ]
  },
  {
   "cell_type": "code",
   "execution_count": null,
   "metadata": {
    "colab": {
     "base_uri": "https://localhost:8080/"
    },
    "id": "YPPR91QwKmyP",
    "outputId": "f0791f2c-375a-490f-bbdc-f45eb88da2e2"
   },
   "outputs": [
    {
     "name": "stdout",
     "output_type": "stream",
     "text": [
      "x is greater than 10 but less than or equal to 20\n"
     ]
    }
   ],
   "source": [
    "# Q12. =>  How does the elif statement work?\n",
    "'''\n",
    "The elif statement in python is used to handle multiple conditions. It stands for\n",
    "'else if' and allows you to check additional conditions if the previous if or (elif)\n",
    "conditions was not true. This helps create more complex decision-making structures\n",
    "in your programs.\n",
    "'''\n",
    "x = 20\n",
    "if x > 20:\n",
    "  print('x is greater than 20')\n",
    "elif x > 10:\n",
    "  print(\"x is greater than 10 but less than or equal to 20\")\n",
    "elif x > 5:\n",
    "  print(\"x is greater than 5 but less than or equal to 10\")\n",
    "else:\n",
    "  print(\"x is 5 or less\")"
   ]
  },
  {
   "cell_type": "code",
   "execution_count": null,
   "metadata": {
    "id": "g0MxWZXeNDaz"
   },
   "outputs": [],
   "source": [
    "# Q13. => What is the difference between for and while loops?\n",
    "'''\n",
    "Iteration Basis:\n",
    "                \"for\":- Iteration over a sequence or a range of numbers.\n",
    "                \"While\":- Continues as long as a spwecified cindition is True.\n",
    "Use Cases:\n",
    "                \"for\":- Best for iterating over a collection of items where the number of\n",
    "                    iterations is predtermined.\n",
    "                \"while\":- Best for situations where the iteration needs to continue until a\n",
    "                    condition is no longer met, which may not be known in advance.\n",
    "'''\n",
    "for in in range(5):\n",
    "  print(i)\n",
    "\n",
    "i = 0\n",
    "while i < 5:\n",
    "  print(i)\n",
    "  i += 1"
   ]
  },
  {
   "cell_type": "code",
   "execution_count": null,
   "metadata": {
    "colab": {
     "base_uri": "https://localhost:8080/"
    },
    "id": "MBX09dGHSmsP",
    "outputId": "8ceea567-1f30-4e07-832e-3aeb444f3071"
   },
   "outputs": [
    {
     "name": "stdout",
     "output_type": "stream",
     "text": [
      "Enter the password: Ashish_saini\n",
      "Incorrect password, Try again. \n",
      "Enter the password: Ashisih\n",
      "Incorrect password, Try again. \n",
      "Enter the password: Ashish_saini_1\n",
      "Password is correct and access is grandted! \n",
      "End of program! \n"
     ]
    }
   ],
   "source": [
    "# Q14. => Describe a scenario where a while loop is more suitable than a for loop?\n",
    "'''\n",
    "A while loop is pariticularly suitable for scenarios where the number of iterations\n",
    "is not known beforehand and depends on a condition that may change during execution.\n",
    "'''\n",
    "# Let understand the scenario where the while loop is best in class:\n",
    "correct_password = \"Ashish_saini_1\"\n",
    "user_input = \"\"\n",
    "while user_input != correct_password:\n",
    "  user_input = input(\"Enter the password: \")\n",
    "  if user_input == correct_password:\n",
    "    print(\"Password is correct and access is grandted! \")\n",
    "  else:\n",
    "    print(\"Incorrect password, Try again. \")\n",
    "print(\"End of program! \")"
   ]
  },
  {
   "cell_type": "markdown",
   "metadata": {
    "id": "pKbL1hsfVBlY"
   },
   "source": [
    "# Practical Questions"
   ]
  },
  {
   "cell_type": "code",
   "execution_count": null,
   "metadata": {
    "colab": {
     "base_uri": "https://localhost:8080/"
    },
    "id": "WwhYcnNbVe2y",
    "outputId": "98809a26-5a2c-4254-f5bd-a7583dc978c6"
   },
   "outputs": [
    {
     "name": "stdout",
     "output_type": "stream",
     "text": [
      "Hello, World!\n"
     ]
    }
   ],
   "source": [
    "# Q1. => Write a Python program to print \"Hello, World!\" ?\n",
    "\n",
    "print(\"Hello, World!\")"
   ]
  },
  {
   "cell_type": "code",
   "execution_count": null,
   "metadata": {
    "colab": {
     "base_uri": "https://localhost:8080/"
    },
    "id": "OOzk2mZbV822",
    "outputId": "23f265bf-9ae1-487f-b5ff-7120f28fa05b"
   },
   "outputs": [
    {
     "name": "stdout",
     "output_type": "stream",
     "text": [
      "Enter your name: Ashish Saini\n",
      "Enter your age: 90\n",
      "My name is Ashish Saini and Age is 90\n"
     ]
    }
   ],
   "source": [
    "# Q2. => 0 Write a Python program that displays your name and age?\n",
    "\n",
    "name = input(\"Enter your name: \")\n",
    "age = int(input(\"Enter your age: \"))\n",
    "print(f\"My name is {name} and Age is {age}\")"
   ]
  },
  {
   "cell_type": "code",
   "execution_count": null,
   "metadata": {
    "colab": {
     "base_uri": "https://localhost:8080/"
    },
    "id": "Lf1R_WFZXz4b",
    "outputId": "d506c2c9-0d3a-4e5b-f68f-c7e58e64ca4b"
   },
   "outputs": [
    {
     "name": "stdout",
     "output_type": "stream",
     "text": [
      "['False', 'None', 'True', 'and', 'as', 'assert', 'async', 'await', 'break', 'class', 'continue', 'def', 'del', 'elif', 'else', 'except', 'finally', 'for', 'from', 'global', 'if', 'import', 'in', 'is', 'lambda', 'nonlocal', 'not', 'or', 'pass', 'raise', 'return', 'try', 'while', 'with', 'yield']\n"
     ]
    }
   ],
   "source": [
    "# Q3. => Write code to print all the pre-defined keywords in Python using the keyword library?\n",
    "import keyword\n",
    "#help(\"keywords\")\n",
    "print(keyword.kwlist)"
   ]
  },
  {
   "cell_type": "code",
   "execution_count": null,
   "metadata": {
    "colab": {
     "base_uri": "https://localhost:8080/"
    },
    "id": "pBva8TZYZBZq",
    "outputId": "8ba1b297-af77-4c91-bdd7-6d746cc63845"
   },
   "outputs": [
    {
     "name": "stdout",
     "output_type": "stream",
     "text": [
      "Enter a word: for\n",
      "for is a python keyword\n"
     ]
    }
   ],
   "source": [
    "# Q4. => Write a program that checks if a given word is a Python keyword?\n",
    "import keyword\n",
    "word = input(\"Enter a word: \")\n",
    "if keyword.iskeyword(word):\n",
    "  print(f\"{word} is a python keyword\")\n",
    "else:\n",
    "  print(f\"{word} is not a python keyword\")"
   ]
  },
  {
   "cell_type": "code",
   "execution_count": null,
   "metadata": {
    "id": "mhYkql8_dwwB"
   },
   "outputs": [],
   "source": [
    "# Q5. => Create a list and tuple in Python, and demonstrate how attempting to change an element works differently for each?\n",
    "\n",
    "# Creating a list\n",
    "m = [1,2,3,4,5]  # list is mutable\n",
    "m[1] = 8\n",
    "print(m) #output is [1,20,3,4,5]\n",
    "\n",
    "t = (1,2,3,4,5,6)\n",
    "t[2] = 90 # 'tuple' object does not support item assignment(tuple is immutable so we did not change element)\n",
    "print(t)"
   ]
  },
  {
   "cell_type": "code",
   "execution_count": null,
   "metadata": {
    "colab": {
     "base_uri": "https://localhost:8080/"
    },
    "id": "eIkg3RI2MpC7",
    "outputId": "8a0dffda-1ebe-418d-be50-2b5d505f02ed"
   },
   "outputs": [
    {
     "name": "stdout",
     "output_type": "stream",
     "text": [
      "before the function call \n",
      "List_a: [1, 2, 3, 4, 5]\n",
      "Integer_a: 5\n",
      "Inside the function \n",
      "List_a: [1, 3, 4, 5]\n",
      "Interger_a: 15\n",
      "After the function call \n",
      "List_a: [1, 3, 4, 5]\n",
      "Integer_a: 5\n"
     ]
    }
   ],
   "source": [
    "# Q6. => Write a function to demonstrate the behavior of mutable and immutable arguments?\n",
    "def mutable_and_immutable(mutable_a, immutable_a):\n",
    "  mutable_a.remove(2) #changes in list and show the behavior of mutablitie\n",
    "\n",
    "  immutable_a += 10 # It is show the behavior of immutabletie\n",
    "  print(\"Inside the function \")\n",
    "  print(f\"List_a: {mutable_a}\")\n",
    "  print(f\"Interger_a: {immutable_a}\")\n",
    "\n",
    "list_a = [1,2,3,4,5]\n",
    "integer_a = 5\n",
    "print(\"before the function call \")\n",
    "print(f\"List_a: {list_a}\")\n",
    "print(f\"Integer_a: {integer_a}\")\n",
    "\n",
    "mutable_and_immutable(list_a, integer_a)\n",
    "\n",
    "print(\"After the function call \")\n",
    "print(f\"List_a: {list_a}\")\n",
    "print(f\"Integer_a: {integer_a}\") # After the function call the integer is not change becouse of the immutable manner\n"
   ]
  },
  {
   "cell_type": "code",
   "execution_count": 1,
   "metadata": {
    "id": "w5gsME_Ul7RE"
   },
   "outputs": [
    {
     "name": "stdin",
     "output_type": "stream",
     "text": [
      "Enter the first number:  5\n",
      "Enter the second number:  7\n"
     ]
    },
    {
     "name": "stdout",
     "output_type": "stream",
     "text": [
      "Select operation:\n",
      "1. Add\n",
      "2. Subtract\n",
      "3. Multiply\n",
      "4. Divide\n"
     ]
    },
    {
     "name": "stdin",
     "output_type": "stream",
     "text": [
      "Enter choice (1/2/3/4):  1\n"
     ]
    },
    {
     "name": "stdout",
     "output_type": "stream",
     "text": [
      "5.0 + 7.0 = 12.0\n"
     ]
    }
   ],
   "source": [
    "# 7. Write a program that performs basic arithmetic operations on two user-input numbers.\n",
    "\n",
    "def arithmetic_calculator():\n",
    "    \"\"\"\n",
    "    A function that takes two numbers as input from the user and performs\n",
    "    basic arithmetic operations (addition, subtraction, multiplication, and division).\n",
    "    \"\"\"\n",
    "    try:\n",
    "        num1 = float(input(\"Enter the first number: \"))\n",
    "        num2 = float(input(\"Enter the second number: \"))\n",
    "    except ValueError:\n",
    "        print(\"Invalid input. Please enter numbers only.\")\n",
    "        return\n",
    "\n",
    "    print(\"Select operation:\")\n",
    "    print(\"1. Add\")\n",
    "    print(\"2. Subtract\")\n",
    "    print(\"3. Multiply\")\n",
    "    print(\"4. Divide\")\n",
    "\n",
    "    choice = input(\"Enter choice (1/2/3/4): \")\n",
    "\n",
    "    if choice == '1':\n",
    "        print(num1, \"+\", num2, \"=\", num1 + num2)\n",
    "    elif choice == '2':\n",
    "        print(num1, \"-\", num2, \"=\", num1 - num2)\n",
    "    elif choice == '3':\n",
    "        print(num1, \"*\", num2, \"=\", num1 * num2)\n",
    "    elif choice == '4':\n",
    "        if num2 == 0:\n",
    "            print(\"Cannot divide by zero.\")\n",
    "        else:\n",
    "            print(num1, \"/\", num2, \"=\", num1 / num2)\n",
    "    else:\n",
    "        print(\"Invalid input. Please enter a valid choice.\")\n",
    "\n",
    "# Call the function\n",
    "if __name__ == \"__main__\":\n",
    "    arithmetic_calculator()\n"
   ]
  },
  {
   "cell_type": "code",
   "execution_count": null,
   "metadata": {
    "id": "0Z6UXEwemLtq"
   },
   "outputs": [],
   "source": [
    "# Q8. => Write a program to demonstrate the use of logical operators.\n",
    "\n",
    "def Logical_op(a,b,c):\n",
    "  if a > b and a > c:\n",
    "    print(f\"a = {a} is greatest number\")\n",
    "  elif a < b and b < c:\n",
    "    print(f\"c = {c} is greatest number \")\n",
    "  elif a < b or a > c:\n",
    "    print(f\"b = {b} is greatest number \")\n",
    "  elif not (a == c):\n",
    "    print(f\"{a} and {c} is not equal\")\n",
    "  else:\n",
    "    pass\n",
    "\n",
    "a =0\n",
    "b =0\n",
    "c =0\n",
    "Logical_op(a,b,c)\n"
   ]
  },
  {
   "cell_type": "code",
   "execution_count": null,
   "metadata": {
    "colab": {
     "base_uri": "https://localhost:8080/"
    },
    "id": "6dxU8csRoWPg",
    "outputId": "8a86e168-0a14-4567-cad1-40129001d726"
   },
   "outputs": [
    {
     "name": "stdout",
     "output_type": "stream",
     "text": [
      "Enter the string = Ashish\n",
      "Invalid input invalid literal for int() with base 10: 'Ashish'. Please enter a valid integer.\n",
      "Invalid input could not convert string to float: 'Ashish'. Please enter a valid float.\n",
      "Integer: None\n",
      "Float: None\n",
      "Boolean: True\n"
     ]
    }
   ],
   "source": [
    "# Q9. => Write a Python program to convert user input from string to integer, float, and boolean types?\n",
    "\n",
    "user_input = input(\"Enter the string = \")\n",
    "# String the integer conversion\n",
    "try:\n",
    "  integer_value = int(user_input)\n",
    "except ValueError as e:\n",
    "  print(f\"Invalid input {e}. Please enter a valid integer.\")\n",
    "  integer_value = None\n",
    "# String the Float conversion\n",
    "try:\n",
    "  float_value = float(user_input)\n",
    "except ValueError as e:\n",
    "  print(f\"Invalid input {e}. Please enter a valid float.\")\n",
    "  float_value = None\n",
    "# String the Boolean conversion\n",
    "boolean_value = bool(user_input)\n",
    "print(f\"Integer: {integer_value}\")\n",
    "print(f\"Float: {float_value}\")\n",
    "print(f\"Boolean: {boolean_value}\")"
   ]
  },
  {
   "cell_type": "code",
   "execution_count": null,
   "metadata": {
    "colab": {
     "base_uri": "https://localhost:8080/"
    },
    "id": "_uoCJpvPsfTB",
    "outputId": "04a268d9-b297-4140-cd64-1d625e2c72d6"
   },
   "outputs": [
    {
     "name": "stdout",
     "output_type": "stream",
     "text": [
      "Original List: [1, 2, 3, 4, 'Hello', ' Ashish', 9.0]\n",
      "Integer list: [1, 2, 3, 4, None, None, 9]\n",
      "Float list: [1.0, 2.0, 3.0, 4.0, None, None, 9.0]\n",
      "String list: ['1', '2', '3', '4', 'Hello', ' Ashish', '9.0']\n"
     ]
    }
   ],
   "source": [
    "# Q10. => Write code to demonstrate type casting with list elements.\n",
    "def Type_casting(list_a):\n",
    "  int_l = []\n",
    "  Float_f =[]\n",
    "  str_s = []\n",
    "\n",
    "  for i in list_a:\n",
    "    # Type Cast in integer Value\n",
    "    try:\n",
    "      int_l.append(int(i))\n",
    "    except ValueError as e:\n",
    "      int_l.append(None) # if the element is not integer then append None\n",
    "    # Type Cast in Float Value\n",
    "    try:\n",
    "      Float_f.append(float(i))\n",
    "    except ValueError as e:\n",
    "      Float_f.append(None) #if the element is not float then append None\n",
    "    #Type Cast in string\n",
    "    str_s.append(str(i)) # in the above condition is not satisfy then the element is string type\n",
    "\n",
    "  print(f\"Original List: {list_a}\")\n",
    "  print(f\"Integer list: {int_l}\")\n",
    "  print(f\"Float list: {Float_f}\")\n",
    "  print(f\"String list: {str_s}\")\n",
    "\n",
    "list_a = [1,2,3,4,'Hello',' Ashish', 9.0]\n",
    "Type_casting(list_a)"
   ]
  },
  {
   "cell_type": "code",
   "execution_count": null,
   "metadata": {
    "colab": {
     "base_uri": "https://localhost:8080/"
    },
    "id": "TuhlDyInwLo7",
    "outputId": "c68e8049-42df-4cae-b9be-8cb3cfd77ab3"
   },
   "outputs": [
    {
     "name": "stdout",
     "output_type": "stream",
     "text": [
      "Enter the number = 0\n",
      "a= 0 is Zero\n"
     ]
    }
   ],
   "source": [
    "# Q11. => Write a program that checks if a number is positive, negative, or zero.\n",
    "def Check_Number(a):\n",
    "  if a > 0:\n",
    "    print(f'{a} is positive number')\n",
    "  elif a < 0:\n",
    "    print(f'{a} is negative number')\n",
    "  else:\n",
    "    print(f'a= {a} is Zero')\n",
    "try:\n",
    "  a = (int(input(\"Enter the number = \")))\n",
    "  Check_Number(a)\n",
    "except ValueError as e:\n",
    "  print(f\"Invalid input {e}. Please enter a valid integer.\")"
   ]
  },
  {
   "cell_type": "code",
   "execution_count": null,
   "metadata": {
    "colab": {
     "base_uri": "https://localhost:8080/"
    },
    "id": "gsV9t6mHz4Oe",
    "outputId": "2614c0aa-4313-4d0d-a339-02a5f615141d"
   },
   "outputs": [
    {
     "name": "stdout",
     "output_type": "stream",
     "text": [
      "No. is = 1\n",
      "No. is = 2\n",
      "No. is = 3\n",
      "No. is = 4\n",
      "No. is = 5\n",
      "No. is = 6\n",
      "No. is = 7\n",
      "No. is = 8\n",
      "No. is = 9\n",
      "No. is = 10\n"
     ]
    }
   ],
   "source": [
    "# Q12. =>  Write a for loop to print numbers from 1 to 10.\n",
    "for i in range(10):\n",
    "  print(f'No. is = {i+1}')"
   ]
  },
  {
   "cell_type": "code",
   "execution_count": null,
   "metadata": {
    "colab": {
     "base_uri": "https://localhost:8080/"
    },
    "id": "Q0lpWqEt0snT",
    "outputId": "3501620b-935a-42bc-e559-b745b880516f"
   },
   "outputs": [
    {
     "name": "stdout",
     "output_type": "stream",
     "text": [
      "Sum of all even numbers between 1 to 50 is = 650\n"
     ]
    }
   ],
   "source": [
    "# Q13. =>  Write a Python program to find the sum of all even numbers between 1 and 50.\n",
    "sum = 0\n",
    "for i in range(1,51):\n",
    "  if i % 2 == 0:\n",
    "    sum += i\n",
    "print(f\"Sum of all even numbers between 1 to 50 is = {sum}\")\n",
    "\n",
    "#Another way to solve same question\n",
    "\n",
    "#sum =0\n",
    "#for i in range(2,51,2):\n",
    "#  sum += i\n",
    "#print(f\"Sum of all even numbers between 1 to 50 is = {sum}\")"
   ]
  },
  {
   "cell_type": "code",
   "execution_count": null,
   "metadata": {
    "colab": {
     "base_uri": "https://localhost:8080/"
    },
    "id": "WJ9Lf8XP3DbI",
    "outputId": "6efcf6b3-50bc-42cb-ae8a-c4dee8df21b9"
   },
   "outputs": [
    {
     "name": "stdout",
     "output_type": "stream",
     "text": [
      "Enter the string = lokendra\n",
      "Revesed string is ardnekol\n"
     ]
    }
   ],
   "source": [
    "# Q14. => Write a program to reverse a string using a while loop.\n",
    "\n",
    "def reverse_string(string):\n",
    "  reversed_string = \"\"\n",
    "  index = len(string) - 1\n",
    "  while index >=0:\n",
    "    reversed_string += string[index]\n",
    "    index -=1\n",
    "  return reversed_string\n",
    "\n",
    "string = input(\"Enter the string = \")\n",
    "rev_str = reverse_string(string)\n",
    "print(f\"Revesed string is {rev_str}\")"
   ]
  },
  {
   "cell_type": "code",
   "execution_count": null,
   "metadata": {
    "colab": {
     "base_uri": "https://localhost:8080/"
    },
    "id": "k-1LyF9F-3ge",
    "outputId": "12868c0e-30aa-4520-9057-4c90ea5b4f7b"
   },
   "outputs": [
    {
     "name": "stdout",
     "output_type": "stream",
     "text": [
      "Enter the number = Ashish\n",
      "invalid literal for int() with base 10: 'Ashish'. Please try again!\n"
     ]
    }
   ],
   "source": [
    "# Q15. => Write a Python program to calculate the factorial of a number provided by the user using a while loop.\n",
    "\n",
    "def fac(n):\n",
    "    factorial = 1\n",
    "    if n < 0:\n",
    "        print(\"Factorial is not defined for negative numbers\")\n",
    "        return None  # Return None for negative numbers\n",
    "    else:\n",
    "        while n > 0:\n",
    "            factorial *= n\n",
    "            n -= 1\n",
    "    return factorial\n",
    "\n",
    "try:\n",
    "    n = int(input(\"Enter the number = \"))\n",
    "    result = fac(n)\n",
    "    if result is not None:\n",
    "        print(f\"Factorial of {n} is {result}\")\n",
    "except ValueError as e:\n",
    "    print(f\"{e}. Please try again!\")\n"
   ]
  }
 ],
 "metadata": {
  "colab": {
   "provenance": []
  },
  "kernelspec": {
   "display_name": "Python 3 (ipykernel)",
   "language": "python",
   "name": "python3"
  },
  "language_info": {
   "codemirror_mode": {
    "name": "ipython",
    "version": 3
   },
   "file_extension": ".py",
   "mimetype": "text/x-python",
   "name": "python",
   "nbconvert_exporter": "python",
   "pygments_lexer": "ipython3",
   "version": "3.12.7"
  }
 },
 "nbformat": 4,
 "nbformat_minor": 4
}
