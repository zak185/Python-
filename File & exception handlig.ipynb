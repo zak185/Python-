{
  "nbformat": 4,
  "nbformat_minor": 0,
  "metadata": {
    "colab": {
      "provenance": []
    },
    "kernelspec": {
      "name": "python3",
      "display_name": "Python 3"
    },
    "language_info": {
      "name": "python"
    }
  },
  "cells": [
    {
      "cell_type": "code",
      "execution_count": null,
      "metadata": {
        "id": "R5Gj_zQLhB4M"
      },
      "outputs": [],
      "source": []
    },
    {
      "cell_type": "markdown",
      "source": [],
      "metadata": {
        "id": "zOFztmRjbwJd"
      }
    },
    {
      "cell_type": "markdown",
      "source": [
        "#    1 . What is the difference between interpreted and compiled languages\n",
        "\n",
        "Compiled Languages\n",
        "\n",
        "Definition: The code you write is translated (compiled) into machine code before running.\n",
        "\n",
        "Examples: C, C++, Rust, Go.\n",
        "\n",
        "Process:\n",
        "\n",
        "You write source code (program.c).\n",
        "\n",
        "A compiler translates it into an executable file (program.exe).\n",
        "\n",
        "You run the executable directly.\n",
        "\n",
        "Pros:\n",
        "\n",
        "Very fast execution (because it’s already machine code).\n",
        "\n",
        "Errors are usually caught at compile-time before running.\n",
        "\n",
        "Cons:\n",
        "\n",
        "Compilation takes time.\n",
        "\n",
        "Less portable (compiled code may only run on one system/architecture).\n",
        "\n",
        "Interpreted Languages\n",
        "\n",
        "Definition: The code is executed line by line by an interpreter at runtime, without a separate compilation step.\n",
        "\n",
        "Examples: Python, JavaScript, PHP, Ruby.\n",
        "\n",
        "Process:\n",
        "\n",
        "You write source code (script.py).\n",
        "\n",
        "The interpreter reads and executes it directly.\n",
        "\n",
        "Pros:\n",
        "\n",
        "Easier to test and debug (just run the code directly).\n",
        "\n",
        "Portable across systems (only need the interpreter).\n",
        "\n",
        "Cons:\n",
        "\n",
        "Slower execution (since code is translated on the fly).\n",
        "\n",
        "Some errors show up only when that line of code is executed.\n",
        "\n",
        "Quick Analogy\n",
        "\n",
        "Compiled language: Like translating a whole book into Hindi before giving it to someone — once translated, they can read it super fast.\n",
        "\n",
        "Interpreted language: Like having a translator read the book to you line by line in Hindi as you go — slower, but you don’t need the whole book translated first."
      ],
      "metadata": {
        "id": "QaKC9PAkhDod"
      }
    },
    {
      "cell_type": "markdown",
      "source": [
        "#    2.What is exception handling in Python\n",
        "\n",
        "  Exception Handling in Python  \n",
        "\n",
        "\n",
        "An exception is an error that occurs while a program is running.\n",
        "\n",
        "Example: dividing by zero, accessing a variable that doesn’t exist, wrong data type, etc.  \n",
        "🔹 What is Exception Handling?\n",
        "\n",
        "Exception handling means catching errors so that the program doesn’t crash unexpectedly.  \n",
        "\n",
        "In Python, we use try, except, else, and finally blocks."
      ],
      "metadata": {
        "id": "3mSB0gJ7hVoY"
      }
    },
    {
      "cell_type": "markdown",
      "source": [
        "#    3.What is the purpose of the finally block in exception handling\n",
        "\n",
        "Purpose of the finally Block in Exception Handling\n",
        "\n",
        "The finally block is used to put code that must run no matter what happens – whether an exception occurs or not.\n",
        "\n",
        "Commonly used for cleanup activities (closing files, releasing resources, disconnecting from a database, etc.).\n",
        "\n",
        "🔹 Key Points\n",
        "\n",
        "The finally block always runs:\n",
        "\n",
        "If there is no exception ✅\n",
        "\n",
        "If an exception is handled ✅\n",
        "\n",
        "If an exception is not handled ✅\n",
        "\n",
        "Only one case where it might not run: if the program is forcefully stopped (os._exit(), power failure, etc.).\n",
        "\n",
        "👉 In short:\n",
        "The purpose of the finally block is to guarantee that important cleanup code always executes, regardless of success or failure of the try block."
      ],
      "metadata": {
        "id": "G9b2uL9ViIIS"
      }
    },
    {
      "cell_type": "markdown",
      "source": [
        "#    4.What is logging in Python\n",
        "\n",
        "   In Python, logging is the process of recording events, messages, and information that happen while a program is running.\n",
        "\n",
        "Instead of using print() (which is temporary and not flexible), Python provides the logging module, which is powerful and configurable.\n",
        "\n",
        "🔑 Why use logging?\n",
        "\n",
        "Helps debug and monitor applications.\n",
        "\n",
        "Can record messages with different severity levels (info, warning, error).\n",
        "\n",
        "Can save logs to a file instead of just showing them on screen.\n",
        "\n",
        "Useful in production environments where print() isn’t practical.\n",
        "\n",
        "✅ In short:\n",
        "\n",
        "Logging is a systematic way to track what’s happening in your program.\n",
        "\n",
        "Better than print() because it supports levels, formatting, and saving logs."
      ],
      "metadata": {
        "id": "mrCnpOyIiodJ"
      }
    },
    {
      "cell_type": "markdown",
      "source": [
        "#    5.What is the significance of the __del__ method in Python\n",
        "\n",
        " The __del__ method is a special method in Python known as a destructor. It is automatically called when an object is about to be destroyed, meaning when it's about to be removed from memory because there are no more references to it.\n",
        "\n",
        "📌 Significance of __del__:\n",
        "\n",
        "Cleanup actions: It’s used to perform cleanup tasks like:\n",
        "\n",
        "Closing files or network connections.\n",
        "\n",
        "Releasing resources (memory, locks, etc.).\n",
        "\n",
        "Logging information before the object is destroyed.\n",
        "\n",
        "Automatic execution: Python’s garbage collector calls this method when the object’s reference count drops to zero.\n",
        "\n",
        "Not always guaranteed: The exact time when __del__ is called depends on Python’s memory management, so it's not always deterministic.\n",
        "\n",
        "Summary:\n",
        "\n",
        "__del__ is called when an object is about to be destroyed.\n",
        "\n",
        "It helps clean up resources like files, network connections, etc.\n",
        "\n",
        "It's useful but not always reliable for critical operations.\n",
        "\n",
        "Context managers are a safer alternative for resource cleanup."
      ],
      "metadata": {
        "id": "PcPiTqcQcQW3"
      }
    },
    {
      "cell_type": "markdown",
      "source": [
        "#    6.What is the difference between import and from ... import in Python\n",
        "\n",
        "  In Python, both import and from ... import are used to bring code from one module into another, but they work differently and serve slightly different purposes. Here's a detailed comparison:\n",
        "\n",
        "✅ 1. import\n",
        "\n",
        "This statement imports the entire module.\n",
        "\n",
        "Syntax:\n",
        "\n",
        "import module_name\n",
        "\n",
        "Key Points:\n",
        "\n",
        "The whole module is imported.\n",
        "\n",
        "To access functions, classes, or variables inside the module, you need to prefix them with the module name (math.sqrt()).\n",
        "\n",
        "Avoids name conflicts because the module name acts as a namespace.\n",
        "\n",
        "✅ 2. from ... import\n",
        "\n",
        "This statement imports specific attributes (functions, classes, or variables) from a module.\n",
        "\n",
        "Syntax:\n",
        "\n",
        "from module_name import specific_function_or_class\n",
        "\n",
        "Key Points:\n",
        "\n",
        "You can directly use the imported attribute without the module name prefix.\n",
        "\n",
        "It's concise and convenient when you only need a few parts of the module.\n",
        "\n",
        "There is a risk of name conflicts if multiple imported functions or variables have the same name.\n",
        "\n",
        "✅ 3. from ... import *\n",
        "\n",
        "Key Points:\n",
        "\n",
        "It's less safe because it can overwrite existing names in the current scope.\n",
        "\n",
        "It's not recommended unless you're sure there won't be conflicts or you're in an interactive session."
      ],
      "metadata": {
        "id": "2HqzeqBfcdhg"
      }
    },
    {
      "cell_type": "markdown",
      "source": [
        "    7.How can you handle multiple exceptions in Python\n",
        "\n",
        "    In Python, you can handle multiple exceptions in different ways depending on how you want to structure your error handling. Here’s an easy explanation with examples!\n",
        "\n",
        "✅ 1. Handling multiple exceptions in one except block\n",
        "\n",
        "You can catch several exceptions together by grouping them inside parentheses.\n",
        "\n"
      ],
      "metadata": {
        "id": "e0XDYqdNiWKd"
      }
    },
    {
      "cell_type": "code",
      "source": [
        "try:\n",
        "    value = int(input(\"Enter a number: \"))\n",
        "    result = 10 / value\n",
        "except (ValueError, ZeroDivisionError) as e:\n",
        "    print(\"An error occurred:\", e)\n"
      ],
      "metadata": {
        "id": "cqtxmOvUi3Rz"
      },
      "execution_count": null,
      "outputs": []
    },
    {
      "cell_type": "markdown",
      "source": [
        "✔ What happens:\n",
        "\n",
        "If the user types something that’s not a number → ValueError\n",
        "\n",
        "If the user enters 0 → ZeroDivisionError\n",
        "\n",
        "Both are handled by the same block.\n",
        "\n",
        "✅ 2. Handling multiple exceptions with separate except blocks\n",
        "\n",
        "You can write different blocks for different exceptions if you want to handle them differently.\n",
        "\n"
      ],
      "metadata": {
        "id": "5xmZ172ljBdO"
      }
    },
    {
      "cell_type": "code",
      "source": [
        "try:\n",
        "    value = int(input(\"Enter a number: \"))\n",
        "    result = 10 / value\n",
        "except ValueError:\n",
        "    print(\"You must enter a number!\")\n",
        "except ZeroDivisionError:\n",
        "    print(\"You can't divide by zero!\")\n"
      ],
      "metadata": {
        "id": "N0Gab7jojdWK"
      },
      "execution_count": null,
      "outputs": []
    },
    {
      "cell_type": "markdown",
      "source": [
        "✔ What it means:\n",
        "\n",
        "If you type letters → it says “You must enter a number!”\n",
        "\n",
        "If you type 0 → it says “You can't divide by zero!”\n",
        "\n",
        "✅ 4. Using finally to always run code\n",
        "\n",
        "Sometimes you want something to happen no matter what—like closing a file or printing a message."
      ],
      "metadata": {
        "id": "_Xr2xW2zjlCI"
      }
    },
    {
      "cell_type": "code",
      "source": [
        "try:\n",
        "    value = int(input(\"Enter a number: \"))\n",
        "    result = 10 / value\n",
        "except ValueError:\n",
        "    print(\"Enter a valid number!\")\n",
        "except ZeroDivisionError:\n",
        "    print(\"You can't divide by zero!\")\n",
        "finally:\n",
        "    print(\"This always runs!\")\n"
      ],
      "metadata": {
        "id": "QBa-0_VAjyzl"
      },
      "execution_count": null,
      "outputs": []
    },
    {
      "cell_type": "markdown",
      "source": [
        "✔ What it means:\n",
        "Even if there’s an error, it will always print “This always runs!”\n",
        "\n",
        "✅ Final Summary\n",
        "\n",
        "Use one except with parentheses to catch many errors at once.\n",
        "\n",
        "Use multiple except blocks if you want to handle errors differently.\n",
        "\n",
        "Use Exception to catch all errors if you're not sure what might happen.\n",
        "\n",
        "Use finally to run code no matter what."
      ],
      "metadata": {
        "id": "BjmUil7Pj3s7"
      }
    },
    {
      "cell_type": "markdown",
      "source": [
        "#    8.What is the purpose of the with statement when handling files in Python\n",
        "\n",
        "  ✅ Easy explanation of the with statement when handling files in Python\n",
        "\n",
        "The with statement helps you open files safely and cleanly without worrying about closing them yourself!\n",
        "\n",
        "📌 Purpose of with statement:\n",
        "\n",
        "✅ It automatically opens and closes the file.\n",
        "\n",
        "✅ It prevents mistakes, like forgetting to close the file.\n",
        "\n",
        "✅ It makes the code cleaner and easier to read.\n",
        "\n",
        "✅ It handles errors properly even if something goes wrong while using the file.\n",
        "\n",
        "✔ What it does:\n",
        "\n",
        "Opens the file, assigns it to file.\n",
        "\n",
        "Writes to the file.\n",
        "\n",
        "Automatically closes the file when done, even if an error happens!\n",
        "\n",
        "✅ Why is this helpful?\n",
        "\n",
        "You don’t need to write file.close() yourself.\n",
        "\n",
        "Python makes sure the file is safely closed.\n",
        "\n",
        "The code looks simple and organized.\n",
        "\n",
        "📌 Final takeaway:\n",
        "\n",
        "Use with when working with files because it:  \n",
        "✔ Makes your code safer  \n",
        "✔ Automatically closes the file  \n",
        "✔ Handles errors more gracefully  \n",
        "✔ Keeps your code neat and readable"
      ],
      "metadata": {
        "id": "EfIRXp52kBr4"
      }
    },
    {
      "cell_type": "markdown",
      "source": [
        "#    9.What is the difference between multithreading and multiprocessing\n",
        "\n",
        "  ✅ Easy explanation: Multithreading vs Multiprocessing\n",
        "\n",
        "Both multithreading and multiprocessing are ways to run multiple tasks at the same time to make your program faster or more efficient. But they work differently!\n",
        "\n",
        "📌 1. Multithreading\n",
        "\n",
        "Threads are like smaller parts of the same program working together.\n",
        "\n",
        "All threads share the same memory.\n",
        "\n",
        "Good for tasks that wait a lot, like reading files or waiting for the internet.\n",
        "\n",
        "Only one thread runs at a time in Python because of the Global Interpreter Lock (GIL).\n",
        "\n",
        "📌 2. Multiprocessing\n",
        "\n",
        "Processes are like completely separate programs running at the same time.\n",
        "\n",
        "Each process has its own memory space.\n",
        "\n",
        "Good for tasks that need a lot of CPU power.\n",
        "\n",
        "Can fully use multiple CPU cores.\n",
        "\n",
        "✅ Final takeaway\n",
        "\n",
        "Use multithreading when you have tasks that wait for things like file access or network requests.\n",
        "\n",
        "Use multiprocessing when you need to perform heavy computations and want to speed things up using multiple processors."
      ],
      "metadata": {
        "id": "pb1S9oCqotc9"
      }
    },
    {
      "cell_type": "markdown",
      "source": [
        "#    10.What are the advantages of using logging in a program\n",
        "\n",
        "  ✅ Easy explanation: Why use logging in a program?\n",
        "\n",
        "Logging means keeping a record of what happens while your program is running. It's like a diary for your program! It helps you understand what’s going on and fix problems easily.\n",
        "\n",
        "✅ Advantages of using logging:\n",
        "\n",
        "✅ Helps in debugging:\n",
        "\n",
        "You can track what the program is doing and find where it’s going wrong.\n",
        "\n",
        "✅ Keeps records:\n",
        "\n",
        "You can save information like errors, warnings, or important steps, which helps later when you review the program’s activity.\n",
        "\n",
        "✅ Provides different levels of messages:\n",
        "\n",
        "You can log messages as info, warning, error, etc., depending on how serious they are.\n",
        "\n",
        "✅ Makes programs easier to maintain:\n",
        "\n",
        "When other people or future you look at the logs, it’s easier to understand the program’s behavior.\n",
        "\n",
        "✅ Works in production:\n",
        "\n",
        "Even after your program is live (in real use), logging helps monitor it without stopping it.\n",
        "\n",
        "✅ More flexible than print statements:\n",
        "\n",
        "Unlike print(), you can control what gets logged and where (like a file or the console), and format it nicely.\n",
        "\n",
        "✅ Helps in performance tracking:\n",
        "\n",
        "You can log how long certain tasks take to find bottlenecks and optimize them.\n",
        "\n",
        "📌 Final takeaway:\n",
        "\n",
        "✔ Logging helps you track, understand, and fix problems.\n",
        "✔ It’s useful in both development and real-world applications.\n",
        "✔ It’s better than using print statements because it’s structured and easier to control."
      ],
      "metadata": {
        "id": "eunvdDb6qV-i"
      }
    },
    {
      "cell_type": "markdown",
      "source": [
        "#    11.What is memory management in Python\n",
        "\n",
        " ✅ Easy explanation: What is memory management in Python?\n",
        "\n",
        "Memory management means how Python keeps track of and organizes the memory your program uses while it’s running. It makes sure that your program uses memory efficiently and frees it up when it's no longer needed.\n",
        "\n",
        "📌 Why is memory management important?\n",
        "\n",
        "So your program doesn’t run out of memory.\n",
        "\n",
        "So it can reuse memory for new tasks.\n",
        "\n",
        "So it can clean up unused data automatically.\n",
        "\n",
        "So your program stays fast and stable.\n",
        "\n",
        "✅ How Python handles memory management:\n",
        "\n",
        "Automatic allocation and deallocation:\n",
        "\n",
        "Python automatically gives memory to objects when you create them and frees it when they are no longer needed.\n",
        "\n",
        "Garbage Collection:\n",
        "\n",
        "Python’s garbage collector keeps an eye on objects that are no longer used and removes them to free up memory.\n",
        "\n",
        "Reference Counting:\n",
        "\n",
        "Python counts how many references or “links” exist to an object. If nothing is pointing to it anymore, the memory can be reclaimed.\n",
        "\n",
        "✅ Final takeaway:\n",
        "\n",
        "Memory management helps Python control how memory is used and freed.\n",
        "\n",
        "It’s mostly automatic — Python does the hard work for you!\n",
        "\n",
        "It uses reference counting and garbage collection to clean up unused objects.\n",
        "\n",
        "Understanding it helps you write better, more efficient programs\n",
        "\n"
      ],
      "metadata": {
        "id": "TDzxNSYrsBly"
      }
    },
    {
      "cell_type": "markdown",
      "source": [
        "#    12.What are the basic steps involved in exception handling in Python\n",
        "\n",
        "✅ Basic steps involved in exception handling in Python – explained simply\n",
        "\n",
        "Exception handling lets your program deal with errors without crashing. Python gives you a way to catch errors and decide what to do next.\n",
        "\n",
        "Here are the four basic steps:\n",
        "\n",
        "1️⃣ try – Try running the code that might cause an error\n",
        "\n",
        "2️⃣ except – Catch and handle the error\n",
        "\n",
        "If an error occurs in the try block, Python jumps to the except block where you define how to handle it.\n",
        "3️⃣ else – Run code if no error happens (optional)\n",
        "\n",
        "If the code inside try runs successfully without any error, the else block will execute.\n",
        "\n",
        "4️⃣ finally – Run code no matter what (optional)\n",
        "\n",
        "This block runs whether or not an exception happened. It’s perfect for cleanup tasks like closing files or releasing resources.📌 Final summary:\n",
        "\n",
        "try: Write the code that might cause an error.\n",
        "\n",
        "except: Handle the error if it happens.\n",
        "\n",
        "else (optional): Do something if there’s no error.\n",
        "\n",
        "finally (optional): Run cleanup code no matter what."
      ],
      "metadata": {
        "id": "WP64XLmYsZ1Q"
      }
    },
    {
      "cell_type": "markdown",
      "source": [
        "#    13.Why is memory management important in Python\n",
        "\n",
        "\n",
        "\n",
        "Memory management is about how Python uses and organizes the computer’s memory while your program is running. It’s important because it helps your program work smoothly and efficiently!\n",
        "\n",
        "✅ Here’s why it’s important:  \n",
        "1️⃣ Prevents running out of memory\n",
        "\n",
        "If memory isn’t managed properly, your program might use too much memory and crash.\n",
        "\n",
        "Python ensures that unused data is removed, so memory is available for new tasks.\n",
        "\n",
        "2️⃣ Keeps the program fast\n",
        "\n",
        "Efficient memory use means the program doesn’t slow down.\n",
        "\n",
        "Python manages memory automatically, so you don’t need to manually handle it all the time.\n",
        "\n",
        "3️⃣ Avoids memory leaks\n",
        "\n",
        "If data is not properly cleared, memory can get “stuck,” causing problems over time.\n",
        "\n",
        "Python’s garbage collector removes objects that are no longer used.\n",
        "\n",
        "4️⃣ Makes programming easier\n",
        "\n",
        "You don’t need to worry about allocating and freeing memory yourself.\n",
        "\n",
        "Python takes care of memory in the background, so you can focus on writing code.\n",
        "\n",
        "5️⃣ Improves stability and reliability\n",
        "\n",
        "Good memory management means fewer crashes and better performance.\n",
        "\n",
        "It ensures your program stays safe even in complex or long-running tasks.\n",
        "\n",
        "📌 Final takeaway:\n",
        "\n",
        "✔ Memory management helps your program run smoothly, efficiently, and safely.  \n",
        "✔ It prevents crashes and slowdowns by using memory wisely.  \n",
        "✔ Python’s automatic memory management makes coding simpler and error-free.  "
      ],
      "metadata": {
        "id": "6wIoJJpBbNY3"
      }
    },
    {
      "cell_type": "markdown",
      "source": [
        "#    14.What is the role of try and except in exception handling\n",
        "\n",
        "✅ Easy explanation: The role of try and except in exception handling\n",
        "\n",
        "In Python, try and except are used to handle errors (exceptions) when they happen, so your program doesn’t crash.\n",
        "\n",
        "📌 Role of try:\n",
        "\n",
        "You put the code that might cause an error inside the try block.\n",
        "\n",
        "Python tries to run this code.\n",
        "\n",
        "If everything works, it moves on.\n",
        "\n",
        "If an error occurs, it stops and looks for an except block to handle the error.\n",
        "\n",
        "📌 Role of except:\n",
        "\n",
        "The except block catches the error and tells Python what to do next.\n",
        "\n",
        "You can handle different types of errors separately.\n",
        "\n",
        "Without except, Python would stop and crash when an error occurs!\n",
        "\n",
        "✅ Final takeaway:\n",
        "\n",
        "try → Where you write the code that might fail.\n",
        "\n",
        "except → Where you handle the error and decide what to do next.\n",
        "\n",
        "Together, they make your program more robust and user-friendly."
      ],
      "metadata": {
        "id": "Tt5MHGgXbqdR"
      }
    },
    {
      "cell_type": "markdown",
      "source": [
        "#    15.How does Python's garbage collection system work\n",
        "\n",
        "\n",
        "\n",
        "Python’s garbage collection system automatically manages memory for you. It makes sure that the memory used by objects that are no longer needed is freed, so your program doesn’t waste memory or crash.\n",
        "\n",
        "📌 Key ideas behind Python’s garbage collection:  \n",
        "1️⃣ Reference counting (main method)\n",
        "\n",
        "Python keeps track of how many references (or links) there are to an object.  \n",
        "\n",
        "If no references point to an object, it means the object is not needed anymore.\n",
        "\n",
        "Python then removes (deletes) the object and frees the memory.\n",
        "\n",
        "2️⃣ Garbage collector (for complex cases)\n",
        "\n",
        "Sometimes, objects refer to each other in a loop, so reference counting alone can't decide they are unused. Python’s garbage collector finds these cycles and cleans them up.\n",
        "\n",
        "📌 Steps Python follows for garbage collection:\n",
        "\n",
        "✅ Count how many references point to each object.\n",
        "\n",
        "✅ If an object has zero references, delete it and free memory.\n",
        "\n",
        "✅ Periodically check for reference cycles and clean them up.\n",
        "\n",
        "✅ Do this in the background so your program keeps running smoothly.\n",
        "\n",
        "✅ Why this is useful:\n",
        "\n",
        "✔ Prevents memory leaks – memory isn’t wasted on unused objects   \n",
        "✔ Makes programming easier – you don't need to manually free memory  \n",
        "✔ Keeps your program efficient and stable  \n",
        "✔ Handles complex cases like circular references with garbage collection\n",
        "\n",
        "📌 Final takeaway:\n",
        "\n",
        "Python’s garbage collection:  \n",
        "✔ Uses reference counting to track objects  \n",
        "✔ Cleans up unused objects automatically   \n",
        "✔ Detects cycles with the garbage collector  \n",
        "✔ Helps you avoid memory problems and write better programs without worrying   about freeing memory yourself"
      ],
      "metadata": {
        "id": "17Xbk4P_b-wR"
      }
    },
    {
      "cell_type": "markdown",
      "source": [
        "#    16.What is the purpose of the else block in exception handling0\n",
        "\n",
        "   \n",
        "In Python’s exception handling, the else block is used to write code that should run only if no exception occurred in the try block!\n",
        "\n",
        "📌 Why is the else block useful?\n",
        "\n",
        "✅ It makes your code clearer – you separate normal behavior from error handling.\n",
        "\n",
        "✅ It ensures that certain code only runs when everything works.\n",
        "\n",
        "✅ It helps you avoid accidentally catching exceptions from code that should not raise errors.\n",
        "\n",
        "✅ How it works:\n",
        "\n",
        "Python first tries to run the code inside try.\n",
        "\n",
        "If an exception happens → it skips the else block and runs the appropriate except.\n",
        "\n",
        "If no exception happens → it runs the else block.\n",
        "\n",
        "📌 Final takeaway:\n",
        "\n",
        "✔ The else block runs only if no exception occurs   \n",
        "✔ It helps you separate normal execution from error handling  \n",
        "✔ It keeps your code organized, readable, and safer"
      ],
      "metadata": {
        "id": "vjhLmTwHci96"
      }
    },
    {
      "cell_type": "markdown",
      "source": [
        "#    17.What are the common logging levels in Python\n",
        "\n",
        "\n",
        "\n",
        "Python’s logging system lets you record messages with different levels of importance. These logging levels help you decide how serious a message is and whether it should be saved or shown.\n",
        "\n",
        "Here are the common logging levels, from least to most serious:\n",
        "\n",
        "📌 1. DEBUG\n",
        "\n",
        "Used for detailed information useful for diagnosing problems.\n",
        "\n",
        "Great for developers while testing or debugging code.\n",
        "\n",
        "📌 2. INFO\n",
        "\n",
        "General information about what’s happening in the program.\n",
        "\n",
        "Helps understand the flow of the program.\n",
        "\n",
        "📌 3. WARNING\n",
        "\n",
        "Something unexpected happened, but the program can continue.\n",
        "\n",
        "Alerts you to potential issues.\n",
        "\n",
        "4. ERROR\n",
        "\n",
        "A serious problem occurred.\n",
        "\n",
        "The program couldn’t complete a task because of this error.\n",
        "\n",
        "📌 5. CRITICAL\n",
        "\n",
        "A very serious error that might crash the program or cause major issues.\n",
        "\n",
        "You should act immediately when this happens.\n",
        "\n",
        "✔ Use different levels to organize your messages   \n",
        "✔ Helps you filter important information from less important   \n",
        "✔ Makes debugging and monitoring easier\n",
        "\n"
      ],
      "metadata": {
        "id": "ky9byseuc8aD"
      }
    },
    {
      "cell_type": "markdown",
      "source": [
        "#    18.What is the difference between os.fork() and multiprocessing in Python\n",
        "\n",
        "\n",
        "\n",
        "\n",
        "Both os.fork() and multiprocessing let you run tasks in parallel, but they work in different ways and are used in different situations.\n",
        "\n",
        "📌 1. os.fork()\n",
        "\n",
        "Only available on Unix-like systems (Linux, macOS).\n",
        "\n",
        "It creates a new process by copying the current process.\n",
        "\n",
        "The child process is an exact copy of the parent process.\n",
        "\n",
        "You need to manage communication and synchronization yourself.\n",
        "\n",
        "It’s low-level and gives you direct access to process creation.\n",
        "\n",
        "2. multiprocessing module\n",
        "\n",
        "Works on both Unix and Windows.\n",
        "\n",
        "Provides a higher-level, easier-to-use API for running multiple processes.\n",
        "\n",
        "Helps manage processes, data sharing, and communication.\n",
        "\n",
        "Safer and more portable across platforms.\n",
        "\n",
        "✅ Final takeaway:\n",
        "\n",
        "✔ os.fork() is a low-level way to create new processes by duplicating the current process, mainly for Unix systems.   \n",
        "✔ multiprocessing is a high-level module that makes it easy to work with processes on all major platforms and helps you manage them safely and efficiently."
      ],
      "metadata": {
        "id": "mvrhTAYSdjqv"
      }
    },
    {
      "cell_type": "markdown",
      "source": [
        "#    19. What is the importance of closing a file in Python\n",
        "\n",
        "When you open a file in Python, the operating system gives your program access to that file’s data. But once you're done working with it, it’s important to close the file to free up resources and ensure everything works correctly.\n",
        "\n",
        "📌 Here’s why closing a file is important:   \n",
        "1️⃣ Frees up system resources\n",
        "\n",
        "The operating system only allows a limited number of files to be open at the same time.\n",
        "\n",
        "If you forget to close files, your program might use too much memory or crash.\n",
        "\n",
        "2️⃣ Ensures data is saved properly\n",
        "\n",
        "When you write to a file, Python may store the data in a temporary buffer.\n",
        "\n",
        "Closing the file makes sure all the buffered data is written to the file correctly.\n",
        "\n",
        "3️⃣ Prevents file corruption\n",
        "\n",
        "If the file isn’t closed properly, it could cause data loss or corruption, especially if the program crashes or ends unexpectedly.\n",
        "\n",
        "4️⃣ Avoids conflicts\n",
        "\n",
        "Other programs or processes might not be able to access the file until it's closed.\n",
        "\n",
        "Closing the file ensures that it’s available for other tasks.\n",
        "\n",
        "📌 Final takeaway:\n",
        "\n",
        "✔ Closing a file frees system resources and avoids memory issues   \n",
        "✔ It ensures all data is written safely and prevents corruption   \n",
        "✔ It allows other programs to access the file  \n",
        "✔ Using with is the safest way to handle files because it automatically closes them"
      ],
      "metadata": {
        "id": "U6rJem_2eHz1"
      }
    },
    {
      "cell_type": "markdown",
      "source": [
        "#    20.What is the difference between file.read() and file.readline() in Python\n",
        "\n",
        "Both file.read() and file.readline() are used to read data from a file, but they work differently.\n",
        "\n",
        "📌 1. file.read() – Reads the whole file at once\n",
        "\n",
        "It reads all the content from the file.\n",
        "\n",
        "Returns it as one big string.\n",
        "\n",
        "Useful when you want the entire file data at once.\n",
        "\n",
        "📌 2. file.readline() – Reads one line at a time\n",
        "\n",
        "It reads only one line from the file each time you call it.\n",
        "\n",
        "Useful when you want to process the file line by line.\n",
        "\n",
        "📌 Final takeaway:\n",
        "\n",
        "✔ Use read() when you want all the data at once  \n",
        "✔ Use readline() when you want to process the file one line at a time  \n",
        "✔ For large files, readline() is safer because it doesn’t load everything into memory"
      ],
      "metadata": {
        "id": "1AQ4WpKwekfO"
      }
    },
    {
      "cell_type": "markdown",
      "source": [
        "#    Practical\n",
        "\n"
      ],
      "metadata": {
        "id": "42aRTkbYfnkE"
      }
    },
    {
      "cell_type": "markdown",
      "source": [
        "#    1.How can you open a file for writing in Python and write a string to it\n",
        "\n"
      ],
      "metadata": {
        "id": "4pk-wTp-f2qV"
      }
    },
    {
      "cell_type": "code",
      "source": [
        "# Open the file in write mode\n",
        "file = open(\"example.txt\", \"w\")\n",
        "\n",
        "# Write a string to the file\n",
        "file.write(\"Hello, this is a sample text.\")\n",
        "\n",
        "# Close the file\n",
        "file.close()\n"
      ],
      "metadata": {
        "id": "JlnecgvugaJp"
      },
      "execution_count": null,
      "outputs": []
    },
    {
      "cell_type": "markdown",
      "source": [
        "#    2.Write a Python program to read the contents of a file and print each line"
      ],
      "metadata": {
        "id": "kd1YZHRBge5n"
      }
    },
    {
      "cell_type": "code",
      "source": [
        "# Open the file in read mode\n",
        "with open(\"example.txt\", \"r\") as file:\n",
        "    # Read and print each line\n",
        "    for line in file:\n",
        "        print(line, end=\"\")\n"
      ],
      "metadata": {
        "id": "RJasbfMogkvk"
      },
      "execution_count": null,
      "outputs": []
    },
    {
      "cell_type": "markdown",
      "source": [
        "#    3.How would you handle a case where the file doesn't exist while trying to open it for reading"
      ],
      "metadata": {
        "id": "-fkAZ9SCg1DZ"
      }
    },
    {
      "cell_type": "code",
      "source": [
        "try:\n",
        "    with open(\"example.txt\", \"r\") as file:\n",
        "        for line in file:\n",
        "            print(line, end=\"\")\n",
        "except FileNotFoundError:\n",
        "    print(\"Error: The file 'example.txt' does not exist.\")\n"
      ],
      "metadata": {
        "id": "MD3wrUIag-7H"
      },
      "execution_count": null,
      "outputs": []
    },
    {
      "cell_type": "markdown",
      "source": [
        "#    4.Write a Python script that reads from one file and writes its content to another file"
      ],
      "metadata": {
        "id": "bltktGGghLVh"
      }
    },
    {
      "cell_type": "code",
      "source": [
        "try:\n",
        "    # Open the source file in read mode\n",
        "    with open(\"source.txt\", \"r\") as source_file:\n",
        "        content = source_file.read()\n",
        "\n",
        "    # Open the destination file in write mode\n",
        "    with open(\"destination.txt\", \"w\") as dest_file:\n",
        "        dest_file.write(content)\n",
        "\n",
        "    print(\"Content copied successfully from 'source.txt' to 'destination.txt'.\")\n",
        "\n",
        "except FileNotFoundError:\n",
        "    print(\"Error: The source file does not exist.\")\n",
        "except IOError as e:\n",
        "    print(f\"An error occurred: {e}\")\n"
      ],
      "metadata": {
        "id": "XYTi61AKhQ8u"
      },
      "execution_count": null,
      "outputs": []
    },
    {
      "cell_type": "markdown",
      "source": [
        "#    5.How would you catch and handle division by zero error in Python"
      ],
      "metadata": {
        "id": "0rh7N9IthZm0"
      }
    },
    {
      "cell_type": "code",
      "source": [
        "try:\n",
        "    numerator = 10\n",
        "    denominator = 0\n",
        "    result = numerator / denominator\n",
        "    print(\"Result:\", result)\n",
        "except ZeroDivisionError:\n",
        "    print(\"Error: Cannot divide by zero.\")\n"
      ],
      "metadata": {
        "id": "qdvhwZ-8hfVY"
      },
      "execution_count": null,
      "outputs": []
    },
    {
      "cell_type": "markdown",
      "source": [
        "#    6.Write a Python program that logs an error message to a log file when a division by zero exception occurs"
      ],
      "metadata": {
        "id": "VeZyzeaMhpvK"
      }
    },
    {
      "cell_type": "code",
      "source": [
        "import logging\n",
        "\n",
        "logging.basicConfig(filename='error.log', level=logging.ERROR,\n",
        "                    format='%(asctime)s - %(levelname)s - %(message)s')\n",
        "\n",
        "try:\n",
        "    numerator = 10\n",
        "    denominator = 0\n",
        "    result = numerator / denominator\n",
        "    print(\"Result:\", result)\n",
        "except ZeroDivisionError as e:\n",
        "    print(\"Error: Cannot divide by zero.\")\n",
        "    logging.error(\"Division by zero error occurred\", exc_info=True)\n"
      ],
      "metadata": {
        "id": "7FhRhvcRh3E5"
      },
      "execution_count": null,
      "outputs": []
    },
    {
      "cell_type": "markdown",
      "source": [
        "#    7.How do you log information at different levels (INFO, ERROR, WARNING) in Python using the logging module\n"
      ],
      "metadata": {
        "id": "za7ZMF-Jh4Vk"
      }
    },
    {
      "cell_type": "code",
      "source": [
        "import logging\n",
        "\n",
        "\n",
        "logging.basicConfig(filename='app.log', level=logging.DEBUG,\n",
        "                    format='%(asctime)s - %(levelname)s - %(message)s')\n",
        "\n",
        "logging.debug(\"This is a debug message.\")\n",
        "logging.info(\"This is an info message.\")       # Used for general information\n",
        "logging.warning(\"This is a warning message.\")\n",
        "logging.error(\"This is an error message.\")     # Used for a serious problem\n",
        "logging.critical(\"This is a critical message.\")\n"
      ],
      "metadata": {
        "id": "mMMTxWJ4h_HT"
      },
      "execution_count": null,
      "outputs": []
    },
    {
      "cell_type": "markdown",
      "source": [
        "#    8.Write a program to handle a file opening error using exception handling"
      ],
      "metadata": {
        "id": "Tqzbi2t5iccI"
      }
    },
    {
      "cell_type": "code",
      "source": [
        "try:\n",
        "\n",
        "    with open(\"nonexistent_file.txt\", \"r\") as file:\n",
        "        content = file.read()\n",
        "        print(content)\n",
        "except FileNotFoundError:\n",
        "    print(\"Error: The file was not found.\")\n",
        "except IOError:\n",
        "    print(\"Error: An error occurred while trying to open the file.\")\n"
      ],
      "metadata": {
        "id": "7BoPSPk-ip_X"
      },
      "execution_count": null,
      "outputs": []
    },
    {
      "cell_type": "markdown",
      "source": [
        "#    9.How can you read a file line by line and store its content in a list in Python"
      ],
      "metadata": {
        "id": "oiCKL-x0i2gV"
      }
    },
    {
      "cell_type": "code",
      "source": [
        "lines = []\n",
        "\n",
        "with open(\"example.txt\", \"r\") as file:\n",
        "    for line in file:\n",
        "        lines.append(line.strip())\n",
        "\n",
        "print(lines)\n"
      ],
      "metadata": {
        "id": "YSesTo4mi7_d"
      },
      "execution_count": null,
      "outputs": []
    },
    {
      "cell_type": "markdown",
      "source": [
        "#    10. How can you append data to an existing file in Python"
      ],
      "metadata": {
        "id": "bzK0SL2njGFz"
      }
    },
    {
      "cell_type": "code",
      "source": [
        "# Open the file in append mode\n",
        "with open(\"example.txt\", \"a\") as file:\n",
        "    file.write(\"This is a new line.\\n\")\n",
        "    file.write(\"Another line added.\\n\")\n"
      ],
      "metadata": {
        "id": "zcncyzJMjMo6"
      },
      "execution_count": null,
      "outputs": []
    },
    {
      "cell_type": "markdown",
      "source": [
        "#    11.Write a Python program that uses a try-except block to handle an error when attempting to access a  dictionary key that doesn't exist\n",
        "   "
      ],
      "metadata": {
        "id": "EOBCCXVTjUcb"
      }
    },
    {
      "cell_type": "code",
      "source": [
        "\n",
        "my_dict = {\n",
        "    \"name\": \"Alice\",\n",
        "    \"age\": 25,\n",
        "    \"city\": \"New York\"\n",
        "}\n",
        "\n",
        "try:\n",
        "    # Attempt to access a key that might not exist\n",
        "    value = my_dict[\"country\"]\n",
        "    print(\"Country:\", value)\n",
        "except KeyError:\n",
        "    print(\"Error: The key 'country' does not exist in the dictionary.\")\n"
      ],
      "metadata": {
        "id": "V9tOQf2Gjoy2"
      },
      "execution_count": null,
      "outputs": []
    },
    {
      "cell_type": "markdown",
      "source": [
        "#    12.Write a program that demonstrates using multiple except blocks to handle different types of exceptions"
      ],
      "metadata": {
        "id": "nGtvpyZTj3x5"
      }
    },
    {
      "cell_type": "code",
      "source": [
        "try:\n",
        "\n",
        "    num1 = int(input(\"Enter a numerator: \"))\n",
        "    num2 = int(input(\"Enter a denominator: \"))\n",
        "\n",
        "\n",
        "    result = num1 / num2\n",
        "    print(\"Result:\", result)\n",
        "\n",
        "\n",
        "    sample_dict = {\"name\": \"Alice\", \"age\": 25}\n",
        "    print(\"City:\", sample_dict[\"city\"])\n",
        "\n",
        "except ZeroDivisionError:\n",
        "    print(\"Error: Cannot divide by zero.\")\n",
        "\n",
        "except ValueError:\n",
        "    print(\"Error: Please enter a valid integer.\")\n",
        "\n",
        "except KeyError:\n",
        "    print(\"Error: The requested key does not exist in the dictionary.\")\n",
        "\n",
        "except Exception as e:\n",
        "    print(f\"An unexpected error occurred: {e}\")\n"
      ],
      "metadata": {
        "id": "9IdBqPKwj9gA"
      },
      "execution_count": null,
      "outputs": []
    },
    {
      "cell_type": "markdown",
      "source": [
        "#    13.How would you check if a file exists before attempting to read it in Python"
      ],
      "metadata": {
        "id": "aacjz1IlkINk"
      }
    },
    {
      "cell_type": "code",
      "source": [
        "import os\n",
        "\n",
        "file_path = \"example.txt\"\n",
        "\n",
        "if os.path.exists(file_path):\n",
        "    with open(file_path, \"r\") as file:\n",
        "        content = file.read()\n",
        "        print(content)\n",
        "else:\n",
        "    print(f\"Error: The file '{file_path}' does not exist.\")\n"
      ],
      "metadata": {
        "id": "3RYa9aCqkQUE"
      },
      "execution_count": null,
      "outputs": []
    },
    {
      "cell_type": "markdown",
      "source": [
        "#    14.Write a program that uses the logging module to log both informational and error messages"
      ],
      "metadata": {
        "id": "_3kpAHLhkXRJ"
      }
    },
    {
      "cell_type": "code",
      "source": [
        "import logging\n",
        "\n",
        "\n",
        "logging.basicConfig(\n",
        "    filename=\"app.log\",\n",
        "    level=logging.INFO,\n",
        "    format=\"%(asctime)s - %(levelname)s - %(message)s\"\n",
        ")\n",
        "\n",
        "\n",
        "logging.info(\"Program started successfully.\")\n",
        "\n",
        "try:\n",
        "\n",
        "    numerator = 10\n",
        "    denominator = 0\n",
        "    result = numerator / denominator\n",
        "    logging.info(f\"Division result: {result}\")\n",
        "\n",
        "except ZeroDivisionError:\n",
        "    logging.error(\"Attempted to divide by zero.\")\n",
        "\n",
        "# Log another informational message\n",
        "logging.info(\"Program finished execution.\")\n"
      ],
      "metadata": {
        "id": "y1sga4EKklP1"
      },
      "execution_count": null,
      "outputs": []
    },
    {
      "cell_type": "markdown",
      "source": [
        "#    15.Write a Python program that prints the content of a file and handles the case when the file is empty"
      ],
      "metadata": {
        "id": "OT7BqX77ksnm"
      }
    },
    {
      "cell_type": "code",
      "source": [
        "file_path = \"example.txt\"\n",
        "\n",
        "try:\n",
        "    with open(file_path, \"r\") as file:\n",
        "        content = file.read()\n",
        "\n",
        "        if content:\n",
        "            print(\"File content:\")\n",
        "            print(content)\n",
        "        else:\n",
        "            print(\"The file is empty.\")\n",
        "\n",
        "except FileNotFoundError:\n",
        "    print(f\"Error: The file '{file_path}' does not exist.\")\n",
        "except IOError:\n",
        "    print(f\"Error: An error occurred while reading the file '{file_path}'.\")\n"
      ],
      "metadata": {
        "id": "DFkG4tTIk6nK"
      },
      "execution_count": null,
      "outputs": []
    },
    {
      "cell_type": "markdown",
      "source": [
        "#    16.Demonstrate how to use memory profiling to check the memory usage of a small program\n",
        "\n",
        "✅ Step 1: Install memory_profiler\n",
        "\n",
        "You can install it using pip if you don’t have it already:\n",
        "\n",
        "pip install memory-profiler\n",
        "\n",
        "✅ Step 2: Write a small Python program\n",
        "\n",
        "Let’s create a program that creates a large list to see memory usage."
      ],
      "metadata": {
        "id": "mxRAuiSylBor"
      }
    },
    {
      "cell_type": "code",
      "source": [
        "from memory_profiler import profile\n",
        "\n",
        "@profile\n",
        "def create_large_list():\n",
        "    my_list = [i for i in range(1000000)]  # 1 million integers\n",
        "    print(\"List created with\", len(my_list), \"elements\")\n",
        "\n",
        "if __name__ == \"__main__\":\n",
        "    create_large_list()\n"
      ],
      "metadata": {
        "id": "r_nJbJIAlyS6"
      },
      "execution_count": null,
      "outputs": []
    },
    {
      "cell_type": "markdown",
      "source": [
        "✅ Step 3: Run the program with memory profiling\n",
        "\n",
        "Run it from the command line using:\n",
        "\n",
        "python -m memory_profiler your_script.py"
      ],
      "metadata": {
        "id": "gqrUOjxsl1AF"
      }
    },
    {
      "cell_type": "markdown",
      "source": [
        "#    17.Write a Python program to create and write a list of numbers to a file, one number per line"
      ],
      "metadata": {
        "id": "otoaxO2Zl6iK"
      }
    },
    {
      "cell_type": "code",
      "source": [
        "\n",
        "numbers = [10, 20, 30, 40, 50]\n",
        "\n",
        "with open(\"numbers.txt\", \"w\") as file:\n",
        "    for number in numbers:\n",
        "        file.write(f\"{number}\\n\")\n",
        "\n",
        "print(\"Numbers have been written to 'numbers.txt'.\")\n"
      ],
      "metadata": {
        "id": "igclpVOnlQd8"
      },
      "execution_count": null,
      "outputs": []
    },
    {
      "cell_type": "markdown",
      "source": [
        "#    18.How would you implement a basic logging setup that logs to a file with rotation after 1MB"
      ],
      "metadata": {
        "id": "MM2tEJNxmMdz"
      }
    },
    {
      "cell_type": "code",
      "source": [
        "import logging\n",
        "from logging.handlers import RotatingFileHandler\n",
        "\n",
        "logger = logging.getLogger(\"MyLogger\")\n",
        "logger.setLevel(logging.INFO)\n",
        "\n",
        "\n",
        "handler = RotatingFileHandler(\n",
        "    \"app.log\",\n",
        "    maxBytes=1*1024*1024,\n",
        "    backupCount=3\n",
        ")\n",
        "\n",
        "\n",
        "formatter = logging.Formatter('%(asctime)s - %(levelname)s - %(message)s')\n",
        "handler.setFormatter(formatter)\n",
        "\n",
        "logger.addHandler(handler)\n",
        "\n",
        "logger.info(\"This is an informational message.\")\n",
        "logger.error(\"This is an error message.\")\n"
      ],
      "metadata": {
        "id": "9GX4JynOmiga"
      },
      "execution_count": null,
      "outputs": []
    },
    {
      "cell_type": "markdown",
      "source": [
        "#    19.Write a program that handles both IndexError and KeyError using a try-except block"
      ],
      "metadata": {
        "id": "tFjLNwMTmues"
      }
    },
    {
      "cell_type": "code",
      "source": [
        "\n",
        "my_list = [10, 20, 30]\n",
        "my_dict = {\"name\": \"Alice\", \"age\": 25}\n",
        "\n",
        "try:\n",
        "\n",
        "    print(\"Accessing list element:\", my_list[5])\n",
        "\n",
        "\n",
        "    print(\"Accessing dictionary key:\", my_dict[\"city\"])\n",
        "\n",
        "except IndexError:\n",
        "    print(\"Error: The list index you tried to access does not exist.\")\n",
        "\n",
        "except KeyError:\n",
        "    print(\"Error: The dictionary key you tried to access does not exist.\")\n"
      ],
      "metadata": {
        "id": "hLCbPSgEm5G6"
      },
      "execution_count": null,
      "outputs": []
    },
    {
      "cell_type": "markdown",
      "source": [
        "#    20.How would you open a file and read its contents using a context manager in Python"
      ],
      "metadata": {
        "id": "gTNyIi9lm9cC"
      }
    },
    {
      "cell_type": "code",
      "source": [
        "file_path = \"example.txt\"\n",
        "\n",
        "with open(file_path, \"r\") as file:\n",
        "    content = file.read()\n",
        "\n",
        "print(\"File content:\")\n",
        "print(content)\n"
      ],
      "metadata": {
        "id": "NmbPcU4bnHne"
      },
      "execution_count": null,
      "outputs": []
    },
    {
      "cell_type": "markdown",
      "source": [
        "#    21.Write a Python program that reads a file and prints the number of occurrences of a specific word"
      ],
      "metadata": {
        "id": "RcK2-VMGnLGX"
      }
    },
    {
      "cell_type": "code",
      "source": [
        "file_path = \"example.txt\"\n",
        "word_to_count = \"Python\"\n",
        "\n",
        "try:\n",
        "    with open(file_path, \"r\") as file:\n",
        "        content = file.read()\n",
        "\n",
        "    content_lower = content.lower()\n",
        "    word_lower = word_to_count.lower()\n",
        "\n",
        "\n",
        "    words = content_lower.split()\n",
        "    count = words.count(word_lower)\n",
        "\n",
        "    print(f\"The word '{word_to_count}' occurs {count} times in the file.\")\n",
        "\n",
        "except FileNotFoundError:\n",
        "    print(f\"Error: The file '{file_path}' does not exist.\")\n",
        "except IOError:\n",
        "    print(f\"Error: An error occurred while reading the file '{file_path}'.\")\n"
      ],
      "metadata": {
        "id": "3lR-JFSGnUar"
      },
      "execution_count": null,
      "outputs": []
    },
    {
      "cell_type": "markdown",
      "source": [
        "#    22.How can you check if a file is empty before attempting to read its contents"
      ],
      "metadata": {
        "id": "Y8jgPTPanX-y"
      }
    },
    {
      "cell_type": "code",
      "source": [
        "import os\n",
        "\n",
        "file_path = \"example.txt\"\n",
        "\n",
        "if os.path.exists(file_path) and os.path.getsize(file_path) > 0:\n",
        "    with open(file_path, \"r\") as file:\n",
        "        content = file.read()\n",
        "        print(\"File content:\")\n",
        "        print(content)\n",
        "else:\n",
        "    print(\"The file is empty or does not exist.\")\n"
      ],
      "metadata": {
        "id": "DESQVBoCnkDC"
      },
      "execution_count": null,
      "outputs": []
    },
    {
      "cell_type": "markdown",
      "source": [
        "#    23.Write a Python program that writes to a log file when an error occurs during file handling"
      ],
      "metadata": {
        "id": "JKGwDl5Ann4p"
      }
    },
    {
      "cell_type": "code",
      "source": [
        "import logging\n",
        "\n",
        "\n",
        "logging.basicConfig(\n",
        "    filename=\"file_errors.log\",\n",
        "    level=logging.ERROR,\n",
        "    format=\"%(asctime)s - %(levelname)s - %(message)s\"\n",
        ")\n",
        "\n",
        "file_path = \"example.txt\"\n",
        "\n",
        "try:\n",
        "\n",
        "    with open(file_path, \"r\") as file:\n",
        "        content = file.read()\n",
        "        print(\"File content:\")\n",
        "        print(content)\n",
        "\n",
        "except FileNotFoundError as e:\n",
        "    print(f\"Error: The file '{file_path}' does not exist.\")\n",
        "    logging.error(f\"FileNotFoundError: {e}\")\n",
        "\n",
        "except IOError as e:\n",
        "    print(f\"Error: An I/O error occurred while handling the file '{file_path}'.\")\n",
        "    logging.error(f\"IOError: {e}\")\n"
      ],
      "metadata": {
        "id": "_X3zH06qnzPF"
      },
      "execution_count": null,
      "outputs": []
    }
  ]
}