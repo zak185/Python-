{
  "nbformat": 4,
  "nbformat_minor": 0,
  "metadata": {
    "colab": {
      "provenance": []
    },
    "kernelspec": {
      "name": "python3",
      "display_name": "Python 3"
    },
    "language_info": {
      "name": "python"
    }
  },
  "cells": [
    {
      "cell_type": "code",
      "execution_count": null,
      "metadata": {
        "id": "ew0QI4XcoKeL"
      },
      "outputs": [],
      "source": []
    },
    {
      "cell_type": "markdown",
      "source": [
        "    (1)what is Object-Oriented Programming (OOP)\n",
        "\n",
        "  Object-Oriented Programming (OOP) is a programming paradigm (style) based on the concept of \"objects\". It helps organize and structure code in a way that models real-world things and relationships.\n",
        "\n",
        "     Basic Concepts of OOP:\n",
        "  Class  \n",
        "  A blueprint for creating objects. It defines properties (attributes) and behaviors (methods).\n",
        "\n",
        "  Object  \n",
        "An instance of a class. It has actual values.\n",
        "Example: myCar (from class Car), student1 (from class Person)\n",
        "\n",
        "  Encapsulation  \n",
        "Wrapping data (variables) and code (methods) together into a single unit and hiding internal details.\n",
        "Example: Using private variables and public getter/setter methods.\n",
        "\n",
        "  Inheritance  \n",
        "One class can inherit properties and methods from another class.\n",
        "Example: A Dog class can inherit from an Animal class.\n",
        "\n",
        "   Polymorphism  \n",
        "One name, many forms. The same method can behave differently based on context.\n",
        "\n",
        "    (2) What is a class in OOP\n",
        "\n",
        " A class is like a blueprint or template used to create objects in programming.\n",
        "\n",
        "Just like a blueprint of a house defines how the house should be built, a class defines the structure and behavior (data + functions) that the objects created from it will have.   \n",
        "\n",
        "  \n",
        "\n",
        "    (3) What is an object in OOP\n",
        "\n",
        "An object is a real-world entity created from a class.\n",
        "It is a self-contained unit that has both:\n",
        "\n",
        "State (data/attributes)\n",
        "\n",
        "Behavior (methods/functions)\n",
        "\n",
        "🔹 In simple terms:  \n",
        "A class is like a blueprint, and an object is the actual product built from that blueprint.   \n",
        "\n",
        "  Key Characteristics of an Object:   \n",
        "Instance of a class\n",
        "\n",
        "Uses class structure to hold actual values\n",
        "\n",
        "Can access methods and attributes defined in the class              \n",
        "\n",
        "\n",
        "\n",
        "      (4) What is the difference between abstraction and encapsulation.\n",
        "\n",
        "    Encapsulation (Hiding Data)\n",
        "\"Keep the data safe and bundled together.\"\n",
        "\n",
        "Imagine a medicine capsule:\n",
        "\n",
        "All ingredients are packed inside the capsule.\n",
        "\n",
        "You can't see or change them directly.\n",
        "\n",
        "You just take the capsule to get the effect.    \n",
        "\n",
        "\n",
        "✅ That’s Encapsulation — the data (ingredients) are protected inside.\n",
        "\n",
        "    Abstraction (Hiding Complexity)\n",
        "\"Show only what is necessary, hide the rest.\"\n",
        "\n",
        "Imagine you're using a mobile phone:\n",
        "\n",
        "You press buttons to make a call.\n",
        "\n",
        "You don't know how the internal electronics work — and you don’t need to!\n",
        "\n",
        "✅ That’s Abstraction — you only see what you need.\n",
        "\n",
        "    (5) What are dunder methods in Python\n",
        "\n",
        "Dunder methods (also called magic methods or special methods) are built-in methods in Python that have double underscores (__) at the beginning and end of their names.\n",
        "\n",
        "📌 \"Dunder\" stands for \"Double UNDERscore\".\n",
        "\n",
        "Purpose of Dunder Methods:\n",
        "They let you define how objects behave with built-in functions and operators, such as:\n",
        "\n",
        "+, -, *, ==\n",
        "\n",
        "print(), len(), str()\n",
        "\n",
        "object[index], in, for loop\n",
        "\n",
        "    (6) Explain the concept of inheritance in OOP\n",
        "\n",
        "Inheritance is a core concept in OOP that allows a class (child) to reuse the properties and methods of another class (parent).\n",
        "\n",
        "🔁 It helps you avoid repeating code and build relationships between classes.\n",
        "\n",
        "  - Simple Definition:\n",
        "Inheritance means “one class inherits from another”, gaining access to its methods and attributes.\n",
        "\n",
        "        (7)What is polymorphism in OOP\n",
        "\n",
        "          Polymorphism means \"many forms.\"\n",
        "\n",
        "It allows one thing (like a method or object) to behave differently based on context — depending on which class is using it.\n",
        "\n",
        "🧠 Simple Definition:\n",
        "Polymorphism allows the same method name to perform different tasks depending on the object calling it.\n",
        "\n",
        "    (8) How is encapsulation achieved in Python\n",
        "\n",
        "  Encapsulation in Python is achieved by restricting access to variables and methods to protect the internal state of an object.\n",
        "\n",
        "  ✅ 3 Ways Encapsulation is Achieved in Python:\n",
        "\n",
        "Public  \n",
        "Protected\n",
        "Private\n",
        "\n",
        "    (9)What is a constructor in Python\n",
        "\n",
        "  A constructor is a special method in a class that automatically runs when an object is created.\n",
        "In Python, the constructor is defined using the __init__() method.\n",
        "\n",
        " -- Simple Definition:\n",
        "A constructor is used to initialize (set up) the object’s data (attributes) when the object is created.\n",
        "\n",
        "    (10)What are class and static methods in Python\n",
        "\n",
        "   1. Class Method (@classmethod)  \n",
        "🔹 Definition:\n",
        "A class method works with the class itself, not the instance. It takes cls (not self) as the first parameter.\n",
        "\n",
        "✅ Used when:\n",
        "You want to access or modify class-level data\n",
        "\n",
        "You want to create objects in a different way (factory methods)\n",
        "\n",
        "2. Static Method (@staticmethod)  \n",
        "🔹 Definition:\n",
        "A static method doesn't take self or cls. It's like a normal function, but inside the class — usually used for utility tasks related to the class.\n",
        "\n",
        "✅ Used when:\n",
        "You don’t need access to instance or class\n",
        "\n",
        "You just want to group related functions with the class\n",
        "\n",
        "    (11) What is method overloading in Python\n",
        "\n",
        "  Method overloading means having multiple methods with the same name but different arguments (number or type).\n",
        "\n",
        "🧠 In many languages (like Java/C++), method overloading is built-in, but Python does NOT support traditional method overloading directly.\n",
        "\n",
        " How to Achieve Method Overloading in Python?   \n",
        "You can simulate method overloading using:\n",
        "\n",
        "Default arguments\n",
        "\n",
        "Variable-length arguments (*args, **kwargs)\n",
        "\n",
        "Manual checks inside the method\n",
        "\n",
        "    (12)What is method overriding in OOP\n",
        "\n",
        "  Method overriding means:\n",
        "\n",
        "A child class provides a new version of a method that is already defined in its parent class.\n",
        "\n",
        "The method in the child class has:\n",
        "\n",
        "The same name\n",
        "\n",
        "The same parameters\n",
        "\n",
        "But a different implementation\n",
        "\n",
        "🧠 Simple Definition:  \n",
        "Method overriding allows a subclass to change or extend the behavior of a method defined in the superclass.\n",
        "\n",
        "    (13)What is a property decorator in Python\n",
        "\n",
        "  The property decorator in Python is used to turn a method into a “read-only” attribute — meaning you can access it like a variable, even though it’s a method behind the scenes.\n",
        "\n",
        "🧠 Simple Definition:  \n",
        "property lets you access a method like an attribute, without using parentheses ().\n",
        "\n",
        "    (14)Why is polymorphism important in OOP\n",
        "\n",
        "  Polymorphism means \"many forms\" — it lets the same function or method behave differently depending on the object.\n",
        "\n",
        "  --Importance of Polymorphism:     \n",
        "\n",
        "Code Reusability  \n",
        "Flexibility & Extensibility  \n",
        " Cleaner Code  \n",
        " Dynamic Behavior  \n",
        " Interface-Oriented Design\n",
        "\n",
        "    (15)What is an abstract class in Python\n",
        "\n",
        "  An abstract class in Python is a class that cannot be directly instantiated.\n",
        "It is used to define a common interface or blueprint for its subclasses.\n",
        "\n",
        "🔒 You can’t create objects of an abstract class — you must create objects from the child class that implements its methods.\n",
        "\n",
        "🧠 Simple Definition:\n",
        "An abstract class defines methods that must be implemented in its child classes, but doesn’t provide full functionality itself.\n",
        "\n",
        " How to Create Abstract Classes in Python?  \n",
        "Python uses the abc module (Abstract Base Classes) to define abstract classes.\n",
        "\n",
        "    (16) What are the advantages of OOP\n",
        "\n",
        "  Advantages of Object-Oriented Programming (OOP)\n",
        "Object-Oriented Programming (OOP) brings structure, reusability, and flexibility to code by organizing it around objects and classes.\n",
        "\n",
        "\n",
        "   \n",
        "   Top Advantages of OOP:\n",
        "\n",
        "\n",
        "Modularity  \n",
        "Reusability  \n",
        "Scalability  \n",
        "Encapsulation  \n",
        "Polymorphism  \n",
        "Inheritance  \n",
        "Maintainability  \n",
        "Extensibility  \n",
        "Scalability  \n",
        "Improved collaboration\tTeam  \n",
        "Real-world modeling\n",
        "\n",
        "    (17) What is the difference between a class variable and an instance variable\n",
        "\n",
        "  -- Class Variable:--\n",
        "\n",
        "   The class itself (shared across all objects)  \n",
        "\n",
        "   Defined outside any method (usually at top)  \n",
        "\n",
        "   All instances of the class  \n",
        "\n",
        "   All objects (if not overridden in instance)  \n",
        "\n",
        "   Accessed using :  \tClassName.var or object.var  \n",
        "\n",
        "\n",
        "   \n",
        "   \n",
        "   ---Instance Variable:--  \n",
        "\n",
        "   A specific object/instance  \n",
        "\n",
        "   Defined inside the __init__() method  \n",
        "   \n",
        "   Each object has its own copy  \n",
        "\n",
        "  Only through object.var  \n",
        "\n",
        "  Only that specific object\n",
        "\n",
        "      (18)What is multiple inheritance in Python\n",
        "\n",
        "  Multiple inheritance means a class can inherit from more than one parent class at the same time.\n",
        "\n",
        "🧠 In simple words:  \n",
        "A child class gets features (methods & variables) from multiple parents.\n",
        "\n",
        "Benefits of Multiple Inheritance:--   \n",
        "\n",
        "Reuse features from multiple classes\n",
        "\n",
        "Makes code flexible and modular\n",
        "\n",
        "    (19)Explain the purpose of ‘’__str__’ and ‘__repr__’ ‘ methods in Python\n",
        "\n",
        "  purpose of __str__() and __repr__() in Python\n",
        "Both __str__() and __repr__() are special methods (dunder methods) in Python\n",
        "used to represent objects as strings, but they serve different purposes.\n",
        "\n",
        "\n",
        "\n",
        "✅ __str__() → For Humans\n",
        "Returns a user-friendly, readable string.\n",
        "Used when you call print(obj).\n",
        "\n",
        "✅ __repr__() → For Developers\n",
        "Returns a developer-friendly, unambiguous string.\n",
        "Used in the Python shell, or when you call repr(obj).\n",
        "\n",
        "    (20)What is the significance of the ‘super()’ function in Python\n",
        "\n",
        "  The super() function in Python is used to call methods from a parent (super) class.\n",
        "\n",
        "🔧 It's mainly used in inheritance to reuse code from the parent class without hardcoding the class name.\n",
        "\n",
        "🧠 Simple Definition:\n",
        "super() gives access to the parent class’s methods or constructors from inside a child class.  \n",
        "\n",
        "--- Why is super() Useful?  \n",
        "\n",
        "Avoids code duplication\n",
        "\n",
        "Supports multiple inheritance cleanly\n",
        "\n",
        "Automatically follows method resolution order (MRO)\n",
        "\n",
        "Makes code easier to maintain\n",
        "\n",
        "    (21)What is the significance of the __del__ method in Python\n",
        "\n",
        "  The __del__() method in Python is a destructor — it’s automatically called when an object is about to be destroyed (i.e., when it’s garbage collected).\n",
        "\n",
        "🧠 Simple Definition:\n",
        "__del__() is used to clean up resources (like files, connections, or memory) before an object is deleted.  \n",
        "\n",
        "--When is __del__() called?  \n",
        "\n",
        "Automatically when the object is garbage collected\n",
        "\n",
        "Or when you manually delete it using del object_name\n",
        "\n",
        "\n",
        "--When to Use __del__():  \n",
        "Closing files or network connections\n",
        "\n",
        "Releasing memory or temporary resources\n",
        "\n",
        "Logging object deletion (for debugging)\n",
        "\n",
        "    (22)What is the difference between @staticmethod and @classmethod in Python\n",
        "\n",
        "  \n",
        "@staticmethod\t=    A normal function inside a class  \n",
        "\n",
        "@classmethod =\tA method that works with the class itself  \n",
        "\n",
        "\n",
        " :---  @staticmethod (No self, No cls)  \n",
        "It doesn’t know anything about the class or the object.\n",
        "\n",
        "It’s just a function put inside a class for organization.\n",
        "\n",
        "🎯 Use when:\n",
        "You want a function that doesn’t use class or object data  \n",
        "\n",
        "\n",
        " :--- @classmethod (Takes cls)  \n",
        "It takes cls as the first parameter (just like self for instance methods).\n",
        "\n",
        "It knows about the class and can change class variables.\n",
        "\n",
        "🎯 Use when:\n",
        "You need to work with or modify class-level data.\n",
        "\n",
        "    (23)How does polymorphism work in Python with inheritance\n",
        "\n",
        "  Polymorphism + Inheritance in Python allows you to call the same method on different objects, and each object responds in its own way.\n",
        "\n",
        "🧠 Simple Definition:  \n",
        "Polymorphism lets you use the same method name, but different behavior based on the object’s class — often used with inheritance.\n",
        "\n",
        "    (24)What is method chaining in Python OOP\n",
        "\n",
        "  Method chaining is a technique where you call multiple methods on the same object in a single line, one after the other.\n",
        "\n",
        "🧠 Each method returns the object itself (self) so you can chain more method calls.\n",
        "\n",
        "✅ Real-Life Example:  \n",
        "Think of how you use mobile apps:\n",
        "\n",
        "You open the camera → apply a filter → save the photo — all in one flow.  \n",
        "\n",
        "how It Works:  \n",
        "Each method:\n",
        "\n",
        "Modifies the object\n",
        "\n",
        "Returns self, so the next method can continue working on the same object\n",
        "\n",
        "Why Use Method Chaining?\n",
        "\n",
        " Clean code  \n",
        " Fluent interface  \n",
        " Compact\n",
        "    \n",
        "      (25)What is the purpose of the __call__ method in Python\n",
        "\n",
        "  The __call__() method in Python lets you make an object behave like a function.\n",
        "\n",
        "🧠 If a class has a __call__() method, then you can \"call\" an instance of that class just like you call a function — using ().\n",
        "\n",
        "✅ Why Use __call__()?  \n",
        "To make objects behave like functions\n",
        "\n",
        "For function wrappers, caching, decorators, configurable objects, etc.\n",
        "\n",
        "To write more flexible and reusable code     \n",
        "\n",
        "\n",
        "\n",
        "\n",
        "\n",
        "\n",
        "\n",
        "\n",
        "\n",
        "\n",
        "\n",
        "\n",
        "\n",
        "\n",
        "\n",
        "\n",
        "\n",
        "\n",
        "\n",
        "\n",
        "\n",
        "\n",
        "\n",
        "\n",
        "\n",
        "\n",
        "\n",
        "\n",
        "\n",
        "\n",
        "\n",
        "\n",
        "\n",
        "      \n",
        "\n",
        "\n",
        "\n"
      ],
      "metadata": {
        "id": "ftZb1miuoNee"
      }
    },
    {
      "cell_type": "code",
      "source": [],
      "metadata": {
        "id": "LOS3ywT8TCod"
      },
      "execution_count": null,
      "outputs": []
    },
    {
      "cell_type": "markdown",
      "source": [],
      "metadata": {
        "id": "hKFIyABbTDp5"
      }
    },
    {
      "cell_type": "code",
      "source": [],
      "metadata": {
        "id": "uEP48P-XTEP3"
      },
      "execution_count": null,
      "outputs": []
    },
    {
      "cell_type": "markdown",
      "source": [
        "(1)  Create a parent class Animal with a method speak() that prints a generic message. Create a child class Dog\n",
        "that overrides the speak() method to print \"Bark!\"."
      ],
      "metadata": {
        "id": "-QiBbSjZTWpU"
      }
    },
    {
      "cell_type": "code",
      "source": [
        "\n",
        "class Animal:\n",
        "    def speak(self):\n",
        "        print(\"The animal makes a sound.\")\n",
        "\n",
        "\n",
        "class Dog(Animal):\n",
        "    def speak(self):\n",
        "        print(\"Bark!\")\n",
        "\n",
        "\n",
        "a = Animal()\n",
        "d = Dog()\n",
        "\n",
        "\n",
        "a.speak()\n",
        "d.speak()\n"
      ],
      "metadata": {
        "id": "4_Yi6HGZTxhO"
      },
      "execution_count": null,
      "outputs": []
    },
    {
      "cell_type": "markdown",
      "source": [
        "2) Write a program to create an abstract class Shape with a method area(). Derive classes Circle and Rectangle\n",
        "from it and implement the area() method in both.\n",
        "\n",
        "\n"
      ],
      "metadata": {
        "id": "OfV9cPSVT-5I"
      }
    },
    {
      "cell_type": "code",
      "source": [
        "from abc import ABC, abstractmethod\n",
        "import math\n",
        "\n",
        "\n",
        "class Shape(ABC):\n",
        "    @abstractmethod\n",
        "    def area(self):\n",
        "        pass\n",
        "\n",
        "\n",
        "class Circle(Shape):\n",
        "    def __init__(self, radius):\n",
        "        self.radius = radius\n",
        "\n",
        "    def area(self):\n",
        "        return math.pi * self.radius ** 2\n",
        "\n",
        "\n",
        "class Rectangle(Shape):\n",
        "    def __init__(self, length, width):\n",
        "        self.length = length\n",
        "        self.width = width\n",
        "\n",
        "    def area(self):\n",
        "        return self.length * self.width\n",
        "\n",
        "\n",
        "circle = Circle(5)\n",
        "rectangle = Rectangle(4, 6)\n",
        "\n",
        "print(f\"Area of Circle: {circle.area():.2f}\")\n",
        "print(f\"Area of Rectangle: {rectangle.area()}\")"
      ],
      "metadata": {
        "id": "Y78oK5JvUUF9"
      },
      "execution_count": null,
      "outputs": []
    },
    {
      "cell_type": "markdown",
      "source": [
        "3) Implement a multi-level inheritance scenario where a class Vehicle has an attribute type. Derive a class Car\n",
        "and further derive a class ElectricCar that adds a battery attribute."
      ],
      "metadata": {
        "id": "TKfCo18lUpYT"
      }
    },
    {
      "cell_type": "code",
      "source": [
        "\n",
        "class Vehicle:\n",
        "    def __init__(self, vehicle_type):\n",
        "        self.type = vehicle_type\n",
        "\n",
        "    def show_type(self):\n",
        "        print(f\"Vehicle Type: {self.type}\")\n",
        "\n",
        "class Car(Vehicle):\n",
        "    def __init__(self, vehicle_type, brand):\n",
        "        super().__init__(vehicle_type)\n",
        "        self.brand = brand\n",
        "\n",
        "    def show_brand(self):\n",
        "        print(f\"Car Brand: {self.brand}\")\n",
        "\n",
        "\n",
        "class ElectricCar(Car):\n",
        "    def __init__(self, vehicle_type, brand, battery):\n",
        "        super().__init__(vehicle_type, brand)\n",
        "        self.battery = battery\n",
        "\n",
        "    def show_battery(self):\n",
        "        print(f\"Battery Capacity: {self.battery} kWh\")\n",
        "\n",
        "\n",
        "tesla = ElectricCar(\"Four Wheeler\", \"Tesla\", 85)\n",
        "\n",
        "tesla.show_type()\n",
        "tesla.show_brand()\n",
        "tesla.show_battery()\n"
      ],
      "metadata": {
        "id": "pgW00p7mVBau"
      },
      "execution_count": null,
      "outputs": []
    },
    {
      "cell_type": "markdown",
      "source": [
        "4. Demonstrate polymorphism by creating a base class Bird with a method fly(). Create two derived classes\n",
        "Sparrow and Penguin that override the fly() method.\n"
      ],
      "metadata": {
        "id": "0NUbp06wVU25"
      }
    },
    {
      "cell_type": "code",
      "source": [
        "\n",
        "class Bird:\n",
        "    def fly(self):\n",
        "        print(\"Bird is flying...\")\n",
        "\n",
        "\n",
        "class Sparrow(Bird):\n",
        "    def fly(self):\n",
        "        print(\"Sparrow flies high in the sky!\")\n",
        "\n",
        "\n",
        "class Penguin(Bird):\n",
        "    def fly(self):\n",
        "        print(\"Penguins can't fly, they swim!\")\n",
        "\n",
        "def bird_flight(bird):\n",
        "    bird.fly()\n",
        "\n",
        "sparrow = Sparrow()\n",
        "penguin = Penguin()\n",
        "\n",
        "bird_flight(sparrow)\n",
        "bird_flight(penguin)\n"
      ],
      "metadata": {
        "id": "PcUwzB2kVjvb"
      },
      "execution_count": null,
      "outputs": []
    },
    {
      "cell_type": "markdown",
      "source": [
        "5. Write a program to demonstrate encapsulation by creating a class BankAccount with private attributes\n",
        "balance and methods to deposit, withdraw, and check balance."
      ],
      "metadata": {
        "id": "5n4bQJXhVweg"
      }
    },
    {
      "cell_type": "code",
      "source": [
        "class BankAccount:\n",
        "    def __init__(self, initial_balance):\n",
        "        self.__balance = initial_balance\n",
        "\n",
        "\n",
        "    def deposit(self, amount):\n",
        "        if amount > 0:\n",
        "            self.__balance += amount\n",
        "            print(f\"Deposited: ₹{amount}\")\n",
        "        else:\n",
        "            print(\"Invalid deposit amount.\")\n",
        "\n",
        "\n",
        "    def withdraw(self, amount):\n",
        "        if 0 < amount <= self.__balance:\n",
        "            self.__balance -= amount\n",
        "            print(f\"Withdrew: ₹{amount}\")\n",
        "        else:\n",
        "            print(\"Insufficient balance or invalid amount.\")\n",
        "\n",
        "\n",
        "    def check_balance(self):\n",
        "        print(f\"Current Balance: ₹{self.__balance}\")\n",
        "\n",
        "account = BankAccount(1000)\n",
        "\n",
        "account.check_balance()\n",
        "account.deposit(500)\n",
        "account.withdraw(200)\n",
        "account.check_balance()\n",
        "\n"
      ],
      "metadata": {
        "id": "xCcLhSrDV3Ve"
      },
      "execution_count": null,
      "outputs": []
    },
    {
      "cell_type": "markdown",
      "source": [
        "6. Demonstrate runtime polymorphism using a method play() in a base class Instrument. Derive classes Guitar\n",
        "and Piano that implement their own version of play()."
      ],
      "metadata": {
        "id": "5WON84lxWpzW"
      }
    },
    {
      "cell_type": "code",
      "source": [
        "\n",
        "class Instrument:\n",
        "    def play(self):\n",
        "        print(\"Instrument is playing...\")\n",
        "\n",
        "class Guitar(Instrument):\n",
        "    def play(self):\n",
        "        print(\"Strumming the guitar \")\n",
        "\n",
        "\n",
        "class Piano(Instrument):\n",
        "    def play(self):\n",
        "        print(\"Playing the piano \")\n",
        "\n",
        "\n",
        "def perform(instrument):\n",
        "    instrument.play()\n",
        "\n",
        "\n",
        "guitar = Guitar()\n",
        "piano = Piano()\n",
        "\n",
        "perform(guitar)\n",
        "perform(piano)\n"
      ],
      "metadata": {
        "id": "THzrE_XgW1F3"
      },
      "execution_count": null,
      "outputs": []
    },
    {
      "cell_type": "markdown",
      "source": [
        "7. Create a class MathOperations with a class method add_numbers() to add two numbers and a static\n",
        "method subtract_numbers() to subtract two numbers.\n",
        "\n",
        "\n"
      ],
      "metadata": {
        "id": "FvKlq5rW3ugv"
      }
    },
    {
      "cell_type": "code",
      "source": [
        "class MathOperations:\n",
        "\n",
        "\n",
        "    @classmethod\n",
        "    def add_numbers(cls, a, b):\n",
        "        return a + b\n",
        "\n",
        "\n",
        "    @staticmethod\n",
        "    def subtract_numbers(a, b):\n",
        "        return a - b\n",
        "\n",
        "\n",
        "print(\"Addition:\", MathOperations.add_numbers(10, 5))      # Output: 15\n",
        "print(\"Subtraction:\", MathOperations.subtract_numbers(10, 5))  # Output: 5\n"
      ],
      "metadata": {
        "id": "3LkW2YTrPtbH"
      },
      "execution_count": null,
      "outputs": []
    },
    {
      "cell_type": "markdown",
      "source": [
        "8. Implement a class Person with a class method to count the total number of persons created."
      ],
      "metadata": {
        "id": "yMbUym0kQOB1"
      }
    },
    {
      "cell_type": "code",
      "source": [
        "class Person:\n",
        "    count = 0\n",
        "\n",
        "    def __init__(self, name):\n",
        "        self.name = name\n",
        "        Person.count += 1\n",
        "\n",
        "\n",
        "    @classmethod\n",
        "    def total_persons(cls):\n",
        "        return cls.count\n",
        "\n",
        "p1 = Person(\"Zakwan\")\n",
        "p2 = Person(\"Ali\")\n",
        "p3 = Person(\"Sara\")\n",
        "\n",
        "\n",
        "print(\"Total persons created:\", Person.total_persons())  # Output: 3\n"
      ],
      "metadata": {
        "id": "HMTgTaEzQclf"
      },
      "execution_count": null,
      "outputs": []
    },
    {
      "cell_type": "markdown",
      "source": [
        "9. Write a class Fraction with attributes numerator and denominator. Override the str method to display the\n",
        "fraction as \"numerator/denominator\"."
      ],
      "metadata": {
        "id": "bxiqV9OVQm3_"
      }
    },
    {
      "cell_type": "code",
      "source": [
        "class Fraction:\n",
        "    def __init__(self, numerator, denominator):\n",
        "        self.numerator = numerator\n",
        "        self.denominator = denominator\n",
        "\n",
        "    def __str__(self):\n",
        "        return f\"{self.numerator}/{self.denominator}\"\n",
        "\n",
        "\n",
        "f1 = Fraction(3, 4)\n",
        "f2 = Fraction(7, 2)\n",
        "\n",
        "print(f1)  # Output: 3/4\n",
        "print(f2)  # Output: 7/2\n"
      ],
      "metadata": {
        "id": "gXaHa0X6Q1Bv"
      },
      "execution_count": null,
      "outputs": []
    },
    {
      "cell_type": "markdown",
      "source": [
        "10. Demonstrate operator overloading by creating a class Vector and overriding the add method to add two\n",
        "vectors."
      ],
      "metadata": {
        "id": "KkYnoyn7Q-x1"
      }
    },
    {
      "cell_type": "code",
      "source": [
        "class Vector:\n",
        "    def __init__(self, x, y):\n",
        "        self.x = x\n",
        "        self.y = y\n",
        "\n",
        "    def __add__(self, other):\n",
        "        return Vector(self.x + other.x, self.y + other.y)\n",
        "\n",
        "    def __str__(self):\n",
        "        return f\"Vector({self.x}, {self.y})\"\n",
        "\n",
        "v1 = Vector(2, 3)\n",
        "v2 = Vector(4, 5)\n",
        "\n",
        "v3 = v1 + v2\n",
        "\n",
        "print(v1)\n",
        "print(v2)\n",
        "print(v3)\n"
      ],
      "metadata": {
        "id": "C7gi2kupRMD_"
      },
      "execution_count": null,
      "outputs": []
    },
    {
      "cell_type": "markdown",
      "source": [
        "11. Create a class Person with attributes name and age. Add a method greet() that prints \"Hello, my name is\n",
        "{name} and I am {age} years old.\""
      ],
      "metadata": {
        "id": "QTwM4SMq9IW_"
      }
    },
    {
      "cell_type": "code",
      "source": [
        "class Person:\n",
        "    def __init__(self, name, age):\n",
        "        self.name = name\n",
        "        self.age = age\n",
        "\n",
        "    def greet(self):\n",
        "        print(f\"Hello, my name is {self.name} and I am {self.age} years old.\")\n",
        "\n",
        "p1 = Person(\"Zakwan\", 25)\n",
        "p2 = Person(\"Sara\", 30)\n",
        "\n",
        "p1.greet()\n",
        "p2.greet()\n"
      ],
      "metadata": {
        "id": "G_CjHulp9jFf"
      },
      "execution_count": null,
      "outputs": []
    },
    {
      "cell_type": "markdown",
      "source": [
        "12. Implement a class Student with attributes name and grades. Create a method average_grade() to compute\n",
        "the average of the grades."
      ],
      "metadata": {
        "id": "EiK9RRKt9qwR"
      }
    },
    {
      "cell_type": "code",
      "source": [
        "class Student:\n",
        "    def __init__(self, name, grades):\n",
        "        self.name = name\n",
        "        self.grades = grades\n",
        "\n",
        "    def average_grade(self):\n",
        "        if not self.grades:\n",
        "            return 0\n",
        "        return sum(self.grades) / len(self.grades)\n",
        "\n",
        "\n",
        "s1 = Student(\"Ali\", [85, 90, 78])\n",
        "s2 = Student(\"Zara\", [92, 88, 95, 100])\n",
        "\n",
        "print(f\"{s1.name}'s average grade: {s1.average_grade():.2f}\")  # Output: 84.33\n",
        "print(f\"{s2.name}'s average grade: {s2.average_grade():.2f}\")  # Output: 93.75\n"
      ],
      "metadata": {
        "id": "EzooA-Vl-tMq"
      },
      "execution_count": null,
      "outputs": []
    },
    {
      "cell_type": "markdown",
      "source": [
        "13. Create a class Rectangle with methods set_dimensions() to set the dimensions and area() to calculate the\n",
        "area.\n",
        "\n",
        "\n"
      ],
      "metadata": {
        "id": "HtwmDfXE-46X"
      }
    },
    {
      "cell_type": "code",
      "source": [
        "class Rectangle:\n",
        "    def __init__(self):\n",
        "        self.length = 0\n",
        "        self.width = 0\n",
        "\n",
        "    def set_dimensions(self, length, width):\n",
        "        self.length = length\n",
        "        self.width = width\n",
        "\n",
        "    def area(self):\n",
        "        return self.length * self.width\n",
        "\n",
        "\n",
        "r1 = Rectangle()\n",
        "r1.set_dimensions(10, 5)\n",
        "\n",
        "print(f\"Area of rectangle: {r1.area()}\")  # Output: 50\n"
      ],
      "metadata": {
        "id": "sb3lMCWn-770"
      },
      "execution_count": null,
      "outputs": []
    },
    {
      "cell_type": "markdown",
      "source": [
        "14. Create a class Employee with a method calculate_salary() that computes the salary based on hours worked\n",
        "and hourly rate. Create a derived class Manager that adds a bonus to the salary."
      ],
      "metadata": {
        "id": "15kgI9BOAGxc"
      }
    },
    {
      "cell_type": "code",
      "source": [
        "class Employee:\n",
        "    def __init__(self, name, hours_worked, hourly_rate):\n",
        "        self.name = name\n",
        "        self.hours_worked = hours_worked\n",
        "        self.hourly_rate = hourly_rate\n",
        "\n",
        "    def calculate_salary(self):\n",
        "        return self.hours_worked * self.hourly_rate\n",
        "\n",
        "\n",
        "class Manager(Employee):\n",
        "    def __init__(self, name, hours_worked, hourly_rate, bonus):\n",
        "        super().__init__(name, hours_worked, hourly_rate)\n",
        "        self.bonus = bonus\n",
        "\n",
        "    def calculate_salary(self):\n",
        "        base_salary = super().calculate_salary()\n",
        "        return base_salary + self.bonus\n",
        "\n",
        "\n",
        "\n",
        "e1 = Employee(\"Ali\", 40, 500)\n",
        "m1 = Manager(\"Sara\", 40, 500, 2000)\n",
        "\n",
        "print(f\"{e1.name}'s Salary: ₹{e1.calculate_salary()}\")\n",
        "print(f\"{m1.name}'s Salary (with bonus): ₹{m1.calculate_salary()}\")\n"
      ],
      "metadata": {
        "id": "FJcgI5jDAKqD"
      },
      "execution_count": null,
      "outputs": []
    },
    {
      "cell_type": "markdown",
      "source": [
        "15. Create a class Product with attributes name, price, and quantity. Implement a method total_price() that\n",
        "calculates the total price of the product.\n",
        "\n",
        "\n"
      ],
      "metadata": {
        "id": "xhapsnxaAgLg"
      }
    },
    {
      "cell_type": "code",
      "source": [
        "class Product:\n",
        "    def __init__(self, name, price, quantity):\n",
        "        self.name = name\n",
        "        self.price = price\n",
        "        self.quantity = quantity\n",
        "\n",
        "    def total_price(self):\n",
        "        return self.price * self.quantity\n",
        "\n",
        "\n",
        "p1 = Product(\"Laptop\", 50000, 2)\n",
        "p2 = Product(\"Phone\", 20000, 3)\n",
        "\n",
        "print(f\"Total price for {p1.name}: ₹{p1.total_price()}\")\n",
        "print(f\"Total price for {p2.name}: ₹{p2.total_price()}\")\n"
      ],
      "metadata": {
        "id": "Hae3cm3xAwqX"
      },
      "execution_count": null,
      "outputs": []
    },
    {
      "cell_type": "markdown",
      "source": [
        "16. Create a class Animal with an abstract method sound(). Create two derived classes Cow and Sheep that\n",
        "implement the sound() method."
      ],
      "metadata": {
        "id": "0GNOAwclA4kg"
      }
    },
    {
      "cell_type": "code",
      "source": [
        "from abc import ABC, abstractmethod\n",
        "\n",
        "\n",
        "class Animal(ABC):\n",
        "    @abstractmethod\n",
        "    def sound(self):\n",
        "        pass\n",
        "\n",
        "class Cow(Animal):\n",
        "    def sound(self):\n",
        "        return \"Moo\"\n",
        "\n",
        "\n",
        "class Sheep(Animal):\n",
        "    def sound(self):\n",
        "        return \"Baa\"\n",
        "\n",
        "cow = Cow()\n",
        "sheep = Sheep()\n",
        "\n",
        "print(f\"Cow says: {cow.sound()}\")\n",
        "print(f\"Sheep says: {sheep.sound()}\")\n"
      ],
      "metadata": {
        "id": "MuqGJDsiBDZs"
      },
      "execution_count": null,
      "outputs": []
    },
    {
      "cell_type": "markdown",
      "source": [
        "17. Create a class Book with attributes title, author, and year_published. Add a method get_book_info() that\n",
        "returns a formatted string with the book's details."
      ],
      "metadata": {
        "id": "XXNpqdxlBKGG"
      }
    },
    {
      "cell_type": "code",
      "source": [
        "class Book:\n",
        "    def __init__(self, title, author, year_published):\n",
        "        self.title = title\n",
        "        self.author = author\n",
        "        self.year_published = year_published\n",
        "\n",
        "    def get_book_info(self):\n",
        "        return f\"'{self.title}' by {self.author}, published in {self.year_published}.\"\n",
        "\n",
        "\n",
        "book1 = Book(\"To Kill a Mockingbird\", \"Harper Lee\", 1960)\n",
        "book2 = Book(\"The Alchemist\", \"Paulo Coelho\", 1988)\n",
        "\n",
        "print(book1.get_book_info())\n",
        "print(book2.get_book_info())\n"
      ],
      "metadata": {
        "id": "-JyXLQRCBTKS"
      },
      "execution_count": null,
      "outputs": []
    },
    {
      "cell_type": "markdown",
      "source": [
        "18. Create a class House with attributes address and price. Create a derived class Mansion that adds an\n",
        "attribute number_of_rooms."
      ],
      "metadata": {
        "id": "QGyQ29jXCF3N"
      }
    },
    {
      "cell_type": "code",
      "source": [
        "\n",
        "class House:\n",
        "    def __init__(self, address, price):\n",
        "        self.address = address\n",
        "        self.price = price\n",
        "\n",
        "\n",
        "class Mansion(House):\n",
        "    def __init__(self, address, price, number_of_rooms):\n",
        "        super().__init__(address, price)\n",
        "        self.number_of_rooms = number_of_rooms\n",
        "\n",
        "    def get_details(self):\n",
        "        return (f\"Mansion located at {self.address}, priced at ₹{self.price}, \"\n",
        "                f\"with {self.number_of_rooms} rooms.\")\n",
        "\n",
        "\n",
        "m1 = Mansion(\"123 Luxury Lane, Mumbai\", 50000000, 10)\n",
        "print(m1.get_details())\n"
      ],
      "metadata": {
        "id": "URHpXPcVCUx3"
      },
      "execution_count": null,
      "outputs": []
    },
    {
      "cell_type": "markdown",
      "source": [],
      "metadata": {
        "id": "16HsVjCg_CiE"
      }
    }
  ]
}