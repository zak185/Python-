{
  "nbformat": 4,
  "nbformat_minor": 0,
  "metadata": {
    "colab": {
      "provenance": []
    },
    "kernelspec": {
      "name": "python3",
      "display_name": "Python 3"
    },
    "language_info": {
      "name": "python"
    }
  },
  "cells": [
    {
      "cell_type": "markdown",
      "source": [
        "#    1.What is the difference between a function and a method in Python\n",
        "\n",
        "n Python, the difference between a function and a method mainly revolves around how they are defined and used, especially in relation to objects and classes. Here's a clear breakdown:\n",
        "\n",
        "1. Function\n",
        "\n",
        "A function is a block of reusable code that performs a task.\n",
        "\n",
        "It is defined independently, outside of any class.\n",
        "\n",
        "You call it by its name, optionally passing arguments.\n",
        "\n"
      ],
      "metadata": {
        "id": "sXXchX8irbgZ"
      }
    },
    {
      "cell_type": "code",
      "source": [
        "Example:\n",
        "\n",
        "def greet(name):\n",
        "    return f\"Hello, {name}!\"\n",
        "\n",
        "print(greet(\"Zakwan\"))  # Output: Hello, Zakwan!"
      ],
      "metadata": {
        "id": "y50oNa1Pr5On"
      },
      "execution_count": null,
      "outputs": []
    },
    {
      "cell_type": "markdown",
      "source": [
        "Key points about functions:\n",
        "\n",
        "Can exist without a class.\n",
        "\n",
        "Can take parameters and return values.\n",
        "\n",
        "Called using its name directly.\n",
        "\n",
        "2. Method\n",
        "\n",
        "A method is a function that is associated with an object.\n",
        "\n",
        "It is defined inside a class.\n",
        "\n",
        "It usually operates on data contained in the object (instance attributes).\n",
        "\n",
        "The first parameter is typically self, which refers to the instance."
      ],
      "metadata": {
        "id": "nftu8fj5sH8A"
      }
    },
    {
      "cell_type": "code",
      "source": [
        "Example:\n",
        "\n",
        "class Person:\n",
        "    def __init__(self, name):\n",
        "        self.name = name\n",
        "\n",
        "    def greet(self):\n",
        "        return f\"Hello, {self.name}!\"\n",
        "\n",
        "p = Person(\"Zakwan\")\n",
        "print(p.greet())  # Output: Hello, Zakwan!"
      ],
      "metadata": {
        "id": "pJqxwTT2sNmQ"
      },
      "execution_count": null,
      "outputs": []
    },
    {
      "cell_type": "markdown",
      "source": [
        "Key points about methods:\n",
        "\n",
        "Always belongs to an object (instance) or class (class method/staticmethod).\n",
        "\n",
        "Can access or modify the object’s data.\n",
        "\n",
        "Called on an object using dot notation (object.method())."
      ],
      "metadata": {
        "id": "JR-gNcMHsR8R"
      }
    },
    {
      "cell_type": "markdown",
      "source": [
        "#    2. Explain the concept of function arguments and parameters in Python\n",
        "\n",
        "1. Parameters\n",
        "\n",
        "Definition: Parameters are the variables defined in the function signature that act as placeholders for the values the function will receive.\n",
        "\n",
        "They exist inside the function definition."
      ],
      "metadata": {
        "id": "nyIBOOvDsXkm"
      }
    },
    {
      "cell_type": "code",
      "source": [
        "Example:\n",
        "\n",
        "def greet(name, age):\n",
        "    print(f\"Hello {name}, you are {age} years old.\")"
      ],
      "metadata": {
        "id": "Y3pKPjbZsp0g"
      },
      "execution_count": null,
      "outputs": []
    },
    {
      "cell_type": "markdown",
      "source": [
        "2. Arguments\n",
        "\n",
        "Definition: Arguments are the actual values you pass to the function when you call it.\n",
        "\n",
        "They replace the parameters during execution.\n",
        "\n",
        "Example:\n",
        "\n",
        "greet(\"Zakwan\", 25)\n",
        "\n",
        "3. Types of Function Arguments in Python\n",
        "\n",
        "Positional Arguments\n",
        "\n",
        "Values are assigned to parameters based on their position.\n",
        "\n",
        "Keyword Arguments\n",
        "\n",
        "Values are assigned by parameter names, so order doesn’t matter.\n",
        "\n",
        "Default Arguments\n",
        "\n",
        "Parameters can have default values if no argument is passed.\n",
        "\n",
        "Variable-Length Arguments\n",
        "\n",
        "*args: For a variable number of positional arguments.\n",
        "\n",
        "**kwargs: For a variable number of keyword arguments."
      ],
      "metadata": {
        "id": "k3yXtwyPsr0y"
      }
    },
    {
      "cell_type": "markdown",
      "source": [
        "#    3.What are the different ways to define and call a function in Python?\n",
        "\n",
        "1. Basic Function Definition and Call\n",
        "\n",
        "Use the def keyword to define a function.\n",
        "\n",
        "Call it using its name with parentheses."
      ],
      "metadata": {
        "id": "Qsc8ksP2tZKu"
      }
    },
    {
      "cell_type": "code",
      "source": [
        "def greet():\n",
        "    print(\"Hello, Zakwan!\")\n",
        "\n",
        "greet()  # Output: Hello, Zakwan!\n"
      ],
      "metadata": {
        "id": "h3ecZsM7ttM7"
      },
      "execution_count": null,
      "outputs": []
    },
    {
      "cell_type": "markdown",
      "source": [
        "2. Function with Parameters\n",
        "\n",
        "Pass values to the function to make it dynamic."
      ],
      "metadata": {
        "id": "SmN-6sYAtx7Q"
      }
    },
    {
      "cell_type": "code",
      "source": [
        "def greet(name):\n",
        "    print(f\"Hello, {name}!\")\n",
        "\n",
        "greet(\"Zakwan\")  # Output: Hello, Zakwan!\n"
      ],
      "metadata": {
        "id": "9oVWeHfdt4FF"
      },
      "execution_count": null,
      "outputs": []
    },
    {
      "cell_type": "markdown",
      "source": [
        "3. Function with Return Value\n",
        "\n",
        "Use return to send a value back to the caller."
      ],
      "metadata": {
        "id": "ChmXjEbkt-Ni"
      }
    },
    {
      "cell_type": "code",
      "source": [
        "def add(a, b):\n",
        "    return a + b\n",
        "\n",
        "result = add(5, 3)\n",
        "print(result)  # Output: 8\n"
      ],
      "metadata": {
        "id": "OAjnlOGeuCoD"
      },
      "execution_count": null,
      "outputs": []
    },
    {
      "cell_type": "markdown",
      "source": [
        "#    4. What is the purpose of the `return` statement in a Python function\n",
        "\n",
        "The return statement in a Python function serves a very specific and important purpose: it sends a value back to the caller of the function. Without return, a function performs its task but does not give any result back.\n",
        "\n",
        "Key Points About return\n",
        "\n",
        "Returns a value from a function\n",
        "\n",
        "The value can be a number, string, list, dictionary, object, or even another function."
      ],
      "metadata": {
        "id": "kDi6coPWuE5S"
      }
    },
    {
      "cell_type": "code",
      "source": [
        "def add(a, b):\n",
        "    return a + b\n",
        "\n",
        "result = add(5, 3)\n",
        "print(result)  # Output: 8\n"
      ],
      "metadata": {
        "id": "BVcfk2Luuerg"
      },
      "execution_count": null,
      "outputs": []
    },
    {
      "cell_type": "markdown",
      "source": [
        "Stops the function execution\n",
        "\n",
        "Once return is executed, the function ends immediately."
      ],
      "metadata": {
        "id": "UiHAtpPiumkO"
      }
    },
    {
      "cell_type": "code",
      "source": [
        "def test():\n",
        "    print(\"Before return\")\n",
        "    return 10\n",
        "    print(\"After return\")  # This line will NOT execute\n",
        "\n",
        "print(test())\n"
      ],
      "metadata": {
        "id": "5_9dk1SVuokF"
      },
      "execution_count": null,
      "outputs": []
    },
    {
      "cell_type": "markdown",
      "source": [
        "Summary\n",
        "\n",
        "return sends data back to the caller.\n",
        "\n",
        "It stops function execution immediately.\n",
        "\n",
        "It allows functions to produce a result that can be stored, printed, or used elsewhere."
      ],
      "metadata": {
        "id": "8A6XoYRWux_K"
      }
    },
    {
      "cell_type": "markdown",
      "source": [
        "#    5.What are iterators in Python and how do they differ from iterables\n",
        "\n",
        "1. Iterable\n",
        "\n",
        "An iterable is any Python object that can return its elements one at a time, allowing you to loop over it (using a for loop, for example).\n",
        "\n",
        "Examples: list, tuple, string, dict, set.\n",
        "\n",
        "Characteristics:\n",
        "\n",
        "Implements the __iter__() method.\n",
        "\n",
        "You can loop over it multiple times"
      ],
      "metadata": {
        "id": "49e_ZHVmuy8f"
      }
    },
    {
      "cell_type": "code",
      "source": [
        "my_list = [1, 2, 3]\n",
        "\n",
        "for item in my_list:  # list is iterable\n",
        "    print(item)\n"
      ],
      "metadata": {
        "id": "mWtCHu37vB1L"
      },
      "execution_count": null,
      "outputs": []
    },
    {
      "cell_type": "markdown",
      "source": [
        "2. Iterator\n",
        "\n",
        "An iterator is an object that produces the next value of an iterable when requested, one at a time.\n",
        "\n",
        "It keeps track of its current position internally.\n",
        "\n",
        "Implements two methods:\n",
        "\n",
        "__iter__() – returns the iterator object itself.\n",
        "\n",
        "__next__() – returns the next value; raises StopIteration when exhausted"
      ],
      "metadata": {
        "id": "TDhCWaECvDc3"
      }
    },
    {
      "cell_type": "markdown",
      "source": [
        "#    6.Explain the concept of generators in Python and how they are defined.\n",
        "\n",
        "1. What is a Generator?\n",
        "\n",
        "A generator is a function that returns an iterator that yields values one at a time instead of returning all values at once.\n",
        "\n",
        "Unlike a normal function that uses return, a generator uses the yield keyword.\n",
        "\n",
        "Each call to next() resumes the function from where it last left off, until it ends.\n",
        "\n",
        "Advantages:\n",
        "\n",
        "Saves memory (doesn’t store the entire sequence at once)\n",
        "\n",
        "Useful for large sequences or infinite streams\n",
        "\n",
        "2. How to Define a Generator\n",
        "A. Using yield in a Function\n",
        "\n"
      ],
      "metadata": {
        "id": "V476OM2vvIfz"
      }
    },
    {
      "cell_type": "code",
      "source": [
        "def my_generator():\n",
        "    yield 1\n",
        "    yield 2\n",
        "    yield 3\n",
        "\n",
        "gen = my_generator()  # Create a generator object\n",
        "print(next(gen))  # Output: 1\n",
        "print(next(gen))  # Output: 2\n",
        "print(next(gen))  # Output: 3\n",
        "# next(gen) now raises StopIteration\n"
      ],
      "metadata": {
        "id": "NQfUm87Tvn25"
      },
      "execution_count": null,
      "outputs": []
    },
    {
      "cell_type": "markdown",
      "source": [
        "3. Key Points About Generators\n",
        "\n",
        "Lazy Evaluation – Values are produced only when needed.\n",
        "\n",
        "Stateful – Keeps track of where it left off after each yield.\n",
        "\n",
        "Memory Efficient – Ideal for large datasets or infinite sequences.\n",
        "\n",
        "Iterable – Can be used in a for loop or with next()."
      ],
      "metadata": {
        "id": "coms56CAvwTo"
      }
    },
    {
      "cell_type": "markdown",
      "source": [
        "#    7.What are the advantages of using generators over regular functions?\n",
        "\n",
        "Generators in Python provide several key advantages over regular functions, especially when dealing with large datasets or streams of data. Here’s a detailed breakdown:\n",
        "\n",
        "1. Memory Efficiency\n",
        "\n",
        "Regular functions compute and store all results in memory before returning them (like returning a list).\n",
        "\n",
        "Generators produce values one at a time, only when needed, saving memory."
      ],
      "metadata": {
        "id": "JODWRdOOv1sJ"
      }
    },
    {
      "cell_type": "code",
      "source": [
        "# Regular function\n",
        "def squares(n):\n",
        "    result = []\n",
        "    for i in range(n):\n",
        "        result.append(i*i)\n",
        "    return result\n",
        "\n",
        "# Generator\n",
        "def squares_gen(n):\n",
        "    for i in range(n):\n",
        "        yield i*i\n"
      ],
      "metadata": {
        "id": "dsZUXYrpwME-"
      },
      "execution_count": null,
      "outputs": []
    },
    {
      "cell_type": "markdown",
      "source": [
        "2. Lazy Evaluation\n",
        "\n",
        "Generators generate values on the fly (lazy evaluation), rather than computing everything upfront.\n",
        "\n",
        "This allows handling infinite sequences or data streams efficiently.\n",
        "\n",
        "3. Efficient Iteration\n",
        "\n",
        "You can loop over a generator using for, and it automatically produces the next value when needed.\n",
        "\n",
        "No need to manage indexes or slices manually.\n",
        "\n",
        "4. Improved Performance\n",
        "\n",
        "Since generators produce one item at a time, the program can start processing immediately, without waiting for all results.\n",
        "\n",
        "This is useful in pipelines or streaming data.\n",
        "\n",
        "5. State Retention\n",
        "\n",
        "Generators remember the point of execution between yields.\n",
        "\n",
        "You don’t need to manually track iteration state.\n",
        "\n",
        "6. Simplified Code for Complex Iterators\n",
        "\n",
        "Without generators, creating custom iterators requires a class with __iter__() and __next__().\n",
        "\n",
        "Generators simplify this to a function using yield."
      ],
      "metadata": {
        "id": "Io7eNrNSwdbK"
      }
    },
    {
      "cell_type": "markdown",
      "source": [
        "#    8. What is a lambda function in Python and when is it typically used?\n",
        "A lambda function in Python is a small, anonymous function defined using the lambda keyword instead of def. It can take any number of arguments but can only have a single expression, whose result is returned automatically."
      ],
      "metadata": {
        "id": "VUnEbUynwkA2"
      }
    },
    {
      "cell_type": "code",
      "source": [
        "Example:\n",
        "\n",
        "# Regular function\n",
        "def square(x):\n",
        "    return x**2\n",
        "\n",
        "# Lambda function\n",
        "square_lambda = lambda x: x**2\n",
        "\n",
        "print(square_lambda(5))  # Output: 25\n"
      ],
      "metadata": {
        "id": "IypirtFCwyuK"
      },
      "execution_count": null,
      "outputs": []
    },
    {
      "cell_type": "markdown",
      "source": [
        "2. Key Characteristics\n",
        "\n",
        "Anonymous: Typically used without a name, though it can be assigned to a variable.\n",
        "\n",
        "Single expression: Cannot contain multiple statements or assignments.\n",
        "\n",
        "Returns automatically: No need for return keyword.\n",
        "\n",
        "Lightweight and concise: Useful for short, simple functions.\n",
        "\n",
        "3. When is it typically used?\n",
        "\n",
        "Lambda functions are commonly used when you need a small function for a short period:\n",
        "\n",
        "A. With map()  \n",
        "B. With filter()  \n",
        "C. With sorted() or sort()  \n",
        "D. Anywhere a small throwaway function is needed\n",
        "\n",
        "As a quick callback or short inline function.\n",
        "\n",
        "Summary:\n",
        "\n",
        "Lambda = small, anonymous function\n",
        "\n",
        "Used for short, quick tasks like mapping, filtering, sorting, or callbacks."
      ],
      "metadata": {
        "id": "WFXvWZI_w1Oj"
      }
    },
    {
      "cell_type": "markdown",
      "source": [
        "#    9. Explain the purpose and usage of the `map()` function in Python\n",
        "\n",
        "The map() function in Python is used to apply a function to every item of an iterable (like a list, tuple, or set) and return a new iterable with the results. It is a very convenient way to perform element-wise transformations without using explicit loops.\n",
        "\n",
        "function: A function that will be applied to each item of the iterable.\n",
        "\n",
        "iterable: One or more iterables (lists, tuples, etc.).\n",
        "\n",
        "Returns: A map object (which is an iterator), so you often need to convert it to a list or tuple to see the results."
      ],
      "metadata": {
        "id": "CP49lB0XxTXV"
      }
    },
    {
      "cell_type": "code",
      "source": [
        "\n",
        "def square(x):\n",
        "    return x**2\n",
        "\n",
        "numbers = [1, 2, 3, 4]\n",
        "squared_numbers = map(square, numbers)  # map object\n",
        "\n",
        "print(list(squared_numbers))  # Output: [1, 4, 9, 16]"
      ],
      "metadata": {
        "id": "Dp2wwUVfx0Md"
      },
      "execution_count": null,
      "outputs": []
    },
    {
      "cell_type": "markdown",
      "source": [
        "3. Using lambda with map()\n",
        "\n",
        "You can use an anonymous lambda function for short, one-time operations.\n",
        "\n",
        "4. Using map() with Multiple Iterables\n",
        "\n",
        "If multiple iterables are passed, the function must take as many arguments as there are iterables. map() stops at the shortest iterable.\n",
        "\n",
        "5. Key Points\n",
        "\n",
        "Returns a map object → can be converted to list, tuple, etc.\n",
        "\n",
        "Does not modify the original iterable.\n",
        "\n",
        "Supports multiple iterables.\n",
        "\n",
        "Often used with lambda functions for concise code.\n",
        "\n",
        "Efficient for large datasets because it uses lazy evaluation (like generators)."
      ],
      "metadata": {
        "id": "E6cVUMA10RTL"
      }
    },
    {
      "cell_type": "markdown",
      "source": [
        "#    10. What is the difference between `map()`, `reduce()`, and `filter()` functions in Python?\n",
        "\n",
        "1. map()\n",
        "\n",
        "Purpose: Apply a function to each item of an iterable and return a new iterable with the results.\n",
        "\n",
        "Result: Same number of elements as the original iterable.\n",
        "\n",
        "\n",
        "\n"
      ],
      "metadata": {
        "id": "h6gun2XE0gZS"
      }
    },
    {
      "cell_type": "code",
      "source": [
        "nums = [1, 2, 3, 4]\n",
        "squared = list(map(lambda x: x**2, nums))\n",
        "print(squared)  # Output: [1, 4, 9, 16]\n"
      ],
      "metadata": {
        "id": "JZdog5Ew02E3"
      },
      "execution_count": null,
      "outputs": []
    },
    {
      "cell_type": "markdown",
      "source": [
        "2. filter()\n",
        "\n",
        "Purpose: Select only those items from an iterable that satisfy a condition.\n",
        "\n",
        "Result: Subset of the original iterable.  \n",
        "3. reduce()\n",
        "\n",
        "Purpose: Apply a function cumulatively to the items of an iterable, reducing it to a single value.\n",
        "\n",
        "Result: Single value.\n",
        "\n",
        "Note: reduce() is in the functools module, so you need to import it.  \n",
        "Summary:   \n",
        "\n",
        "Use map() to transform, filter() to select, and reduce() to aggregate."
      ],
      "metadata": {
        "id": "drhTalo104F7"
      }
    },
    {
      "cell_type": "markdown",
      "source": [
        "#    Practical:"
      ],
      "metadata": {
        "id": "pxL2D1cz1Qf4"
      }
    },
    {
      "cell_type": "markdown",
      "source": [
        "#    1.Write a Python function that takes a list of numbers as input and returns the sum of all even numbers in list\n",
        "\n",
        "\n"
      ],
      "metadata": {
        "id": "4Dn3H9BE1b6F"
      }
    },
    {
      "cell_type": "code",
      "source": [
        "def sum_even_numbers(numbers):\n",
        "\n",
        "\n",
        "\n",
        "    total = 0\n",
        "    for num in numbers:\n",
        "        if num % 2 == 0:  # Check if the number is even\n",
        "            total += num\n",
        "    return total\n",
        "\n",
        "# Example usage\n",
        "my_list = [1, 2, 3, 4, 5, 6]\n",
        "result = sum_even_numbers(my_list)\n",
        "print(\"Sum of even numbers:\", result)  # Output: 12\n"
      ],
      "metadata": {
        "id": "rt7rhBh71vjz"
      },
      "execution_count": null,
      "outputs": []
    },
    {
      "cell_type": "markdown",
      "source": [
        "#    2. Create a Python function that accepts a string and returns the reverse of that string."
      ],
      "metadata": {
        "id": "G4Qf6CwK18LD"
      }
    },
    {
      "cell_type": "code",
      "source": [
        "def reverse_string(s):\n",
        "\n",
        "\n",
        "\n",
        "    return s[::-1]\n",
        "\n",
        "# Example usage\n",
        "text = \"Python\"\n",
        "print(reverse_string(text))  # Output: nohtyP\n"
      ],
      "metadata": {
        "id": "8K4TV6xu2DZn"
      },
      "execution_count": null,
      "outputs": []
    },
    {
      "cell_type": "markdown",
      "source": [
        "#    3. Implement a Python function that takes a list of integers and returns a new list containing the squares of each number"
      ],
      "metadata": {
        "id": "8IyEp6d72Kp-"
      }
    },
    {
      "cell_type": "code",
      "source": [
        "def square_list(numbers):\n",
        "\n",
        "    Takes a list of integers and returns a new list with the squares of each number.\n",
        "\n",
        "    squared = []\n",
        "    for num in numbers:\n",
        "        squared.append(num ** 2)\n",
        "    return squared\n",
        "\n",
        "# Example usage\n",
        "nums = [1, 2, 3, 4, 5]\n",
        "print(square_list(nums))  # Output: [1, 4, 9, 16, 25]\n"
      ],
      "metadata": {
        "id": "Gtv3G4Jd2bTZ"
      },
      "execution_count": null,
      "outputs": []
    },
    {
      "cell_type": "markdown",
      "source": [
        "#    4. Write a Python function that checks if a given number is prime or not from 1 to 200"
      ],
      "metadata": {
        "id": "sXCeoyXX2d4A"
      }
    },
    {
      "cell_type": "code",
      "source": [
        "def is_prime(n):\n",
        "\n",
        "\n",
        "\n",
        "    if n < 1 or n > 200:\n",
        "        return \"Number must be between 1 and 200\"\n",
        "    if n == 1:\n",
        "        return False  # 1 is not a prime number\n",
        "    if n == 2:\n",
        "        return True   # 2 is prime\n",
        "\n",
        "    # Check divisibility from 2 up to sqrt(n)\n",
        "    for i in range(2, int(n**0.5) + 1):\n",
        "        if n % i == 0:\n",
        "            return False\n",
        "    return True\n",
        "\n",
        "# Example usage\n",
        "for num in [1, 2, 15, 17, 200]:\n",
        "    print(f\"{num} is prime? {is_prime(num)}\")\n"
      ],
      "metadata": {
        "id": "jeTOFrNX2iJ6"
      },
      "execution_count": null,
      "outputs": []
    },
    {
      "cell_type": "markdown",
      "source": [
        "#    5.Create an iterator class in Python that generates the Fibonacci sequence up to a specified number of trems"
      ],
      "metadata": {
        "id": "6Z2CmOcT2tEM"
      }
    },
    {
      "cell_type": "code",
      "source": [],
      "metadata": {
        "id": "6JD0E69r26NH"
      },
      "execution_count": null,
      "outputs": []
    },
    {
      "cell_type": "code",
      "source": [
        "class Fibonacci:\n",
        "    def __init__(self, n):\n",
        "        self.n = n\n",
        "        self.count = 0\n",
        "        self.a = 0\n",
        "        self.b = 1\n",
        "\n",
        "    def __iter__(self):\n",
        "        return self\n",
        "\n",
        "    def __next__(self):\n",
        "        if self.count >= self.n:\n",
        "            raise StopIteration\n",
        "\n",
        "        if self.count == 0:\n",
        "            self.count += 1\n",
        "            return self.a\n",
        "        elif self.count == 1:\n",
        "            self.count += 1\n",
        "            return self.b\n",
        "        else:\n",
        "\n",
        "            fib = self.a + self.b\n",
        "            self.a, self.b = self.b, fib\n",
        "            self.count += 1\n",
        "            return fib\n",
        "\n",
        "\n",
        "fib_sequence = Fibonacci(10)\n",
        "for num in fib_sequence:\n",
        "    print(num, end=\" \")  # Output: 0 1 1 2 3 5 8 13 21 34\n"
      ],
      "metadata": {
        "id": "g68arygn26hT"
      },
      "execution_count": null,
      "outputs": []
    },
    {
      "cell_type": "markdown",
      "source": [
        "#    6. Write a generator function in Python that yields the powers of 2 up to a given exponent."
      ],
      "metadata": {
        "id": "L3ExePGM3HYH"
      }
    },
    {
      "cell_type": "code",
      "source": [
        "def powers_of_two(n):\n",
        "\n",
        "\n",
        "    for i in range(n + 1):\n",
        "        yield 2 ** i\n",
        "\n",
        "\n",
        "for power in powers_of_two(5):\n",
        "    print(power, end=\" \")  # Output: 1 2 4 8 16 32\n"
      ],
      "metadata": {
        "id": "z25adCyz3SvM"
      },
      "execution_count": null,
      "outputs": []
    },
    {
      "cell_type": "markdown",
      "source": [
        "#    7. Implement a generator function that reads a file line by line and yields each line as a string."
      ],
      "metadata": {
        "id": "mC2WL7HN3owe"
      }
    },
    {
      "cell_type": "code",
      "source": [
        "def read_file_lines(filename):\n",
        "\n",
        "\n",
        "    with open(filename, 'r') as file:\n",
        "        for line in file:\n",
        "            yield line.rstrip('\\n')  # Remove newline character\n",
        "\n",
        "# Example usage\n",
        "filename = \"example.txt\"\n",
        "for line in read_file_lines(filename):\n",
        "    print(line)\n"
      ],
      "metadata": {
        "id": "9q0gTLKb38HA"
      },
      "execution_count": null,
      "outputs": []
    },
    {
      "cell_type": "markdown",
      "source": [
        "#    8.Use a lambda function in Python to sort a list of tuples based on the second element of each tuple."
      ],
      "metadata": {
        "id": "E2QISLhj4BwT"
      }
    },
    {
      "cell_type": "code",
      "source": [
        "\n",
        "data = [(1, 3), (2, 1), (4, 2), (3, 5)]\n",
        "\n",
        "sorted_data = sorted(data, key=lambda x: x[1])\n",
        "\n",
        "print(sorted_data)  # Output: [(2, 1), (4, 2), (1, 3), (3, 5)]\n"
      ],
      "metadata": {
        "id": "SYN-rdnJ4MDc"
      },
      "execution_count": null,
      "outputs": []
    },
    {
      "cell_type": "markdown",
      "source": [
        "#    9.Write a Python program that uses `map()` to convert a list of temperatures from Celsius to Fahrenheit."
      ],
      "metadata": {
        "id": "1RNQ7yAN4PUp"
      }
    },
    {
      "cell_type": "code",
      "source": [
        "\n",
        "def celsius_to_fahrenheit(c):\n",
        "    return (c * 9/5) + 32\n",
        "\n",
        "\n",
        "celsius_temps = [0, 20, 37, 100]\n",
        "\n",
        "# Convert to Fahrenheit using map()\n",
        "fahrenheit_temps = list(map(celsius_to_fahrenheit, celsius_temps))\n",
        "\n",
        "print(\"Celsius:\", celsius_temps)\n",
        "print(\"Fahrenheit:\", fahrenheit_temps)\n"
      ],
      "metadata": {
        "id": "KEi_nkpY4aFu"
      },
      "execution_count": null,
      "outputs": []
    },
    {
      "cell_type": "markdown",
      "source": [
        "#    10. Create a Python program that uses `filter()` to remove all the vowels from a given string."
      ],
      "metadata": {
        "id": "6ZFtqfQk4e1Y"
      }
    },
    {
      "cell_type": "code",
      "source": [
        "def remove_vowels(s):\n",
        "    vowels = 'aeiouAEIOU'\n",
        "\n",
        "    return ''.join(filter(lambda char: char not in vowels, s))\n",
        "\n",
        "input_string = \"Hello, World!\"\n",
        "result = remove_vowels(input_string)\n",
        "print(\"Original string:\", input_string)\n",
        "print(\"Without vowels:\", result)\n"
      ],
      "metadata": {
        "id": "O9dm1SZC4nnP"
      },
      "execution_count": null,
      "outputs": []
    },
    {
      "cell_type": "markdown",
      "source": [
        "#    11.Write a Python program, which returns a list with 2-tuples. Each tuple consists of the order number and the product of the price per item and the quantity. The product should be increased by 10,- € if the value of the order is smaller than 100,00 €"
      ],
      "metadata": {
        "id": "aT4r4U4J4rTp"
      }
    },
    {
      "cell_type": "code",
      "source": [
        "def calculate_order_totals(orders):\n",
        "\n",
        "    result = []\n",
        "    for order in orders:\n",
        "        order_number, price, quantity = order\n",
        "        total = price * quantity\n",
        "        if total < 100:\n",
        "            total += 10\n",
        "        result.append((order_number, total))\n",
        "    return result\n",
        "\n",
        "\n",
        "orders = [\n",
        "    (1, 15, 3),    # 45 → <100 → 45+10=55\n",
        "    (2, 50, 3),    # 150 → >=100 → 150\n",
        "    (3, 20, 4)     # 80 → <100 → 80+10=90\n",
        "]\n",
        "\n",
        "totals = calculate_order_totals(orders)\n",
        "print(totals)\n"
      ],
      "metadata": {
        "id": "MJKjY2Jt5GW7"
      },
      "execution_count": null,
      "outputs": []
    },
    {
      "cell_type": "markdown",
      "source": [
        "#    12.Write a Python program using lambda and map."
      ],
      "metadata": {
        "id": "EuNWLgAU5ahl"
      }
    },
    {
      "cell_type": "code",
      "source": [
        "\n",
        "numbers = [1, 2, 3, 4, 5]\n",
        "\n",
        "squared_numbers = list(map(lambda x: x**2, numbers))\n",
        "\n",
        "print(\"Original numbers:\", numbers)\n",
        "print(\"Squared numbers:\", squared_numbers)\n"
      ],
      "metadata": {
        "id": "H1swgopS5dtG"
      },
      "execution_count": null,
      "outputs": []
    },
    {
      "cell_type": "markdown",
      "source": [],
      "metadata": {
        "id": "JObh1Jsfxsr0"
      }
    }
  ]
}