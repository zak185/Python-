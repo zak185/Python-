{
 "cells": [
  {
   "cell_type": "markdown",
   "id": "aa0fc55f-6e9f-42c8-83f6-f540a6083883",
   "metadata": {},
   "source": [
    "#                               -> theoretical Questions <-"
   ]
  },
  {
   "cell_type": "markdown",
   "id": "a9e0db43-d758-4cff-9b0c-5dc137c4e4e7",
   "metadata": {},
   "source": [
    "============================================================================================================"
   ]
  },
  {
   "cell_type": "markdown",
   "id": "b51c17a5-1ffe-4b4e-8fbd-0c9c83a415ce",
   "metadata": {},
   "source": [
    "# 1. What are data structures, and why are they important?"
   ]
  },
  {
   "cell_type": "markdown",
   "id": "d47a85d3-d957-4d65-be75-626a623a59de",
   "metadata": {},
   "source": [
    "### 🔹Definition"
   ]
  },
  {
   "cell_type": "markdown",
   "id": "b91ea673-f67b-4cce-b6fb-008e99f2cca9",
   "metadata": {},
   "source": [
    "####  => data structures are ways of organizing data and storing data so that they can access and work with efficiently"
   ]
  },
  {
   "cell_type": "markdown",
   "id": "8cf19b8f-71cc-43bc-a9d4-8e77e052da24",
   "metadata": {},
   "source": [
    "#### 1. Efficient data management"
   ]
  },
  {
   "cell_type": "markdown",
   "id": "4d423c82-268b-496f-8d63-f9e782870253",
   "metadata": {},
   "source": [
    "##### -> They help store and manage data in a way that makes it easy to retrive, update, delete, or search "
   ]
  },
  {
   "cell_type": "markdown",
   "id": "a0e53f16-1302-4cce-92f0-1caed1330246",
   "metadata": {},
   "source": [
    "#### 2. improved performance"
   ]
  },
  {
   "cell_type": "markdown",
   "id": "cdd8688c-4d7b-43b5-af44-e2ec4fa55726",
   "metadata": {},
   "source": [
    "##### -> choosing the right data structure can drastically improve the speed and effciency of your program "
   ]
  },
  {
   "cell_type": "markdown",
   "id": "18cfb252-1465-4875-ab57-931cdd4b73ff",
   "metadata": {},
   "source": [
    "#### 3. simplify complex problem"
   ]
  },
  {
   "cell_type": "markdown",
   "id": "52ad5f10-da53-4f89-af5f-c428499e905b",
   "metadata": {},
   "source": [
    "##### -> They help break down complex task like soring, searching, or mappings into similler words"
   ]
  },
  {
   "cell_type": "markdown",
   "id": "e4cb67b3-ce0f-41d9-b56b-9995b53941db",
   "metadata": {},
   "source": [
    "#### 4. clean and maintainable code"
   ]
  },
  {
   "cell_type": "markdown",
   "id": "8707d3b6-bfaa-4cdc-97b3-7a0380a75d16",
   "metadata": {},
   "source": [
    "##### -> using built in or coustom data structers keep your code neet and easier to understand"
   ]
  },
  {
   "cell_type": "markdown",
   "id": "bb31a8d5-933e-4eb8-b651-2cc64967603c",
   "metadata": {},
   "source": [
    "# 2. Explain the difference between mutable and immutable data types with examples"
   ]
  },
  {
   "cell_type": "markdown",
   "id": "a7b283d2-b68d-4955-9d88-1d5ba6232c26",
   "metadata": {},
   "source": [
    "### 🔹Definition"
   ]
  },
  {
   "cell_type": "markdown",
   "id": "81561d05-bcca-429b-a716-9962b6837e0d",
   "metadata": {},
   "source": [
    "#### => Mutable -- You can modify them after creation - like adding removing or changing element"
   ]
  },
  {
   "cell_type": "markdown",
   "id": "1604b9fe-cf4b-4a4c-bb5b-cf48a255aded",
   "metadata": {},
   "source": [
    "#### => Immutable -- once created, they cannot be changed. any change creates a new object in memory"
   ]
  },
  {
   "cell_type": "code",
   "execution_count": null,
   "id": "05b841d8-ff82-4419-a72e-f1095fc5c261",
   "metadata": {},
   "outputs": [],
   "source": [
    "----------------------------------------------------------------------------------------------------------------"
   ]
  },
  {
   "cell_type": "markdown",
   "id": "238360ba-33cb-4a57-9ebf-0aa2f779505c",
   "metadata": {
    "jp-MarkdownHeadingCollapsed": true
   },
   "source": [
    "#### -> data structure of Mutable data type -- list, dict, set"
   ]
  },
  {
   "cell_type": "markdown",
   "id": "812e891c-9dc6-4624-bb19-b8897ec53133",
   "metadata": {},
   "source": [
    "#### -> data stucture of Immutable data type -- int, tuples, float, str, bool, frozenset"
   ]
  },
  {
   "cell_type": "code",
   "execution_count": null,
   "id": "b6bb88d6-5327-414c-a617-4cadb97e7919",
   "metadata": {},
   "outputs": [],
   "source": [
    "----------------------------------------------------------------------------------------------------------------"
   ]
  },
  {
   "cell_type": "markdown",
   "id": "2e1aa467-9e25-4c22-93c9-180c1b189e3f",
   "metadata": {},
   "source": [
    "### 🔸Examples (list - Mutable)"
   ]
  },
  {
   "cell_type": "code",
   "execution_count": 3,
   "id": "a0ca1d89-2b8c-4976-9195-c3abc218d813",
   "metadata": {},
   "outputs": [
    {
     "name": "stdout",
     "output_type": "stream",
     "text": [
      "[100, 2, 3, 4]\n"
     ]
    }
   ],
   "source": [
    "my_list = [1,2,3]\n",
    "my_list[0] = 100\n",
    "my_list.append(4)\n",
    "print(my_list)"
   ]
  },
  {
   "cell_type": "markdown",
   "id": "61985de7-3ed4-4d56-8732-b37e8b1a40cc",
   "metadata": {},
   "source": [
    "### 🔸Examples (string - Immutable)"
   ]
  },
  {
   "cell_type": "code",
   "execution_count": 11,
   "id": "43616cda-cadc-4047-9670-d47082d024e6",
   "metadata": {},
   "outputs": [
    {
     "name": "stdout",
     "output_type": "stream",
     "text": [
      "Bishal\n"
     ]
    }
   ],
   "source": [
    "name = \"Vishal\"\n",
    "#name[0] = \"B\"  # this code will give error so we cant assign element in the string \n",
    "new_str = \"B\" + name[1:] # we made new variable and in first variable we slice the string from index 1 to last and concatinate that and print new str\n",
    "\n",
    "print(new_str)\n"
   ]
  },
  {
   "cell_type": "markdown",
   "id": "607d97ed-a63e-4e06-9e05-ebec91556a22",
   "metadata": {},
   "source": [
    "### 🔸 Examples (Tuples - Immutable)"
   ]
  },
  {
   "cell_type": "code",
   "execution_count": 12,
   "id": "39348d3c-f2d4-4025-9fab-24c21c543698",
   "metadata": {},
   "outputs": [
    {
     "name": "stdout",
     "output_type": "stream",
     "text": [
      "(1, 2, 3)\n"
     ]
    }
   ],
   "source": [
    "numbers = (1,2,3)\n",
    "# numbers[0] = 100 # this code will give error so we cant assign any elements\n",
    "print(numbers)"
   ]
  },
  {
   "cell_type": "markdown",
   "id": "450a60f6-80fb-492e-8a3d-fbf10b0db3f1",
   "metadata": {},
   "source": [
    "# 3. What are the main differences between lists and tuples in Python?"
   ]
  },
  {
   "cell_type": "markdown",
   "id": "da2d6171-8ad2-453a-87ef-44d03ad709c9",
   "metadata": {},
   "source": [
    "#### => List : list are Muttable data structure "
   ]
  },
  {
   "cell_type": "markdown",
   "id": "c8da28f9-6b20-4a72-98a0-4d34146b5462",
   "metadata": {},
   "source": [
    "#### => Tuples : Tuples are Immutable data structure"
   ]
  },
  {
   "cell_type": "markdown",
   "id": "6957efe2-1c0d-4119-a87f-4d5bbb3a459e",
   "metadata": {},
   "source": [
    "##### -----------------------------------------------------------------------------------------------------------------------------"
   ]
  },
  {
   "cell_type": "markdown",
   "id": "f024e937-def5-465c-9ad6-c120a8ef4ab5",
   "metadata": {},
   "source": [
    "#### -> Use cases of List : when you have to modify, add or remove items frequently then use List"
   ]
  },
  {
   "cell_type": "markdown",
   "id": "47a71339-34ca-49ae-93df-86e7500b015b",
   "metadata": {},
   "source": [
    "#### -> Use cases of Tuples : when your data is constent and should not be change for example employe id, mobile number, days of the week etc"
   ]
  },
  {
   "cell_type": "markdown",
   "id": "a8f9dd87-0b8e-4e43-a63c-09d2ee0ffff6",
   "metadata": {},
   "source": [
    "##### ------------------------------------------------------------------------------------------------------------------------------"
   ]
  },
  {
   "cell_type": "markdown",
   "id": "cd98ab14-4f6c-4943-8d50-cf0cef9a8ca0",
   "metadata": {},
   "source": [
    "### 🔸Example of List"
   ]
  },
  {
   "cell_type": "code",
   "execution_count": 13,
   "id": "12a9d704-1101-49e1-865f-4b47c02bf10a",
   "metadata": {},
   "outputs": [
    {
     "name": "stdout",
     "output_type": "stream",
     "text": [
      "[100, 2, 3, 4]\n"
     ]
    }
   ],
   "source": [
    "my_list = [1,2,3]\n",
    "my_list[0] = 100\n",
    "my_list.append(4)\n",
    "print(my_list)"
   ]
  },
  {
   "cell_type": "markdown",
   "id": "e97904b9-7028-4f35-a744-3725af82a8b9",
   "metadata": {},
   "source": [
    "### 🔸Example of Tuples"
   ]
  },
  {
   "cell_type": "code",
   "execution_count": 14,
   "id": "1e8ec173-59f8-4bed-a35d-d1655492d8cf",
   "metadata": {},
   "outputs": [
    {
     "name": "stdout",
     "output_type": "stream",
     "text": [
      "(1, 2, 3)\n"
     ]
    }
   ],
   "source": [
    "my_tuple = (1, 2, 3)\n",
    "# numbers[0] = 100 # this code will give error so we cant assign any elements\n",
    "print(my_tuple)  "
   ]
  },
  {
   "cell_type": "markdown",
   "id": "96673078-d5e7-4b4a-854c-7dd02888513e",
   "metadata": {},
   "source": [
    "# 4. Describe how dictionaries store data?"
   ]
  },
  {
   "cell_type": "markdown",
   "id": "012f7374-2be4-4b25-9b0e-9a73d93921e6",
   "metadata": {},
   "source": [
    "### 🔹Definition"
   ]
  },
  {
   "cell_type": "markdown",
   "id": "f170f2c5-c42b-4bec-9023-006e356fec13",
   "metadata": {},
   "source": [
    "#### A dictionaries is a built in data structure that stores data in key value pairs"
   ]
  },
  {
   "cell_type": "markdown",
   "id": "31064c0a-dd58-47a1-a692-aae4a3d027bb",
   "metadata": {},
   "source": [
    "### How do dictionaries store data"
   ]
  },
  {
   "cell_type": "markdown",
   "id": "648c5b37-2a38-493c-bbef-a8316483785e",
   "metadata": {},
   "source": [
    "#### -- Python dictionaries use a structure called a hash table behind the scenes. here's how it works :"
   ]
  },
  {
   "cell_type": "markdown",
   "id": "ecb62522-ea52-4601-8bf4-340bbc4bc076",
   "metadata": {},
   "source": [
    "### 1. Hashing the key"
   ]
  },
  {
   "cell_type": "markdown",
   "id": "558d78c9-7879-4d3c-9c84-8621ac813d6f",
   "metadata": {},
   "source": [
    "#### -> When you add a key to dictionary, Python use a Hash function to convert that key into unique number called hash code"
   ]
  },
  {
   "cell_type": "markdown",
   "id": "35083332-aa76-4071-85b8-21543011019f",
   "metadata": {},
   "source": [
    "### 2. Indexing"
   ]
  },
  {
   "cell_type": "markdown",
   "id": "60a64d43-6138-42e9-9da6-be6e1e51d83c",
   "metadata": {},
   "source": [
    "#### -> The hash code is then use to determine where to store the key value pair in memory (like an index in array)"
   ]
  },
  {
   "cell_type": "markdown",
   "id": "cd24b63b-fc58-4e7d-b62c-2296d965b092",
   "metadata": {},
   "source": [
    "### 3. Value Assosiation"
   ]
  },
  {
   "cell_type": "markdown",
   "id": "ca43f302-b484-431d-9959-de0a169a1e43",
   "metadata": {},
   "source": [
    "#### -> Pyhton stores both the key and the value at that hashed location so it can retrive the value quickly using the key."
   ]
  },
  {
   "cell_type": "markdown",
   "id": "5e8eb71c-69b6-4e6c-9e31-a60517f3629b",
   "metadata": {},
   "source": [
    "### --> Key Notes <--"
   ]
  },
  {
   "cell_type": "markdown",
   "id": "d8edb49d-2a13-4b5f-bc5b-c4960c07c969",
   "metadata": {},
   "source": [
    "#### -> Key must be unique"
   ]
  },
  {
   "cell_type": "markdown",
   "id": "ce2e011e-758e-4236-831d-b0a12a2e711b",
   "metadata": {},
   "source": [
    "#### -> Key must be Immutable (eg. str, int, Tuple)"
   ]
  },
  {
   "cell_type": "markdown",
   "id": "8b25b2bd-72d1-4541-be3a-5bda6ea709c9",
   "metadata": {},
   "source": [
    "#### -> Values can be anything (Mutable or Immutable, even another dictionary)"
   ]
  },
  {
   "cell_type": "markdown",
   "id": "6ba2bf54-76ec-46e3-83f8-f4fd883f6f1d",
   "metadata": {},
   "source": [
    "# 5. Why might you use a set instead of a list in Python?"
   ]
  },
  {
   "cell_type": "markdown",
   "id": "8f8d293d-d1db-49d0-959d-316db4e3f2ba",
   "metadata": {},
   "source": [
    "### 🔹Definition"
   ]
  },
  {
   "cell_type": "markdown",
   "id": "c3ab1863-883d-4716-8065-f47ee662bfdf",
   "metadata": {},
   "source": [
    "#### -->  Sets and list both are built in function in python. However they serve different purposes.\n",
    "#### Understanding when to use set instead of a list is important for writing efficient and clean code"
   ]
  },
  {
   "cell_type": "markdown",
   "id": "6ac1c6d6-841b-49e6-9340-d72388a360e9",
   "metadata": {},
   "source": [
    "### Differences Between Set and List"
   ]
  },
  {
   "cell_type": "code",
   "execution_count": null,
   "id": "b40524f0-baf3-4b82-9c44-47d23b473b7a",
   "metadata": {},
   "outputs": [],
   "source": [
    "'''Feature\t               List\t          Set\n",
    "Allows Duplicates\t Yes\t          No\n",
    "Order is Maintained\t Yes (ordered)\t  No (unordered)\n",
    "Indexing Supported\t Yes (list[0])\t  No\n",
    "Lookup Speed\t     Slower (O(n))\t  Fast (O(1))\n",
    "Set Operations\t     Not available\t  Union, Intersection, etc.\n",
    "'''"
   ]
  },
  {
   "cell_type": "markdown",
   "id": "2f1882d8-fab8-4340-bd60-d6fbe21af994",
   "metadata": {},
   "source": [
    "### 🔹When to use sets"
   ]
  },
  {
   "cell_type": "code",
   "execution_count": null,
   "id": "d694c736-17b1-468d-93e8-7c04dd6cf915",
   "metadata": {},
   "outputs": [],
   "source": [
    "'''\n",
    "You want to automatically remove duplicates.\n",
    "\n",
    "You care about fast membership tests.\n",
    "\n",
    "You need to perform set operations like union or intersection.\n",
    "'''"
   ]
  },
  {
   "cell_type": "markdown",
   "id": "165ae10a-96e3-403a-a2ac-62e225f3c88d",
   "metadata": {},
   "source": [
    "###  Conclusion"
   ]
  },
  {
   "cell_type": "code",
   "execution_count": null,
   "id": "0d73d22d-6b17-4d15-afa3-155a44e374f4",
   "metadata": {},
   "outputs": [],
   "source": [
    "'''\n",
    "Use lists when order and duplicates matter.\n",
    "\n",
    "Use sets when you want uniqueness and fast in checks.\n",
    "\n",
    "Sets are ideal for mathematical set operations.\n",
    "'''"
   ]
  },
  {
   "cell_type": "markdown",
   "id": "0d85727e-e085-4c6d-96b9-8f1b23cb1fae",
   "metadata": {},
   "source": [
    "# 6. What is a string in Python, and how is it different from a list?"
   ]
  },
  {
   "cell_type": "markdown",
   "id": "5b8c813d-e6d9-4843-a4ff-211588c1a2af",
   "metadata": {},
   "source": [
    "### 🔹Definition"
   ]
  },
  {
   "cell_type": "markdown",
   "id": "c1351580-050f-41d0-b68b-07376d25a8f8",
   "metadata": {},
   "source": [
    "#### A string in Python is a sequence of characters, used to represent text."
   ]
  },
  {
   "cell_type": "markdown",
   "id": "163c2d50-78a1-4b15-98bb-62f0f4c41db6",
   "metadata": {},
   "source": [
    "### 🔸 Key Differences Between String and List"
   ]
  },
  {
   "cell_type": "code",
   "execution_count": null,
   "id": "f28101d2-2ccc-4506-be1e-8024904e0411",
   "metadata": {},
   "outputs": [],
   "source": [
    "'''\n",
    "Feature           \tString\t                       List\n",
    "Data Type\t       Sequence of characters\t       Sequence of elements (any type)\n",
    "Mutability\t       Immutable\t                   Mutable\n",
    "Syntax\t           \"Hello\"\t                       [1, 2, \"hello\"]\n",
    "Element Type\t   Always characters       \t       Any data type\n",
    "Editable?\t      No (need to create a new one)\t   Yes (can change in-place)\n",
    "'''"
   ]
  },
  {
   "cell_type": "markdown",
   "id": "39514c7b-3a03-44b2-ad81-7e3aa0e7e7d7",
   "metadata": {},
   "source": [
    "###  Conclusion"
   ]
  },
  {
   "cell_type": "code",
   "execution_count": null,
   "id": "0b81b7ab-d6f7-495d-86d5-1754146a4482",
   "metadata": {},
   "outputs": [],
   "source": [
    "'''\n",
    "Use strings when working with text.\n",
    "\n",
    "Use lists when working with a collection of items that may change.\n",
    "\n",
    "Both are sequences and support indexing and slicing, but differ in mutability and use cases.\n",
    "'''"
   ]
  },
  {
   "cell_type": "markdown",
   "id": "65082bcc-2422-46a6-826e-5d6381375a8b",
   "metadata": {},
   "source": [
    "# 7. How do tuples ensure data integrity in Python?"
   ]
  },
  {
   "cell_type": "markdown",
   "id": "4410c303-a5df-4974-a267-15e0e759a3d5",
   "metadata": {},
   "source": [
    "### 🔹Definition"
   ]
  },
  {
   "cell_type": "markdown",
   "id": "c382fb69-75a1-45e0-a0ac-45c4320c5290",
   "metadata": {},
   "source": [
    "### -> A tuple in Python is an ordered, immutable collection of items."
   ]
  },
  {
   "cell_type": "code",
   "execution_count": null,
   "id": "d4f6c31d-c720-4174-b51b-527f562d1762",
   "metadata": {},
   "outputs": [],
   "source": [
    "'''\n",
    "Enclosed in parentheses ().\n",
    "\n",
    "Can contain elements of any data type.\n",
    "\n",
    "Supports indexing and slicing like lists.\n",
    "\n",
    "Immutable: Once created, it cannot be changed.\n",
    "'''"
   ]
  },
  {
   "cell_type": "markdown",
   "id": "fdfe8014-413c-44bd-bdff-36ee10214df7",
   "metadata": {},
   "source": [
    "###  Why Tuples Are Good for Data Integrity"
   ]
  },
  {
   "cell_type": "code",
   "execution_count": null,
   "id": "939a65e2-ed4b-4e1b-832a-06fc614de0ce",
   "metadata": {},
   "outputs": [],
   "source": [
    "'''\n",
    " Prevents accidental changes\n",
    "\n",
    " Safe to use as dictionary keys\n",
    "\n",
    " Used in functions to return fixed structures\n",
    "\n",
    " Ideal for constant or unchangeable data\n",
    "'''"
   ]
  },
  {
   "cell_type": "markdown",
   "id": "33e7139d-b890-478c-bb3c-4444ea6adf06",
   "metadata": {},
   "source": [
    "###  Conclusion"
   ]
  },
  {
   "cell_type": "markdown",
   "id": "eeb37c4a-7e0a-4f8d-bc70-c64b4a188f91",
   "metadata": {},
   "source": [
    "##### Tuples help ensure data integrity by being immutable. This property makes them reliable for storing data that should not be modified, providing security, consistency, and predictability in your programs.\n"
   ]
  },
  {
   "cell_type": "markdown",
   "id": "fd0557ae-72fc-40df-96ca-5c47ee2b7c57",
   "metadata": {},
   "source": [
    "# 8. What is a hash table, and how does it relate to dictionaries in Python?"
   ]
  },
  {
   "cell_type": "markdown",
   "id": "cccee3cf-414a-4389-94a1-dfdb14e114dc",
   "metadata": {},
   "source": [
    "### 🔹Definition"
   ]
  },
  {
   "cell_type": "markdown",
   "id": "68502da7-e60a-412a-95d0-34cd733299df",
   "metadata": {},
   "source": [
    "#### A hash table is a data structure that stores data using key-value pairs, allowing fast access to values based on their keys."
   ]
  },
  {
   "cell_type": "markdown",
   "id": "ffc69855-3f3e-4a39-9a9b-67418f19a95d",
   "metadata": {},
   "source": [
    "### 🔸 How Does It Work?"
   ]
  },
  {
   "cell_type": "code",
   "execution_count": null,
   "id": "4f92a64c-5a02-4807-a725-f5c7d3ee543d",
   "metadata": {},
   "outputs": [],
   "source": [
    "'''\n",
    "The key is processed through a hash function.\n",
    "\n",
    "The result is a hash code (an integer).\n",
    "\n",
    "This code determines the position (index) where the value is stored.\n",
    "\n",
    "This allows fast retrieval, insertion, and deletion.\n",
    "'''"
   ]
  },
  {
   "cell_type": "markdown",
   "id": "fc5d0b86-ead5-420b-8245-2f2c541c5cdc",
   "metadata": {},
   "source": [
    "### 🔸 Advantages of Using Hash Tables (Dictionaries)"
   ]
  },
  {
   "cell_type": "code",
   "execution_count": null,
   "id": "3f5ffb5c-81d6-4f77-a2e4-61f3b8bf5c78",
   "metadata": {},
   "outputs": [],
   "source": [
    "'''\n",
    "  Feature          \tBenefit\n",
    " Fast lookups\t  Average time complexity: O(1)\n",
    " Easy to use\t  Human-readable key-value mapping\n",
    " Fast insertion\t  Efficient for large datasets\n",
    " Unique keys\t  Prevents duplicate keys\n",
    "'''"
   ]
  },
  {
   "cell_type": "markdown",
   "id": "fa2be1b9-f0d7-4ce8-8fb4-472d95747061",
   "metadata": {},
   "source": [
    "###  Conclusion"
   ]
  },
  {
   "cell_type": "code",
   "execution_count": null,
   "id": "040be866-a7c6-4d36-aa0d-d35715a3c1d9",
   "metadata": {},
   "outputs": [],
   "source": [
    "'''\n",
    "A hash table is the engine behind the scenes of a dictionary.\n",
    "\n",
    "It provides fast, efficient, and reliable access to values using keys.\n",
    "\n",
    "Python’s dictionaries are a real-world implementation of hash tables.\n",
    "'''"
   ]
  },
  {
   "cell_type": "markdown",
   "id": "6b0ebaf5-a92c-45a6-b0ff-aec919bedeab",
   "metadata": {},
   "source": [
    "# 9.  Can lists contain different data types in Python?"
   ]
  },
  {
   "cell_type": "markdown",
   "id": "2b7cdc3f-9a3e-4424-8f8e-c520d5bff6a5",
   "metadata": {},
   "source": [
    "###  Yes, Lists Can Contain Different Data Types in Python"
   ]
  },
  {
   "cell_type": "markdown",
   "id": "980b5806-51c4-4a4b-a94d-9d239d8312ab",
   "metadata": {},
   "source": [
    "#### Python lists are very flexible — they can store multiple data types in a single list. This is one of the features that makes Python lists powerful and easy to use."
   ]
  },
  {
   "cell_type": "markdown",
   "id": "8d7e2a65-68d1-4ea7-8c8e-5c6a3191269d",
   "metadata": {},
   "source": [
    "### 🔸 Example: Mixed Data Types in a List"
   ]
  },
  {
   "cell_type": "code",
   "execution_count": 3,
   "id": "9ca0f7c8-6e38-4136-bbb8-fbbfd78523d6",
   "metadata": {},
   "outputs": [
    {
     "name": "stdout",
     "output_type": "stream",
     "text": [
      "[25, 'Hello', 3.14, True, None, [1, 2], {'key': 'value'}]\n"
     ]
    }
   ],
   "source": [
    "my_list = [25, \"Hello\", 3.14, True, None, [1, 2], {\"key\": \"value\"}]\n",
    "print(my_list)"
   ]
  },
  {
   "cell_type": "markdown",
   "id": "73d5fcc7-7033-4ab5-abd4-787cf4da2cc5",
   "metadata": {},
   "source": [
    "### This list contains:"
   ]
  },
  {
   "cell_type": "code",
   "execution_count": null,
   "id": "10e2b74d-e077-40aa-89ae-b7e835569556",
   "metadata": {},
   "outputs": [],
   "source": [
    "'''\n",
    "int (25)\n",
    "\n",
    "str (\"Hello\")\n",
    "\n",
    "float (3.14)\n",
    "\n",
    "bool (True)\n",
    "\n",
    "NoneType (None)\n",
    "\n",
    "Another list ([1, 2])\n",
    "\n",
    "A dictionary ({'key': 'value'})\n",
    "'''"
   ]
  },
  {
   "cell_type": "markdown",
   "id": "7aa09ec9-2a1b-44d7-8a66-0bfe2a94c0c3",
   "metadata": {},
   "source": [
    "###  Conclusion"
   ]
  },
  {
   "cell_type": "markdown",
   "id": "8fa726a1-6a04-4504-a840-55b17ffb10ab",
   "metadata": {},
   "source": [
    "#### Yes, Python lists can and often do contain different data types.\n",
    "#### This dynamic typing is one of Python’s strengths, allowing for flexible and expressive code."
   ]
  },
  {
   "cell_type": "markdown",
   "id": "8b8c7889-92d8-4ea7-8b00-8decd3e48c64",
   "metadata": {},
   "source": [
    "# 10.  Explain why strings are immutable in Python"
   ]
  },
  {
   "cell_type": "markdown",
   "id": "d27cd765-74d7-4e90-a4b8-630e8aaec10b",
   "metadata": {},
   "source": [
    "### 🔹 What Does \"Immutable\" Mean?"
   ]
  },
  {
   "cell_type": "markdown",
   "id": "a2791ea7-5820-48f2-8706-b0c8253d1462",
   "metadata": {},
   "source": [
    "#### In Python, an object is called immutable if it cannot be changed after it is created.\n",
    "#### When we say strings are immutable, it means that you cannot change the characters of a string in-place."
   ]
  },
  {
   "cell_type": "markdown",
   "id": "1aad8bd9-f74f-4cac-a5a4-0b67ed106c50",
   "metadata": {},
   "source": [
    "### 🔸 Example: Trying to Modify a String"
   ]
  },
  {
   "cell_type": "code",
   "execution_count": 5,
   "id": "23bc2215-5ed4-4f26-b4cd-1307cdb7831c",
   "metadata": {},
   "outputs": [],
   "source": [
    "my_string = \"Hello\"\n",
    "# my_string[0] = \"Y\"  # This will raise an error"
   ]
  },
  {
   "cell_type": "markdown",
   "id": "cb513c3a-18e5-4d95-8ed3-a9c9d98038fc",
   "metadata": {},
   "source": [
    "### 🔹 Why Are Strings Immutable?"
   ]
  },
  {
   "cell_type": "code",
   "execution_count": null,
   "id": "5c8ad0bc-9757-41a9-9623-68f5b990a876",
   "metadata": {},
   "outputs": [],
   "source": [
    "'''\n",
    " Performance\n",
    "\n",
    "Strings are used frequently, especially as keys in dictionaries.\n",
    "\n",
    "Immutability allows for faster and safer hashing (e.g., in dictionaries and sets).\n",
    "\n",
    " Thread Safety\n",
    "\n",
    "Since strings can't be modified, they are safe to use in multi-threaded environments.\n",
    "\n",
    " Memory Efficiency\n",
    "\n",
    "Python reuses string objects in memory (called string interning), which is only safe if strings can't be changed.\n",
    "'''"
   ]
  },
  {
   "cell_type": "markdown",
   "id": "c690e7fe-5494-4ec7-9d5b-f8cb9c4e76d6",
   "metadata": {},
   "source": [
    "###  Conclusion"
   ]
  },
  {
   "cell_type": "code",
   "execution_count": null,
   "id": "3a09ec81-92bf-4368-91ac-152337301a7d",
   "metadata": {},
   "outputs": [],
   "source": [
    "'''\n",
    "Strings are immutable in Python to provide:\n",
    "\n",
    "Better performance\n",
    "\n",
    "Memory optimization\n",
    "\n",
    "Security and predictability\n",
    "\n",
    "Instead of modifying a string, you create and work with a new string.\n",
    "'''"
   ]
  },
  {
   "cell_type": "markdown",
   "id": "49fdf750-8797-43ad-aace-71a062ba8d8e",
   "metadata": {},
   "source": [
    "# 11. What advantages do dictionaries offer over lists for certain tasks?"
   ]
  },
  {
   "cell_type": "markdown",
   "id": "57c06829-cfdd-480f-a0fe-f0c0366ad6dd",
   "metadata": {},
   "source": [
    "### 🔹 Introduction"
   ]
  },
  {
   "cell_type": "markdown",
   "id": "049bf351-c043-4c61-a1bb-ccd0f562bccf",
   "metadata": {},
   "source": [
    "#### Both lists and dictionaries are powerful data structures in Python, but they are designed for different use cases.\n",
    "#### Dictionaries offer several advantages when you need to work with key-value pairs and want fast data access."
   ]
  },
  {
   "cell_type": "markdown",
   "id": "1b884502-97a6-486f-aead-730d6aa93482",
   "metadata": {},
   "source": [
    "### 🔸 Key Advantages of Dictionaries Over Lists"
   ]
  },
  {
   "cell_type": "code",
   "execution_count": null,
   "id": "7e3189ff-7b5b-4805-9459-2b7cbdf55fd9",
   "metadata": {},
   "outputs": [],
   "source": [
    "'''\n",
    "Feature\t                  List\t                       Dictionary\n",
    " Access Speed by Key\t  Slow (O(n) linear search)\t   Fast (O(1) via hash table)\n",
    " Key-based Access\t      Not supported\t               Yes\n",
    " Meaningful Data Labels\t  Only index-based\t           Uses descriptive keys\n",
    " Fast Lookup by Key\t      No\t                       Yes\n",
    " Duplicate Keys\t          N/A (uses index)\t           Keys must be unique\n",
    "'''"
   ]
  },
  {
   "cell_type": "markdown",
   "id": "e0726fec-dcf5-4958-bd6b-243589bbf75a",
   "metadata": {},
   "source": [
    "###  Conclusion"
   ]
  },
  {
   "cell_type": "code",
   "execution_count": null,
   "id": "b83a7b11-928b-42bb-a268-e01a72d8d9a8",
   "metadata": {},
   "outputs": [],
   "source": [
    "'''\n",
    "Use a dictionary when:\n",
    "\n",
    "You want to label your data with keys.\n",
    "\n",
    "You need fast lookups using a unique identifier.\n",
    "\n",
    "You want clearer, more readable code.\n",
    "\n",
    "Lists are great for ordered data, but dictionaries are superior for key-based data access and organization.\n",
    "'''"
   ]
  },
  {
   "cell_type": "markdown",
   "id": "488b5cdd-8db8-472d-a74d-864b1a534262",
   "metadata": {},
   "source": [
    "# 12. Describe a scenario where using a tuple would be preferable over a list"
   ]
  },
  {
   "cell_type": "markdown",
   "id": "aa469c8f-b038-4e60-980f-d7e1c5da2eb1",
   "metadata": {},
   "source": [
    "### 🔹 Why Tuples?"
   ]
  },
  {
   "cell_type": "code",
   "execution_count": null,
   "id": "d383d393-628c-4584-9418-406533ff1583",
   "metadata": {},
   "outputs": [],
   "source": [
    "'''\n",
    "Tuples are immutable, meaning their values cannot be changed after creation.\n",
    "This makes them ideal when you need to store fixed data that should remain constant and secure.\n",
    "'''"
   ]
  },
  {
   "cell_type": "markdown",
   "id": "bf317018-b331-4d45-85df-2b0adaa594e3",
   "metadata": {},
   "source": [
    "### Suppose you’re Making a list of employe id that stores the Data of a place.\n",
    "### Since these values are fixed for a specific location, you don’t want them to be accidentally changed."
   ]
  },
  {
   "cell_type": "markdown",
   "id": "325a96fa-562c-431d-98d6-ef18bb516e0c",
   "metadata": {},
   "source": [
    "### 🔸 Other Scenarios Where Tuples Are Preferable"
   ]
  },
  {
   "cell_type": "code",
   "execution_count": null,
   "id": "da7385e3-26cd-4a02-8578-24c3e159a860",
   "metadata": {},
   "outputs": [],
   "source": [
    "'''\n",
    " As keys in dictionaries (lists can’t be used because they’re mutable)\n",
    "\n",
    " Returning multiple fixed values from a function\n",
    "\n",
    " Storing configuration or constant data\n",
    "'''"
   ]
  },
  {
   "cell_type": "markdown",
   "id": "8d957cf0-d57d-4b8f-b96a-f08a9e35a46e",
   "metadata": {},
   "source": [
    "###  Conclusion"
   ]
  },
  {
   "cell_type": "code",
   "execution_count": null,
   "id": "39792561-10ef-40d1-948c-877d7cc967a6",
   "metadata": {},
   "outputs": [],
   "source": [
    "'''\n",
    "You want to protect the data from changes\n",
    "\n",
    "You’re dealing with fixed collections of items\n",
    "\n",
    "You need a hashable object (e.g., for dictionary keys or set elements)\n",
    "'''"
   ]
  },
  {
   "cell_type": "markdown",
   "id": "a44d64dc-d2e4-4c76-8c33-a2ccc16f38b9",
   "metadata": {},
   "source": [
    "# 13. How do sets handle duplicate values in Python?"
   ]
  },
  {
   "cell_type": "markdown",
   "id": "25bdbe84-dd3d-4ff8-8043-049b518a5425",
   "metadata": {},
   "source": [
    "### 🔹 What is a Set in Python?"
   ]
  },
  {
   "cell_type": "markdown",
   "id": "aebcbb1e-206f-481c-b043-c259afd1b373",
   "metadata": {},
   "source": [
    "#### A set is an unordered collection of unique elements.\n",
    "#### It automatically removes duplicate values and ensures that each item appears only once."
   ]
  },
  {
   "cell_type": "markdown",
   "id": "a26ed3aa-9a0c-4bd3-8783-99807657770d",
   "metadata": {},
   "source": [
    "### 🔸 Example: Duplicates in a Set"
   ]
  },
  {
   "cell_type": "code",
   "execution_count": 6,
   "id": "8c765661-ae5a-4cd4-9f38-b0e3760d3d2b",
   "metadata": {},
   "outputs": [
    {
     "name": "stdout",
     "output_type": "stream",
     "text": [
      "{1, 2, 3, 4, 5}\n"
     ]
    }
   ],
   "source": [
    "my_set = {1, 2, 2, 3, 4, 4, 4, 5}\n",
    "print(my_set)"
   ]
  },
  {
   "cell_type": "markdown",
   "id": "7aa6d29c-4e38-4220-8aaf-f691380efbba",
   "metadata": {},
   "source": [
    "### 🔹 Why Is This Useful?"
   ]
  },
  {
   "cell_type": "code",
   "execution_count": null,
   "id": "85e39fcd-7248-4210-b69f-f9695719d984",
   "metadata": {},
   "outputs": [],
   "source": [
    "'''\n",
    " Helps in removing duplicates from a list or dataset.\n",
    "\n",
    " Ensures uniqueness in data automatically.\n",
    "\n",
    " Useful for set operations like union, intersection, etc.\n",
    "'''"
   ]
  },
  {
   "cell_type": "markdown",
   "id": "8687dba1-ee86-4a0e-9684-0f8990d973ec",
   "metadata": {},
   "source": [
    "###  Conclusion"
   ]
  },
  {
   "cell_type": "code",
   "execution_count": null,
   "id": "317b8275-338f-4cb0-9a1a-6f67fe11d147",
   "metadata": {},
   "outputs": [],
   "source": [
    "'''\n",
    "Python sets do not allow duplicates.\n",
    "When you create or update a set, duplicate values are automatically removed, making sets ideal for data deduplication and uniqueness checks.\n",
    "'''"
   ]
  },
  {
   "cell_type": "markdown",
   "id": "5836db27-a430-4a15-b752-a995866e57f5",
   "metadata": {},
   "source": [
    "# 14. How does the “in” keyword work differently for lists and dictionaries?"
   ]
  },
  {
   "cell_type": "markdown",
   "id": "00d8485b-7273-4533-bf10-9350d0ae599f",
   "metadata": {},
   "source": [
    "### 🔹Definition"
   ]
  },
  {
   "cell_type": "markdown",
   "id": "182d9773-39e3-425d-8366-0985d6e0faaa",
   "metadata": {},
   "source": [
    "#### The in keyword is used in Python to check if a value exists in a collection like a list, tuple, set, or dictionary."
   ]
  },
  {
   "cell_type": "markdown",
   "id": "19699f71-8d2c-4ce5-ad71-f3a5054595c7",
   "metadata": {},
   "source": [
    "### 🔸 in with a List"
   ]
  },
  {
   "cell_type": "code",
   "execution_count": 7,
   "id": "989381df-e9b8-4b27-8799-2b03f5a7c0d1",
   "metadata": {},
   "outputs": [
    {
     "name": "stdout",
     "output_type": "stream",
     "text": [
      "True\n",
      "False\n"
     ]
    }
   ],
   "source": [
    "fruits = [\"apple\", \"banana\", \"cherry\"]\n",
    "\n",
    "print(\"banana\" in fruits)  \n",
    "print(\"grape\" in fruits)   \n"
   ]
  },
  {
   "cell_type": "markdown",
   "id": "535db172-335f-4d32-ab73-bbdd585734af",
   "metadata": {},
   "source": [
    "### 🔸 in with a Dictionary"
   ]
  },
  {
   "cell_type": "code",
   "execution_count": 9,
   "id": "fc66ca02-f1f7-4b17-aa7e-571dfaba2c90",
   "metadata": {},
   "outputs": [
    {
     "name": "stdout",
     "output_type": "stream",
     "text": [
      "True\n",
      "False\n"
     ]
    }
   ],
   "source": [
    "employee = {\"name\": \"Alice\", \"age\": 25, \"dept\": \"HR\"}\n",
    "\n",
    "print(\"name\" in employee)    \n",
    "print(\"Alice\" in employee)   "
   ]
  },
  {
   "cell_type": "markdown",
   "id": "13bab3e6-a313-477b-9889-75e78d6ff384",
   "metadata": {},
   "source": [
    "###  Conclusion"
   ]
  },
  {
   "cell_type": "code",
   "execution_count": null,
   "id": "ed2bbfa2-8c8b-485a-b37e-543135396f86",
   "metadata": {},
   "outputs": [],
   "source": [
    "'''\n",
    "Use in with lists to check if an element exists.\n",
    "\n",
    "Use in with dictionaries to check if a key exists.\n",
    "\n",
    "For checking values in a dictionary, use .values().\n",
    "'''"
   ]
  },
  {
   "cell_type": "markdown",
   "id": "31a3254b-3592-41da-b1df-f88bc504efd6",
   "metadata": {},
   "source": [
    "# 15. Can you modify the elements of a tuple? Explain why or why not?"
   ]
  },
  {
   "cell_type": "markdown",
   "id": "20c6b905-8222-4ecf-9dd9-9d5c92316844",
   "metadata": {},
   "source": [
    "### 🔹 No, You Cannot Modify a Tuple"
   ]
  },
  {
   "cell_type": "markdown",
   "id": "9107f6eb-5860-4cc2-9f19-36edbc8101ac",
   "metadata": {},
   "source": [
    "#### In Python, tuples are immutable, which means once created, their elements cannot be changed, added, or removed."
   ]
  },
  {
   "cell_type": "markdown",
   "id": "87315b54-f64b-4384-8c19-255246e9c385",
   "metadata": {},
   "source": [
    "### 🔸 Example: Attempting to Modify a Tuple"
   ]
  },
  {
   "cell_type": "markdown",
   "id": "92037467-7fad-4613-8847-453f9760190e",
   "metadata": {},
   "source": [
    "my_tuple = (10, 20, 30)\n",
    "my_tuple[1] = 99  # This will raise an error"
   ]
  },
  {
   "cell_type": "markdown",
   "id": "2a8cd0d8-2e20-4c5d-93f6-0ce81e16171d",
   "metadata": {},
   "source": [
    "### 🔸 However: Tuples Can Contain Mutable Elements"
   ]
  },
  {
   "cell_type": "code",
   "execution_count": 12,
   "id": "1c2e3386-ba22-4cc9-8915-5c5b134aee81",
   "metadata": {},
   "outputs": [
    {
     "name": "stdout",
     "output_type": "stream",
     "text": [
      "([99, 2], 3)\n"
     ]
    }
   ],
   "source": [
    "my_tuple = ([1, 2], 3)\n",
    "my_tuple[0][0] = 99  \n",
    "\n",
    "print(my_tuple)"
   ]
  },
  {
   "cell_type": "markdown",
   "id": "ca63a6b1-fa19-476f-af07-6e39ac5c9620",
   "metadata": {},
   "source": [
    "###### The tuple itself isn't changed, but the mutable object inside it (the list) is modified.\n",
    "###### This is an exception to keep in mind!"
   ]
  },
  {
   "cell_type": "markdown",
   "id": "b92f6bc6-8c50-496f-811c-68c849be8cda",
   "metadata": {},
   "source": [
    "### Conclusion"
   ]
  },
  {
   "cell_type": "code",
   "execution_count": null,
   "id": "2d466aaa-4eba-4eee-8603-ececf34cd8b5",
   "metadata": {},
   "outputs": [],
   "source": [
    "'''\n",
    " You cannot change the structure or values inside a tuple.\n",
    "\n",
    " You can modify mutable elements inside a tuple (like lists or dictionaries).\n",
    "\n",
    "Use tuples when you want to ensure the data remains unchanged.\n",
    "'''"
   ]
  },
  {
   "cell_type": "markdown",
   "id": "58f43b6b-4d06-4049-80a7-4dad16514db4",
   "metadata": {},
   "source": [
    "# 16. What is a nested dictionary, and give an example of its use case?"
   ]
  },
  {
   "cell_type": "markdown",
   "id": "16a98b0a-baa3-481e-84d1-4bbae3200659",
   "metadata": {},
   "source": [
    "### 🔹 What is a Nested Dictionary?"
   ]
  },
  {
   "cell_type": "markdown",
   "id": "c256abbb-3df0-4326-b93e-340bac30b4f3",
   "metadata": {},
   "source": [
    "#### A nested dictionary is a dictionary inside another dictionary.\n",
    "#### It allows you to organize complex data in a structured way using multiple layers of keys."
   ]
  },
  {
   "cell_type": "markdown",
   "id": "29dc642d-306a-4d1b-afbf-f84c21bc467b",
   "metadata": {},
   "source": [
    "### 🔸 Syntax Example"
   ]
  },
  {
   "cell_type": "code",
   "execution_count": 13,
   "id": "60e3d5cf-1f6b-4f6d-89c3-1f742ca7c1fe",
   "metadata": {},
   "outputs": [],
   "source": [
    "student_data = {\n",
    "    \"101\": {\n",
    "        \"name\": \"Alice\",\n",
    "        \"age\": 22,\n",
    "        \"courses\": [\"Math\", \"Physics\"]\n",
    "    },\n",
    "    \"102\": {\n",
    "        \"name\": \"Bob\",\n",
    "        \"age\": 23,\n",
    "        \"courses\": [\"Chemistry\", \"Biology\"]\n",
    "    }\n",
    "}\n"
   ]
  },
  {
   "cell_type": "markdown",
   "id": "7931b684-577c-40ea-824f-04864c33a4de",
   "metadata": {},
   "source": [
    "### 🔹 Use Case: Student Management System"
   ]
  },
  {
   "cell_type": "code",
   "execution_count": 14,
   "id": "07a39356-b84c-4560-b9ed-c0272560bd4b",
   "metadata": {},
   "outputs": [
    {
     "name": "stdout",
     "output_type": "stream",
     "text": [
      "23\n",
      "['Math', 'Physics', 'English']\n"
     ]
    }
   ],
   "source": [
    "# In a college database, you may want to store multiple students, each with their own set of attributes (name, age, subjects, etc.).\n",
    "\n",
    "\n",
    "print(student_data[\"102\"][\"age\"])  \n",
    "\n",
    "student_data[\"101\"][\"courses\"].append(\"English\")\n",
    "print(student_data[\"101\"][\"courses\"])  \n"
   ]
  },
  {
   "cell_type": "markdown",
   "id": "56aca2e5-b16d-470b-9999-ce5b1ae7df82",
   "metadata": {},
   "source": [
    "### Conclusion"
   ]
  },
  {
   "cell_type": "code",
   "execution_count": null,
   "id": "fd634175-9a04-4c7a-9a63-58a384de2b3e",
   "metadata": {},
   "outputs": [],
   "source": [
    "'''A nested dictionary is useful for managing hierarchical or grouped data.\n",
    "It keeps related info together and allows quick access and manipulation based on multiple levels of keys.\n",
    "'''"
   ]
  },
  {
   "cell_type": "markdown",
   "id": "27e96615-ff7a-47db-9032-f96c6bd3b5db",
   "metadata": {},
   "source": [
    "#  17. Describe the time complexity of accessing elements in a dictionary"
   ]
  },
  {
   "cell_type": "markdown",
   "id": "834ab7f7-9c08-4083-b579-3fdcf7d384e4",
   "metadata": {},
   "source": [
    "### 🔹 How Dictionary Access Works in Python"
   ]
  },
  {
   "cell_type": "markdown",
   "id": "85dacdc0-c61e-4040-a062-eaa83bc1e997",
   "metadata": {},
   "source": [
    "##### Python dictionaries use a hash table under the hood. This allows for very fast access to elements using keys."
   ]
  },
  {
   "cell_type": "markdown",
   "id": "01111d98-f4d8-4c56-96eb-25fd6cb3f377",
   "metadata": {},
   "source": [
    "### 🔸 Accessing an Element"
   ]
  },
  {
   "cell_type": "code",
   "execution_count": 15,
   "id": "2da71a0c-b81b-44fe-8536-a69915d251fe",
   "metadata": {},
   "outputs": [
    {
     "name": "stdout",
     "output_type": "stream",
     "text": [
      "Alice\n"
     ]
    }
   ],
   "source": [
    "employee = {\"id\": 101, \"name\": \"Alice\", \"dept\": \"HR\"}\n",
    "\n",
    "\n",
    "print(employee[\"name\"])  "
   ]
  },
  {
   "cell_type": "markdown",
   "id": "ebb6df66-fc62-41b6-9582-824b808d5175",
   "metadata": {},
   "source": [
    "###  Why Is It Fast?"
   ]
  },
  {
   "cell_type": "code",
   "execution_count": null,
   "id": "ef627d6e-bfaa-4138-be8c-334f41f7f67a",
   "metadata": {},
   "outputs": [],
   "source": [
    "'''\n",
    " Hashing gives a unique address (index) for each key.\n",
    "\n",
    " Lookup doesn't require scanning every item (like in lists).\n",
    "\n",
    " Python handles collisions efficiently with techniques like open addressing.\n",
    "'''"
   ]
  },
  {
   "cell_type": "markdown",
   "id": "791ebb8f-b53b-4d1f-ab57-63d8fb425755",
   "metadata": {},
   "source": [
    "# 18. In what situations are lists preferred over dictionaries?"
   ]
  },
  {
   "cell_type": "markdown",
   "id": "d80731c9-f76e-44a1-a11a-355362eaf8cb",
   "metadata": {},
   "source": [
    "### 🔹 When Are Lists a Better Choice?"
   ]
  },
  {
   "cell_type": "code",
   "execution_count": null,
   "id": "73efc6fe-3568-4470-93b7-9ca7b4566648",
   "metadata": {},
   "outputs": [],
   "source": [
    "'''\n",
    "Lists are ideal when you:\n",
    "\n",
    "Care about the order of elements\n",
    "\n",
    "Need to access elements by their position (index)\n",
    "\n",
    "Are working with sequences of values (not key-value pairs)\n",
    "\n",
    "Want to store duplicate values\n",
    "'''"
   ]
  },
  {
   "cell_type": "markdown",
   "id": "f2434b6b-4faa-492d-9d76-577bb3a64531",
   "metadata": {},
   "source": [
    "### 🔸 Example: Using a List"
   ]
  },
  {
   "cell_type": "code",
   "execution_count": 16,
   "id": "cd66bee4-e10d-40d8-86ca-fdeaffacbd77",
   "metadata": {},
   "outputs": [
    {
     "name": "stdout",
     "output_type": "stream",
     "text": [
      "bread\n"
     ]
    }
   ],
   "source": [
    "shopping_list = [\"milk\", \"bread\", \"eggs\", \"milk\"]\n",
    "print(shopping_list[1])  "
   ]
  },
  {
   "cell_type": "markdown",
   "id": "60721606-43d6-4903-861e-4dc76759d1a2",
   "metadata": {},
   "source": [
    "### 🔸 When to Use Lists Over Dictionaries"
   ]
  },
  {
   "cell_type": "markdown",
   "id": "0549bdac-d4be-4045-9149-11ce4c2faa5a",
   "metadata": {},
   "source": [
    "####  -> Use a list when you’re working with simple, ordered data and a dictionary when you need fast lookup or labeled fields."
   ]
  },
  {
   "cell_type": "markdown",
   "id": "05746d02-3f65-416e-b612-3f82dbcadc19",
   "metadata": {},
   "source": [
    "# 19. Why are dictionaries considered unordered, and how does that affect data retrieval?"
   ]
  },
  {
   "cell_type": "markdown",
   "id": "775f8fc7-0fb3-4c06-9314-7f9f3c7b2040",
   "metadata": {},
   "source": [
    "### 🔹 Historical Context: Dictionaries Were Unordered"
   ]
  },
  {
   "cell_type": "markdown",
   "id": "536f7cf5-3c13-47a7-a364-aa9257123b03",
   "metadata": {},
   "source": [
    "#### In versions of Python < 3.7, dictionaries did not preserve insertion order.This meant that when you added key-value pairs, the order could appear random during iteration."
   ]
  },
  {
   "cell_type": "code",
   "execution_count": 17,
   "id": "ee26475d-d9a8-4eb6-a872-4e6f62968206",
   "metadata": {},
   "outputs": [
    {
     "name": "stdout",
     "output_type": "stream",
     "text": [
      "{'a': 1, 'b': 2, 'c': 3}\n"
     ]
    }
   ],
   "source": [
    "# Python < 3.7\n",
    "my_dict = {\"a\": 1, \"b\": 2, \"c\": 3}\n",
    "print(my_dict)  "
   ]
  },
  {
   "cell_type": "markdown",
   "id": "9f4bf637-2931-4718-b114-35ed77f7c86d",
   "metadata": {},
   "source": [
    "### 🔹 How It Affects Data Retrieval"
   ]
  },
  {
   "cell_type": "code",
   "execution_count": 18,
   "id": "d55d115a-3ea3-41d3-82fe-1349d6eeae1d",
   "metadata": {},
   "outputs": [
    {
     "name": "stdout",
     "output_type": "stream",
     "text": [
      "HR\n"
     ]
    }
   ],
   "source": [
    "data = {\"name\": \"Alice\", \"age\": 25, \"dept\": \"HR\"}\n",
    "print(data[\"dept\"])  "
   ]
  },
  {
   "cell_type": "markdown",
   "id": "f5a4d1a4-b004-46c9-8c94-a1d6baf82c03",
   "metadata": {},
   "source": [
    "### 🔸 Key Point: Unordered ≠ Random Access"
   ]
  },
  {
   "cell_type": "code",
   "execution_count": null,
   "id": "41b86afc-488c-4e12-8595-b00a9bfdc1a3",
   "metadata": {},
   "outputs": [],
   "source": [
    "'''\n",
    "Dictionaries are unordered because:\n",
    "\n",
    "They're designed for fast key-based access\n",
    "\n",
    "They don't use index positions\n",
    "\n",
    "The order should not be used as logic, even if it looks consistent\n",
    "'''"
   ]
  },
  {
   "cell_type": "markdown",
   "id": "c5303e8e-3971-46f1-8fe5-72dddd408e09",
   "metadata": {},
   "source": [
    "###  Conclusion"
   ]
  },
  {
   "cell_type": "code",
   "execution_count": null,
   "id": "4cb1f5f8-47ed-48ff-a400-909ed3a52e96",
   "metadata": {},
   "outputs": [],
   "source": [
    "'''\n",
    "Dictionaries are unordered because they use a hash-based structure.\n",
    "\n",
    "This doesn’t affect value retrieval, since keys are used for direct access.\n",
    "\n",
    "If you care about order, you should not rely on dictionary iteration unless you're on Python 3.7+ and understand the risks.\n",
    "'''"
   ]
  },
  {
   "cell_type": "markdown",
   "id": "a0c4f5bd-545c-468d-8656-8e28f7bdc32c",
   "metadata": {},
   "source": [
    "# 20.  Explain the difference between a list and a dictionary in terms of data retrieval."
   ]
  },
  {
   "cell_type": "markdown",
   "id": "a50edf7d-20b6-4fa7-8b79-ad60d8ca8141",
   "metadata": {},
   "source": [
    "### 🔹 Data Retrieval in a List"
   ]
  },
  {
   "cell_type": "markdown",
   "id": "1f822200-6a12-46d3-aab9-d06f72aaba99",
   "metadata": {},
   "source": [
    "#### In a list, data is accessed by its index (position) in the sequence. Lists are ordered, meaning elements have a fixed position."
   ]
  },
  {
   "cell_type": "code",
   "execution_count": 20,
   "id": "180a0300-117e-43dc-9ce1-126515c86994",
   "metadata": {},
   "outputs": [
    {
     "name": "stdout",
     "output_type": "stream",
     "text": [
      "banana\n"
     ]
    }
   ],
   "source": [
    "my_list = [\"apple\", \"banana\", \"cherry\"]\n",
    "\n",
    "\n",
    "print(my_list[1])  "
   ]
  },
  {
   "cell_type": "markdown",
   "id": "0b7d9011-4c3e-40b1-aa98-d9348574c4d7",
   "metadata": {},
   "source": [
    "### 🔹 Data Retrieval in a Dictionary"
   ]
  },
  {
   "cell_type": "markdown",
   "id": "85a2b32b-f58a-4488-87df-d326d53b3e55",
   "metadata": {},
   "source": [
    "#### In a dictionary, data is accessed by key, not by position. Dictionaries are unordered (though they preserve insertion order in Python 3.7+). The data is stored as key-value pairs."
   ]
  },
  {
   "cell_type": "code",
   "execution_count": 21,
   "id": "41c7f61a-fb11-492f-9ede-2ad63657909f",
   "metadata": {},
   "outputs": [
    {
     "name": "stdout",
     "output_type": "stream",
     "text": [
      "25\n"
     ]
    }
   ],
   "source": [
    "my_dict = {\"name\": \"Alice\", \"age\": 25, \"dept\": \"HR\"}\n",
    "\n",
    "\n",
    "print(my_dict[\"age\"])  "
   ]
  },
  {
   "cell_type": "markdown",
   "id": "40f6b3aa-430b-46dc-9456-f759fec24ef7",
   "metadata": {},
   "source": [
    "### 🔸 When to Use Lists"
   ]
  },
  {
   "cell_type": "code",
   "execution_count": null,
   "id": "63318967-943a-4cd6-bcbf-7bb122ce495d",
   "metadata": {},
   "outputs": [],
   "source": [
    "'''\n",
    "Use a list when:\n",
    "\n",
    "You need to store a sequence of elements and maintain order.\n",
    "\n",
    "You need to access elements via their position in the sequence.\n",
    "\n",
    "You might have duplicate values.\n",
    "'''"
   ]
  },
  {
   "cell_type": "markdown",
   "id": "77f095a0-688f-4387-9101-acf71d39f6b6",
   "metadata": {},
   "source": [
    "### 🔸 When to Use Dictionaries"
   ]
  },
  {
   "cell_type": "code",
   "execution_count": null,
   "id": "39ea6e66-e5da-4bbf-a03b-a27db53c4a81",
   "metadata": {},
   "outputs": [],
   "source": [
    "'''\n",
    "Use a dictionary when:\n",
    "\n",
    "You need to store key-value pairs (mapping one thing to another).\n",
    "\n",
    "You need fast lookups using a unique key.\n",
    "\n",
    "Order doesn’t matter for retrieval (though it’s preserved in Python 3.7+).\n",
    "'''"
   ]
  },
  {
   "cell_type": "markdown",
   "id": "09871c70-0ff4-467c-90fc-52db68e8ea4d",
   "metadata": {},
   "source": [
    "###  Conclusion"
   ]
  },
  {
   "cell_type": "code",
   "execution_count": null,
   "id": "b9bdc65f-98cd-46d8-ae6d-42f051b10df0",
   "metadata": {},
   "outputs": [],
   "source": [
    "'''\n",
    "Lists are great for ordered collections where you care about the index.\n",
    "\n",
    "Dictionaries are ideal when you need key-value associations and fast access to values using unique keys.\n",
    "'''"
   ]
  },
  {
   "cell_type": "markdown",
   "id": "6d64cc3c-ab06-4e50-9392-efc8c2bf3d65",
   "metadata": {},
   "source": [
    "#                               -> Practical Questions <-"
   ]
  },
  {
   "cell_type": "markdown",
   "id": "ff8364a3-b649-4fd1-ad06-e4db678a9de0",
   "metadata": {},
   "source": [
    "============================================================================================================"
   ]
  },
  {
   "cell_type": "code",
   "execution_count": 62,
   "id": "7af89c00-b3c3-48ce-9522-2bfc5be3ec6a",
   "metadata": {},
   "outputs": [
    {
     "name": "stdout",
     "output_type": "stream",
     "text": [
      "Vishal <class 'str'>\n"
     ]
    }
   ],
   "source": [
    "# 1. Write a code to create a string with your name and print it\n",
    "\n",
    "name = \"Vishal\"\n",
    "print(name, type(name))"
   ]
  },
  {
   "cell_type": "code",
   "execution_count": 31,
   "id": "89198954-f3f8-46d9-bea1-b5f90d9fa650",
   "metadata": {},
   "outputs": [
    {
     "name": "stdout",
     "output_type": "stream",
     "text": [
      "11\n"
     ]
    }
   ],
   "source": [
    "# 2. Write a code to find the length of the string \"Hello World\"\n",
    "\n",
    "string = \"Hello world\"\n",
    "print(len(string))"
   ]
  },
  {
   "cell_type": "code",
   "execution_count": 32,
   "id": "d61a447b-b41d-46d4-8cd9-be11415c7234",
   "metadata": {},
   "outputs": [
    {
     "name": "stdout",
     "output_type": "stream",
     "text": [
      "Pyt\n"
     ]
    }
   ],
   "source": [
    "# 3. Write a code to slice the first 3 characters from the string \"Python Programming\"\n",
    "\n",
    "string= \"Python Programming\"\n",
    "print(string[:3])"
   ]
  },
  {
   "cell_type": "code",
   "execution_count": 34,
   "id": "aff5ab61-b452-4457-b679-21f7ba15ea97",
   "metadata": {},
   "outputs": [
    {
     "name": "stdout",
     "output_type": "stream",
     "text": [
      "HELLO\n"
     ]
    }
   ],
   "source": [
    "#4. Write a code to convert the string \"hello\" to uppercase\n",
    "\n",
    "string = \"hello\"\n",
    "print(string.upper())"
   ]
  },
  {
   "cell_type": "code",
   "execution_count": 38,
   "id": "8f00c3b0-7037-432e-8114-a10f15345fc0",
   "metadata": {},
   "outputs": [
    {
     "name": "stdout",
     "output_type": "stream",
     "text": [
      "I like orange\n"
     ]
    }
   ],
   "source": [
    "# 5. Write a code to replace the word \"apple\" with \"orange\" in the string \"I like apple\"\n",
    "\n",
    "string = \"I like apple\"\n",
    "new_string = string.replace(\"apple\",\"orange\")\n",
    "print(new_string)"
   ]
  },
  {
   "cell_type": "code",
   "execution_count": 63,
   "id": "930738ba-798c-4e1f-83f3-4c7626e6474c",
   "metadata": {},
   "outputs": [
    {
     "name": "stdout",
     "output_type": "stream",
     "text": [
      "[1, 2, 3, 4, 5] <class 'list'>\n"
     ]
    }
   ],
   "source": [
    "# 6. Write a code to create a list with numbers 1 to 5 and print it\n",
    "\n",
    "list1 = [1,2,3,4,5]\n",
    "print(list1,type(list1))"
   ]
  },
  {
   "cell_type": "code",
   "execution_count": 41,
   "id": "6f87afcb-b80e-40d2-93a2-22a78587c35d",
   "metadata": {},
   "outputs": [
    {
     "name": "stdout",
     "output_type": "stream",
     "text": [
      "[1, 2, 3, 4, 10]\n"
     ]
    }
   ],
   "source": [
    "# 7. Write a code to append the number 10 to the list [1, 2, 3, 4]\n",
    "\n",
    "list1 = [1,2,3,4]\n",
    "list1.append(10)\n",
    "print(list1)"
   ]
  },
  {
   "cell_type": "code",
   "execution_count": 43,
   "id": "59742b27-b14a-427e-9b34-1d6975187157",
   "metadata": {},
   "outputs": [
    {
     "name": "stdout",
     "output_type": "stream",
     "text": [
      "[1, 2, 4, 5]\n"
     ]
    }
   ],
   "source": [
    "# 8. Write a code to remove the number 3 from the list [1, 2, 3, 4, 5]\n",
    "\n",
    "list1 = [1,2,3,4,5]\n",
    "list1.remove(3)\n",
    "print(list1)"
   ]
  },
  {
   "cell_type": "code",
   "execution_count": 45,
   "id": "a16b6b50-f539-428d-97ce-8db16dcf025f",
   "metadata": {},
   "outputs": [
    {
     "name": "stdout",
     "output_type": "stream",
     "text": [
      "b\n"
     ]
    }
   ],
   "source": [
    "# 9 Write a code to access the second element in the list ['a', 'b', 'c', 'd']\n",
    "\n",
    "list1 = [\"a\",\"b\",\"c\",\"d\"]\n",
    "print(list1[1])"
   ]
  },
  {
   "cell_type": "code",
   "execution_count": 47,
   "id": "7e868378-9d7c-48ab-9573-b91e738220ad",
   "metadata": {},
   "outputs": [
    {
     "name": "stdout",
     "output_type": "stream",
     "text": [
      "[50, 40, 30, 20, 10]\n"
     ]
    }
   ],
   "source": [
    "# 10. Write a code to reverse the list [10, 20, 30, 40, 50].\n",
    "\n",
    "list1 = [10,20,30,40,50]\n",
    "list1.reverse()\n",
    "print(list1)"
   ]
  },
  {
   "cell_type": "code",
   "execution_count": 64,
   "id": "00277c32-32d5-4491-9b1b-815b44309068",
   "metadata": {},
   "outputs": [
    {
     "name": "stdout",
     "output_type": "stream",
     "text": [
      "(100, 200, 300) <class 'tuple'>\n"
     ]
    }
   ],
   "source": [
    "# 11.Write a code to create a tuple with the elements 100, 200, 300 and print it.\n",
    "\n",
    "tuple1 = (100,200,300)\n",
    "print(tuple1,type(tuple1))"
   ]
  },
  {
   "cell_type": "code",
   "execution_count": 52,
   "id": "8650213d-ce3a-4238-89f6-5da5323f28df",
   "metadata": {},
   "outputs": [
    {
     "name": "stdout",
     "output_type": "stream",
     "text": [
      "('green', 'blue', 'yellow')\n"
     ]
    }
   ],
   "source": [
    "# 12. Write a code to access the second-to-last element of the tuple ('red', 'green', 'blue', 'yellow').\n",
    "\n",
    "tuple1 = (\"red\",\"green\",\"blue\",\"yellow\")\n",
    "print(tuple1[1:])"
   ]
  },
  {
   "cell_type": "code",
   "execution_count": 54,
   "id": "17cbaa98-f7ad-46a7-9001-7a53d7f3408e",
   "metadata": {},
   "outputs": [
    {
     "name": "stdout",
     "output_type": "stream",
     "text": [
      "blue\n"
     ]
    }
   ],
   "source": [
    "# 12. Write a code to access the second last element of the tuple ('red', 'green', 'blue', 'yellow').\n",
    "\n",
    "tuple1 = (\"red\",\"green\",\"blue\",\"yellow\")\n",
    "print(tuple1[-2])"
   ]
  },
  {
   "cell_type": "code",
   "execution_count": 56,
   "id": "e692d80f-6d3f-4e76-b73d-46ee81bd8fa4",
   "metadata": {},
   "outputs": [
    {
     "name": "stdout",
     "output_type": "stream",
     "text": [
      "5\n"
     ]
    }
   ],
   "source": [
    "# 13. Write a code to find the minimum number in the tuple (10, 20, 5, 15).\n",
    "\n",
    "tuple1 = (10,20,5,15)\n",
    "print(min(tuple1))"
   ]
  },
  {
   "cell_type": "code",
   "execution_count": 58,
   "id": "e15ad5bb-635d-4933-a9f7-0651ed95688a",
   "metadata": {},
   "outputs": [
    {
     "name": "stdout",
     "output_type": "stream",
     "text": [
      "1\n"
     ]
    }
   ],
   "source": [
    "# 14. Write a code to find the index of the element \"cat\" in the tuple ('dog', 'cat', 'rabbit').\n",
    "\n",
    "tuple1 = (\"dog\",\"cat\",\"rabbit\")\n",
    "print(tuple1.index(\"cat\"))"
   ]
  },
  {
   "cell_type": "code",
   "execution_count": 60,
   "id": "127fd100-e4c9-48b6-a7a3-f1449b88e316",
   "metadata": {},
   "outputs": [
    {
     "name": "stdout",
     "output_type": "stream",
     "text": [
      "True\n"
     ]
    }
   ],
   "source": [
    "# 15. Write a code to create a tuple containing three different fruits and check if \"kiwi\" is in it.\n",
    "\n",
    "fruits = (\"apple\",\"kiwi\",\"banana\")\n",
    "print(\"kiwi\" in fruits)"
   ]
  },
  {
   "cell_type": "code",
   "execution_count": 65,
   "id": "c007ed01-3d7d-41ee-bb8a-f8fe89f49b7d",
   "metadata": {},
   "outputs": [
    {
     "name": "stdout",
     "output_type": "stream",
     "text": [
      "{'a', 'c', 'b'} <class 'set'>\n"
     ]
    }
   ],
   "source": [
    "# 16. Write a code to create a set with the elements 'a', 'b', 'c' and print it.\n",
    "\n",
    "set1 = {\"a\",\"b\",\"c\"}\n",
    "print(set1,type(set1))"
   ]
  },
  {
   "cell_type": "code",
   "execution_count": 68,
   "id": "9e98e2d1-4728-4a21-a206-a6766a066e64",
   "metadata": {},
   "outputs": [
    {
     "name": "stdout",
     "output_type": "stream",
     "text": [
      "set()\n"
     ]
    }
   ],
   "source": [
    "# 17. Write a code to clear all elements from the set {1, 2, 3, 4, 5}.\n",
    "\n",
    "set1 = {1,2,3,4,5}\n",
    "set1.clear()\n",
    "print(set1)"
   ]
  },
  {
   "cell_type": "code",
   "execution_count": 69,
   "id": "dc7a0b15-3a7b-466f-87ab-7beeeb130d16",
   "metadata": {},
   "outputs": [
    {
     "name": "stdout",
     "output_type": "stream",
     "text": [
      "{1, 2, 3}\n"
     ]
    }
   ],
   "source": [
    "# 18. Write a code to remove the element 4 from the set {1, 2, 3, 4}.\n",
    "\n",
    "set1 = {1,2,3,4}\n",
    "set1.remove(4)\n",
    "print(set1)"
   ]
  },
  {
   "cell_type": "code",
   "execution_count": 72,
   "id": "d1f8eb88-709b-432f-9f8f-fee4cb369831",
   "metadata": {},
   "outputs": [
    {
     "name": "stdout",
     "output_type": "stream",
     "text": [
      "{1, 2, 3, 4, 5}\n"
     ]
    }
   ],
   "source": [
    "# 19. Write a code to find the union of two sets {1, 2, 3} and {3, 4, 5}.\n",
    "\n",
    "set1 = {1,2,3}\n",
    "set2 = {3,4,5}\n",
    "\n",
    "union = set1 | set2\n",
    "print(union)"
   ]
  },
  {
   "cell_type": "code",
   "execution_count": 73,
   "id": "dd57fe28-af94-419a-b66f-7afed364991a",
   "metadata": {},
   "outputs": [
    {
     "name": "stdout",
     "output_type": "stream",
     "text": [
      "{2, 3}\n"
     ]
    }
   ],
   "source": [
    "# 20. Write a code to find the intersection of two sets {1, 2, 3} and {2, 3, 4}.\n",
    "\n",
    "set1 = {1,2,3}\n",
    "set2 = {2,3,4}\n",
    "\n",
    "intersection = set1 & set2\n",
    "print(intersection)"
   ]
  },
  {
   "cell_type": "code",
   "execution_count": 74,
   "id": "663a3dc4-6a96-44b3-90ca-aa0e96ca1c0d",
   "metadata": {},
   "outputs": [
    {
     "name": "stdout",
     "output_type": "stream",
     "text": [
      "{'name': 'Vishal', 'age': 27, 'city': 'jamnagar'} <class 'dict'>\n"
     ]
    }
   ],
   "source": [
    "# 21. Write a code to create a dictionary with the keys \"name\", \"age\", and \"city\", and print it.\n",
    "\n",
    "dict1 = {\"name\":\"Vishal\",\"age\":27,\"city\":\"jamnagar\"}\n",
    "print(dict1,type(dict1))"
   ]
  },
  {
   "cell_type": "code",
   "execution_count": 75,
   "id": "23fc4cc6-9ece-4cca-bec9-8ca8bf068147",
   "metadata": {},
   "outputs": [
    {
     "name": "stdout",
     "output_type": "stream",
     "text": [
      "{'name': 'john', 'age': 25, 'country': 'USA'}\n"
     ]
    }
   ],
   "source": [
    "# 22. Write a code to add a new key-value pair \"country\": \"USA\" to the dictionary {'name': 'John', 'age': 25}.\n",
    "\n",
    "dict2 = {\"name\":\"john\",\"age\":25}\n",
    "dict2[\"country\"] = \"USA\"\n",
    "print(dict2)"
   ]
  },
  {
   "cell_type": "code",
   "execution_count": 76,
   "id": "899a3639-3046-4cfc-97fc-38e7369e778d",
   "metadata": {},
   "outputs": [
    {
     "name": "stdout",
     "output_type": "stream",
     "text": [
      "Alice\n"
     ]
    }
   ],
   "source": [
    "# 23. Write a code to access the value associated with the key \"name\" in the dictionary {'name': 'Alice', 'age': 30}.\n",
    "\n",
    "dict3 = {\"name\":\"Alice\",\"age\":30}\n",
    "print(dict3[\"name\"])"
   ]
  },
  {
   "cell_type": "code",
   "execution_count": 81,
   "id": "cfe1d6d5-07d2-41d9-95c6-a8207c34c9d8",
   "metadata": {},
   "outputs": [
    {
     "name": "stdout",
     "output_type": "stream",
     "text": [
      "{'name': 'Bob', 'city': 'New York'}\n"
     ]
    }
   ],
   "source": [
    "# 24. Write a code to remove the key \"age\" from the dictionary {'name': 'Bob', 'age': 22, 'city': 'New York'}.\n",
    "dict4 = {\"name\": \"Bob\", \"age\": 22, \"city\": \"New York\"}\n",
    "del dict4[\"age\"]\n",
    "print(dict4)"
   ]
  },
  {
   "cell_type": "code",
   "execution_count": 83,
   "id": "27b18e45-3564-46e3-9f76-ab4077d6e145",
   "metadata": {},
   "outputs": [
    {
     "name": "stdout",
     "output_type": "stream",
     "text": [
      "True\n"
     ]
    }
   ],
   "source": [
    "# 25. Write a code to check if the key \"city\" exists in the dictionary {'name': 'Alice', 'city': 'Paris'}.\n",
    "dict5 = {\"name\":\"Alice\",\"city\":\"paris\"}\n",
    "print(\"city\" in dict5)"
   ]
  },
  {
   "cell_type": "code",
   "execution_count": 85,
   "id": "f7e7c9d5-5caa-4d8f-8cef-308b992a0606",
   "metadata": {},
   "outputs": [
    {
     "name": "stdout",
     "output_type": "stream",
     "text": [
      "[1, 2, 3]\n",
      "(4, 5, 6)\n",
      "{'no7': 7, 'no8': 8, 'no9': 9}\n"
     ]
    }
   ],
   "source": [
    "# 26. Write a code to create a list, a tuple, and a dictionary, and print them all.\n",
    "\n",
    "list1 = [1,2,3]\n",
    "tuple1 = (4,5,6)\n",
    "dict1 = {\"no7\":7,\"no8\":8,\"no9\":9}\n",
    "print(list1)\n",
    "print(tuple1)\n",
    "print(dict1)"
   ]
  },
  {
   "cell_type": "code",
   "execution_count": 89,
   "id": "f99d011c-8b02-41de-b8e8-ac6f2b3fcc42",
   "metadata": {},
   "outputs": [
    {
     "name": "stdout",
     "output_type": "stream",
     "text": [
      "[3, 5, 15, 68, 75]\n"
     ]
    }
   ],
   "source": [
    "# 27. Write a code to create a list of 5 random numbers between 1 and 100, sort it in ascending order, and print the result.(replaced)\n",
    "\n",
    "list1 = [5,68,15,75,3]\n",
    "list1.sort()\n",
    "print(list1)"
   ]
  },
  {
   "cell_type": "code",
   "execution_count": 90,
   "id": "5338514b-cc1a-4ae8-b5d2-bd07f50772ff",
   "metadata": {},
   "outputs": [
    {
     "name": "stdout",
     "output_type": "stream",
     "text": [
      "d\n"
     ]
    }
   ],
   "source": [
    "# 28. Write a code to create a list with strings and print the element at the third index.\n",
    "\n",
    "list1 = [\"a\",\"b\",\"c\",\"d\",\"e\",\"f\"]\n",
    "print(list1[3])"
   ]
  },
  {
   "cell_type": "code",
   "execution_count": 92,
   "id": "0949e425-ad6c-47ad-9652-456f5aa9c32c",
   "metadata": {},
   "outputs": [
    {
     "name": "stdout",
     "output_type": "stream",
     "text": [
      "{'name': 'Vishal', 'age': '27', 'country': 'India', 'city': 'Jamnagar'}\n"
     ]
    }
   ],
   "source": [
    "# 29. Write a code to combine two dictionaries into one and print the result.\n",
    "\n",
    "dict1 = {\"name\": \"Vishal\",\"age\":\"27\"}\n",
    "dict2 = {\"country\":\"India\",\"city\":\"Jamnagar\"}\n",
    "\n",
    "dict1.update(dict2)\n",
    "print(dict1)"
   ]
  },
  {
   "cell_type": "code",
   "execution_count": 99,
   "id": "ec83b397-9f10-4ca1-a2e3-35416e588fcd",
   "metadata": {},
   "outputs": [
    {
     "data": {
      "text/plain": [
       "set"
      ]
     },
     "execution_count": 99,
     "metadata": {},
     "output_type": "execute_result"
    }
   ],
   "source": [
    "# 30. Write a code to convert a list of strings into a set.\n",
    "\n",
    "list1 = [\"a\",\"b\",\"c\",\"d\"]\n",
    "my_set = set(list1)\n",
    "type(my_set)"
   ]
  }
 ],
 "metadata": {
  "kernelspec": {
   "display_name": "Python 3 (ipykernel)",
   "language": "python",
   "name": "python3"
  },
  "language_info": {
   "codemirror_mode": {
    "name": "ipython",
    "version": 3
   },
   "file_extension": ".py",
   "mimetype": "text/x-python",
   "name": "python",
   "nbconvert_exporter": "python",
   "pygments_lexer": "ipython3",
   "version": "3.12.7"
  }
 },
 "nbformat": 4,
 "nbformat_minor": 5
}
